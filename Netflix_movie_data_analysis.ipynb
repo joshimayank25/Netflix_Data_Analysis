{
 "cells": [
  {
   "cell_type": "markdown",
   "id": "58d02b3e-48d0-440b-8fa4-54bda913d6e0",
   "metadata": {},
   "source": [
    "# ***Netflix Movie Data Analysis***"
   ]
  },
  {
   "cell_type": "code",
   "execution_count": 1,
   "id": "71a380ad-1a7f-4a51-b707-047b0840dde3",
   "metadata": {},
   "outputs": [],
   "source": [
    "# Importing Lib\n",
    "\n",
    "import numpy as np\n",
    "import pandas as pd\n",
    "import matplotlib.pyplot as plt\n",
    "import seaborn as sns"
   ]
  },
  {
   "cell_type": "code",
   "execution_count": 2,
   "id": "ca7f13a8-306f-4af0-835c-8a1d2e4cb804",
   "metadata": {},
   "outputs": [
    {
     "data": {
      "text/html": [
       "<div>\n",
       "<style scoped>\n",
       "    .dataframe tbody tr th:only-of-type {\n",
       "        vertical-align: middle;\n",
       "    }\n",
       "\n",
       "    .dataframe tbody tr th {\n",
       "        vertical-align: top;\n",
       "    }\n",
       "\n",
       "    .dataframe thead th {\n",
       "        text-align: right;\n",
       "    }\n",
       "</style>\n",
       "<table border=\"1\" class=\"dataframe\">\n",
       "  <thead>\n",
       "    <tr style=\"text-align: right;\">\n",
       "      <th></th>\n",
       "      <th>Release_Date</th>\n",
       "      <th>Title</th>\n",
       "      <th>Overview</th>\n",
       "      <th>Popularity</th>\n",
       "      <th>Vote_Count</th>\n",
       "      <th>Vote_Average</th>\n",
       "      <th>Original_Language</th>\n",
       "      <th>Genre</th>\n",
       "      <th>Poster_Url\\r</th>\n",
       "    </tr>\n",
       "  </thead>\n",
       "  <tbody>\n",
       "    <tr>\n",
       "      <th>0</th>\n",
       "      <td>15-12-2021</td>\n",
       "      <td>Spider-Man: No Way Home</td>\n",
       "      <td>Peter Parker is unmasked and no longer able to...</td>\n",
       "      <td>5083.954</td>\n",
       "      <td>8940.0</td>\n",
       "      <td>8.3</td>\n",
       "      <td>en</td>\n",
       "      <td>Action, Adventure, Science Fiction</td>\n",
       "      <td>https://image.tmdb.org/t/p/original/1g0dhYtq4i...</td>\n",
       "    </tr>\n",
       "    <tr>\n",
       "      <th>1</th>\n",
       "      <td>01-03-2022</td>\n",
       "      <td>The Batman</td>\n",
       "      <td>In his second year of fighting crime, Batman u...</td>\n",
       "      <td>3827.658</td>\n",
       "      <td>1151.0</td>\n",
       "      <td>8.1</td>\n",
       "      <td>en</td>\n",
       "      <td>Crime, Mystery, Thriller</td>\n",
       "      <td>https://image.tmdb.org/t/p/original/74xTEgt7R3...</td>\n",
       "    </tr>\n",
       "    <tr>\n",
       "      <th>2</th>\n",
       "      <td>25-02-2022</td>\n",
       "      <td>No Exit</td>\n",
       "      <td>Stranded at a rest stop in the mountains durin...</td>\n",
       "      <td>2618.087</td>\n",
       "      <td>122.0</td>\n",
       "      <td>6.3</td>\n",
       "      <td>en</td>\n",
       "      <td>Thriller</td>\n",
       "      <td>https://image.tmdb.org/t/p/original/vDHsLnOWKl...</td>\n",
       "    </tr>\n",
       "    <tr>\n",
       "      <th>3</th>\n",
       "      <td>24-11-2021</td>\n",
       "      <td>Encanto</td>\n",
       "      <td>The tale of an extraordinary family, the Madri...</td>\n",
       "      <td>2402.201</td>\n",
       "      <td>5076.0</td>\n",
       "      <td>7.7</td>\n",
       "      <td>en</td>\n",
       "      <td>Animation, Comedy, Family, Fantasy</td>\n",
       "      <td>https://image.tmdb.org/t/p/original/4j0PNHkMr5...</td>\n",
       "    </tr>\n",
       "    <tr>\n",
       "      <th>4</th>\n",
       "      <td>22-12-2021</td>\n",
       "      <td>The King's Man</td>\n",
       "      <td>As a collection of history's worst tyrants and...</td>\n",
       "      <td>1895.511</td>\n",
       "      <td>1793.0</td>\n",
       "      <td>7.0</td>\n",
       "      <td>en</td>\n",
       "      <td>Action, Adventure, Thriller, War</td>\n",
       "      <td>https://image.tmdb.org/t/p/original/aq4Pwv5Xeu...</td>\n",
       "    </tr>\n",
       "  </tbody>\n",
       "</table>\n",
       "</div>"
      ],
      "text/plain": [
       "  Release_Date                    Title  \\\n",
       "0   15-12-2021  Spider-Man: No Way Home   \n",
       "1   01-03-2022               The Batman   \n",
       "2   25-02-2022                  No Exit   \n",
       "3   24-11-2021                  Encanto   \n",
       "4   22-12-2021           The King's Man   \n",
       "\n",
       "                                            Overview  Popularity  Vote_Count  \\\n",
       "0  Peter Parker is unmasked and no longer able to...    5083.954      8940.0   \n",
       "1  In his second year of fighting crime, Batman u...    3827.658      1151.0   \n",
       "2  Stranded at a rest stop in the mountains durin...    2618.087       122.0   \n",
       "3  The tale of an extraordinary family, the Madri...    2402.201      5076.0   \n",
       "4  As a collection of history's worst tyrants and...    1895.511      1793.0   \n",
       "\n",
       "   Vote_Average Original_Language                               Genre  \\\n",
       "0           8.3                en  Action, Adventure, Science Fiction   \n",
       "1           8.1                en            Crime, Mystery, Thriller   \n",
       "2           6.3                en                            Thriller   \n",
       "3           7.7                en  Animation, Comedy, Family, Fantasy   \n",
       "4           7.0                en    Action, Adventure, Thriller, War   \n",
       "\n",
       "                                        Poster_Url\\r  \n",
       "0  https://image.tmdb.org/t/p/original/1g0dhYtq4i...  \n",
       "1  https://image.tmdb.org/t/p/original/74xTEgt7R3...  \n",
       "2  https://image.tmdb.org/t/p/original/vDHsLnOWKl...  \n",
       "3  https://image.tmdb.org/t/p/original/4j0PNHkMr5...  \n",
       "4  https://image.tmdb.org/t/p/original/aq4Pwv5Xeu...  "
      ]
     },
     "execution_count": 2,
     "metadata": {},
     "output_type": "execute_result"
    }
   ],
   "source": [
    "# Importing Data_set\n",
    "\n",
    "df = pd.read_csv('Netflix_2024_Dataset.csv', lineterminator = '\\n')\n",
    "df.head()"
   ]
  },
  {
   "cell_type": "code",
   "execution_count": 3,
   "id": "241c0bda-d9e7-4f85-abcc-25b00b7a5817",
   "metadata": {},
   "outputs": [
    {
     "name": "stdout",
     "output_type": "stream",
     "text": [
      "<class 'pandas.core.frame.DataFrame'>\n",
      "RangeIndex: 9827 entries, 0 to 9826\n",
      "Data columns (total 9 columns):\n",
      " #   Column             Non-Null Count  Dtype  \n",
      "---  ------             --------------  -----  \n",
      " 0   Release_Date       9827 non-null   object \n",
      " 1   Title              9827 non-null   object \n",
      " 2   Overview           9827 non-null   object \n",
      " 3   Popularity         9826 non-null   float64\n",
      " 4   Vote_Count         9826 non-null   float64\n",
      " 5   Vote_Average       9826 non-null   float64\n",
      " 6   Original_Language  9826 non-null   object \n",
      " 7   Genre              9826 non-null   object \n",
      "        9827 non-null   object \n",
      "dtypes: float64(3), object(6)\n",
      "memory usage: 691.1+ KB\n"
     ]
    }
   ],
   "source": [
    "df.info()"
   ]
  },
  {
   "cell_type": "code",
   "execution_count": 4,
   "id": "e641fe7b-82a8-44c3-9d9a-d03e74c5273f",
   "metadata": {},
   "outputs": [
    {
     "name": "stdout",
     "output_type": "stream",
     "text": [
      "datetime64[ns]\n"
     ]
    },
    {
     "name": "stderr",
     "output_type": "stream",
     "text": [
      "C:\\Users\\Series\\AppData\\Local\\Temp\\ipykernel_8536\\1272227401.py:3: UserWarning: Parsing dates in %d-%m-%Y format when dayfirst=False (the default) was specified. Pass `dayfirst=True` or specify a format to silence this warning.\n",
      "  df['Release_Date'] = pd.to_datetime(df['Release_Date'])\n"
     ]
    }
   ],
   "source": [
    "# Changing datatype of column A\n",
    "\n",
    "df['Release_Date'] = pd.to_datetime(df['Release_Date'])\n",
    "print(df['Release_Date'].dtypes)"
   ]
  },
  {
   "cell_type": "code",
   "execution_count": 5,
   "id": "4643843d-1a16-4a11-ab7a-7b6d4ead3712",
   "metadata": {},
   "outputs": [
    {
     "data": {
      "text/plain": [
       "0"
      ]
     },
     "execution_count": 5,
     "metadata": {},
     "output_type": "execute_result"
    }
   ],
   "source": [
    "# Checking for Duplicated Rows\n",
    "\n",
    "df.duplicated().sum()"
   ]
  },
  {
   "cell_type": "code",
   "execution_count": 6,
   "id": "c8aff3c9-60d6-442e-af3d-a83bc44737b9",
   "metadata": {},
   "outputs": [
    {
     "data": {
      "text/html": [
       "<div>\n",
       "<style scoped>\n",
       "    .dataframe tbody tr th:only-of-type {\n",
       "        vertical-align: middle;\n",
       "    }\n",
       "\n",
       "    .dataframe tbody tr th {\n",
       "        vertical-align: top;\n",
       "    }\n",
       "\n",
       "    .dataframe thead th {\n",
       "        text-align: right;\n",
       "    }\n",
       "</style>\n",
       "<table border=\"1\" class=\"dataframe\">\n",
       "  <thead>\n",
       "    <tr style=\"text-align: right;\">\n",
       "      <th></th>\n",
       "      <th>Release_Date</th>\n",
       "      <th>Popularity</th>\n",
       "      <th>Vote_Count</th>\n",
       "      <th>Vote_Average</th>\n",
       "    </tr>\n",
       "  </thead>\n",
       "  <tbody>\n",
       "    <tr>\n",
       "      <th>count</th>\n",
       "      <td>9827</td>\n",
       "      <td>9826.000000</td>\n",
       "      <td>9826.000000</td>\n",
       "      <td>9826.000000</td>\n",
       "    </tr>\n",
       "    <tr>\n",
       "      <th>mean</th>\n",
       "      <td>2006-09-23 11:05:51.317798144</td>\n",
       "      <td>40.323951</td>\n",
       "      <td>1392.943721</td>\n",
       "      <td>6.439467</td>\n",
       "    </tr>\n",
       "    <tr>\n",
       "      <th>min</th>\n",
       "      <td>1902-04-17 00:00:00</td>\n",
       "      <td>13.354000</td>\n",
       "      <td>0.000000</td>\n",
       "      <td>0.000000</td>\n",
       "    </tr>\n",
       "    <tr>\n",
       "      <th>25%</th>\n",
       "      <td>2000-10-18 00:00:00</td>\n",
       "      <td>16.128250</td>\n",
       "      <td>146.000000</td>\n",
       "      <td>5.900000</td>\n",
       "    </tr>\n",
       "    <tr>\n",
       "      <th>50%</th>\n",
       "      <td>2011-09-13 00:00:00</td>\n",
       "      <td>21.195000</td>\n",
       "      <td>444.000000</td>\n",
       "      <td>6.500000</td>\n",
       "    </tr>\n",
       "    <tr>\n",
       "      <th>75%</th>\n",
       "      <td>2017-11-22 00:00:00</td>\n",
       "      <td>35.179250</td>\n",
       "      <td>1376.000000</td>\n",
       "      <td>7.100000</td>\n",
       "    </tr>\n",
       "    <tr>\n",
       "      <th>max</th>\n",
       "      <td>2024-07-03 00:00:00</td>\n",
       "      <td>5083.954000</td>\n",
       "      <td>31077.000000</td>\n",
       "      <td>10.000000</td>\n",
       "    </tr>\n",
       "    <tr>\n",
       "      <th>std</th>\n",
       "      <td>NaN</td>\n",
       "      <td>108.879332</td>\n",
       "      <td>2611.303856</td>\n",
       "      <td>1.129797</td>\n",
       "    </tr>\n",
       "  </tbody>\n",
       "</table>\n",
       "</div>"
      ],
      "text/plain": [
       "                        Release_Date   Popularity    Vote_Count  Vote_Average\n",
       "count                           9827  9826.000000   9826.000000   9826.000000\n",
       "mean   2006-09-23 11:05:51.317798144    40.323951   1392.943721      6.439467\n",
       "min              1902-04-17 00:00:00    13.354000      0.000000      0.000000\n",
       "25%              2000-10-18 00:00:00    16.128250    146.000000      5.900000\n",
       "50%              2011-09-13 00:00:00    21.195000    444.000000      6.500000\n",
       "75%              2017-11-22 00:00:00    35.179250   1376.000000      7.100000\n",
       "max              2024-07-03 00:00:00  5083.954000  31077.000000     10.000000\n",
       "std                              NaN   108.879332   2611.303856      1.129797"
      ]
     },
     "execution_count": 6,
     "metadata": {},
     "output_type": "execute_result"
    }
   ],
   "source": [
    "# Exploring Summary Statistics\n",
    "\n",
    "df.describe()"
   ]
  },
  {
   "cell_type": "code",
   "execution_count": 7,
   "id": "a8407e7a-995b-48b1-b5b9-37aabdba170e",
   "metadata": {},
   "outputs": [
    {
     "data": {
      "text/plain": [
       "0       Action, Adventure, Science Fiction\n",
       "1                 Crime, Mystery, Thriller\n",
       "2                                 Thriller\n",
       "3       Animation, Comedy, Family, Fantasy\n",
       "4         Action, Adventure, Thriller, War\n",
       "                       ...                \n",
       "9822                          Drama, Crime\n",
       "9823                                Horror\n",
       "9824             Mystery, Thriller, Horror\n",
       "9825                 Music, Drama, History\n",
       "9826           War, Drama, Science Fiction\n",
       "Name: Genre, Length: 9827, dtype: object"
      ]
     },
     "execution_count": 7,
     "metadata": {},
     "output_type": "execute_result"
    }
   ],
   "source": [
    "df['Genre']"
   ]
  },
  {
   "cell_type": "code",
   "execution_count": 8,
   "id": "cb97b22d-876b-4bc9-a89f-4c70c0670879",
   "metadata": {},
   "outputs": [
    {
     "data": {
      "text/plain": [
       "dtype('int32')"
      ]
     },
     "execution_count": 8,
     "metadata": {},
     "output_type": "execute_result"
    }
   ],
   "source": [
    "df['Release_Date'] = df['Release_Date'].dt.year\n",
    "df['Release_Date'].dtypes"
   ]
  },
  {
   "cell_type": "markdown",
   "id": "bbb6e070-fec5-4b9a-a1f7-b43be84afcb3",
   "metadata": {},
   "source": [
    "# *Dropping lists from data set*"
   ]
  },
  {
   "cell_type": "code",
   "execution_count": 9,
   "id": "fe0c0d4c-8d6a-4b17-8ae4-f02a3f8067c1",
   "metadata": {},
   "outputs": [],
   "source": [
    "# Making list of column to be dropped\n",
    "\n",
    "cols = ['Overview', 'Original_Language', 'Poster_Url\\r']"
   ]
  },
  {
   "cell_type": "code",
   "execution_count": 10,
   "id": "e24eb5ad-a386-4c2b-9d27-e9659acd661d",
   "metadata": {},
   "outputs": [
    {
     "data": {
      "text/plain": [
       "Index(['Release_Date', 'Title', 'Popularity', 'Vote_Count', 'Vote_Average',\n",
       "       'Genre'],\n",
       "      dtype='object')"
      ]
     },
     "execution_count": 10,
     "metadata": {},
     "output_type": "execute_result"
    }
   ],
   "source": [
    "# dropping columns and confirming changes\n",
    "\n",
    "df.drop(cols, axis = 1, inplace = True)\n",
    "df.columns"
   ]
  },
  {
   "cell_type": "code",
   "execution_count": 11,
   "id": "011b5089-42e2-47ca-bb63-504937810415",
   "metadata": {},
   "outputs": [
    {
     "data": {
      "text/html": [
       "<div>\n",
       "<style scoped>\n",
       "    .dataframe tbody tr th:only-of-type {\n",
       "        vertical-align: middle;\n",
       "    }\n",
       "\n",
       "    .dataframe tbody tr th {\n",
       "        vertical-align: top;\n",
       "    }\n",
       "\n",
       "    .dataframe thead th {\n",
       "        text-align: right;\n",
       "    }\n",
       "</style>\n",
       "<table border=\"1\" class=\"dataframe\">\n",
       "  <thead>\n",
       "    <tr style=\"text-align: right;\">\n",
       "      <th></th>\n",
       "      <th>Release_Date</th>\n",
       "      <th>Title</th>\n",
       "      <th>Popularity</th>\n",
       "      <th>Vote_Count</th>\n",
       "      <th>Vote_Average</th>\n",
       "      <th>Genre</th>\n",
       "    </tr>\n",
       "  </thead>\n",
       "  <tbody>\n",
       "    <tr>\n",
       "      <th>0</th>\n",
       "      <td>2021</td>\n",
       "      <td>Spider-Man: No Way Home</td>\n",
       "      <td>5083.954</td>\n",
       "      <td>8940.0</td>\n",
       "      <td>8.3</td>\n",
       "      <td>Action, Adventure, Science Fiction</td>\n",
       "    </tr>\n",
       "    <tr>\n",
       "      <th>1</th>\n",
       "      <td>2022</td>\n",
       "      <td>The Batman</td>\n",
       "      <td>3827.658</td>\n",
       "      <td>1151.0</td>\n",
       "      <td>8.1</td>\n",
       "      <td>Crime, Mystery, Thriller</td>\n",
       "    </tr>\n",
       "    <tr>\n",
       "      <th>2</th>\n",
       "      <td>2022</td>\n",
       "      <td>No Exit</td>\n",
       "      <td>2618.087</td>\n",
       "      <td>122.0</td>\n",
       "      <td>6.3</td>\n",
       "      <td>Thriller</td>\n",
       "    </tr>\n",
       "    <tr>\n",
       "      <th>3</th>\n",
       "      <td>2021</td>\n",
       "      <td>Encanto</td>\n",
       "      <td>2402.201</td>\n",
       "      <td>5076.0</td>\n",
       "      <td>7.7</td>\n",
       "      <td>Animation, Comedy, Family, Fantasy</td>\n",
       "    </tr>\n",
       "    <tr>\n",
       "      <th>4</th>\n",
       "      <td>2021</td>\n",
       "      <td>The King's Man</td>\n",
       "      <td>1895.511</td>\n",
       "      <td>1793.0</td>\n",
       "      <td>7.0</td>\n",
       "      <td>Action, Adventure, Thriller, War</td>\n",
       "    </tr>\n",
       "  </tbody>\n",
       "</table>\n",
       "</div>"
      ],
      "text/plain": [
       "   Release_Date                    Title  Popularity  Vote_Count  \\\n",
       "0          2021  Spider-Man: No Way Home    5083.954      8940.0   \n",
       "1          2022               The Batman    3827.658      1151.0   \n",
       "2          2022                  No Exit    2618.087       122.0   \n",
       "3          2021                  Encanto    2402.201      5076.0   \n",
       "4          2021           The King's Man    1895.511      1793.0   \n",
       "\n",
       "   Vote_Average                               Genre  \n",
       "0           8.3  Action, Adventure, Science Fiction  \n",
       "1           8.1            Crime, Mystery, Thriller  \n",
       "2           6.3                            Thriller  \n",
       "3           7.7  Animation, Comedy, Family, Fantasy  \n",
       "4           7.0    Action, Adventure, Thriller, War  "
      ]
     },
     "execution_count": 11,
     "metadata": {},
     "output_type": "execute_result"
    }
   ],
   "source": [
    "df.head()"
   ]
  },
  {
   "cell_type": "markdown",
   "id": "8e7f7232-3f7d-47af-b0b6-daab4aeb4cc6",
   "metadata": {},
   "source": [
    "# *Categorizing Vote Average column*\n",
    "\n",
    "*We would cut the Vote_Average values and make 4 categories: popular average below_avg not_popular to describe it more using catigorize_col() function provided above.*"
   ]
  },
  {
   "cell_type": "code",
   "execution_count": 12,
   "id": "df40aad2-22e3-4a1c-8b8c-40d05b590b54",
   "metadata": {},
   "outputs": [],
   "source": [
    " \"\"\"Categorises a certain column based on its quartiles\n",
    "\n",
    " Args:\n",
    " (df) df - dataframe we are proccesing\n",
    " (col) str - to be catigorized column's name\n",
    " (labels) list - list of labels from min to max\n",
    "\n",
    " Returns:\n",
    " (df) df - dataframe with the categorized col\"\"\"\n",
    "\n",
    " # Setting the edges to cut the column accordingly\n",
    "\n",
    "def catergorize_col(df, col, labels):\n",
    "    edges = [df[col].describe()['min'],\n",
    "             df[col].describe()['25%'],\n",
    "             df[col].describe()['50%'],\n",
    "             df[col].describe()['75%'],\n",
    "             df[col].describe()['max']]\n",
    "    df[col] = pd.cut(df[col], edges , labels = labels, duplicates = 'drop')\n",
    "    return df"
   ]
  },
  {
   "cell_type": "code",
   "execution_count": 13,
   "id": "062ea12c-b886-42eb-8a4b-4c5eb4528af0",
   "metadata": {},
   "outputs": [
    {
     "data": {
      "text/plain": [
       "['Hit', 'Below_Avg', 'Average', 'Flop', NaN]\n",
       "Categories (4, object): ['Flop' < 'Below_Avg' < 'Average' < 'Hit']"
      ]
     },
     "execution_count": 13,
     "metadata": {},
     "output_type": "execute_result"
    }
   ],
   "source": [
    "# Define labels for edges\n",
    "\n",
    "labels = ['Flop', 'Below_Avg', 'Average', 'Hit']\n",
    "\n",
    "# Categorize column based on labels and edges\n",
    "\n",
    "catergorize_col(df, 'Vote_Average', labels)\n",
    "\n",
    "# Confirming changes\n",
    "\n",
    "df['Vote_Average'].unique()"
   ]
  },
  {
   "cell_type": "code",
   "execution_count": 14,
   "id": "cc270408-8564-4dc0-97bb-7a145029b4e6",
   "metadata": {},
   "outputs": [
    {
     "data": {
      "text/html": [
       "<div>\n",
       "<style scoped>\n",
       "    .dataframe tbody tr th:only-of-type {\n",
       "        vertical-align: middle;\n",
       "    }\n",
       "\n",
       "    .dataframe tbody tr th {\n",
       "        vertical-align: top;\n",
       "    }\n",
       "\n",
       "    .dataframe thead th {\n",
       "        text-align: right;\n",
       "    }\n",
       "</style>\n",
       "<table border=\"1\" class=\"dataframe\">\n",
       "  <thead>\n",
       "    <tr style=\"text-align: right;\">\n",
       "      <th></th>\n",
       "      <th>Release_Date</th>\n",
       "      <th>Title</th>\n",
       "      <th>Popularity</th>\n",
       "      <th>Vote_Count</th>\n",
       "      <th>Vote_Average</th>\n",
       "      <th>Genre</th>\n",
       "    </tr>\n",
       "  </thead>\n",
       "  <tbody>\n",
       "    <tr>\n",
       "      <th>0</th>\n",
       "      <td>2021</td>\n",
       "      <td>Spider-Man: No Way Home</td>\n",
       "      <td>5083.954</td>\n",
       "      <td>8940.0</td>\n",
       "      <td>Hit</td>\n",
       "      <td>Action, Adventure, Science Fiction</td>\n",
       "    </tr>\n",
       "    <tr>\n",
       "      <th>1</th>\n",
       "      <td>2022</td>\n",
       "      <td>The Batman</td>\n",
       "      <td>3827.658</td>\n",
       "      <td>1151.0</td>\n",
       "      <td>Hit</td>\n",
       "      <td>Crime, Mystery, Thriller</td>\n",
       "    </tr>\n",
       "    <tr>\n",
       "      <th>2</th>\n",
       "      <td>2022</td>\n",
       "      <td>No Exit</td>\n",
       "      <td>2618.087</td>\n",
       "      <td>122.0</td>\n",
       "      <td>Below_Avg</td>\n",
       "      <td>Thriller</td>\n",
       "    </tr>\n",
       "    <tr>\n",
       "      <th>3</th>\n",
       "      <td>2021</td>\n",
       "      <td>Encanto</td>\n",
       "      <td>2402.201</td>\n",
       "      <td>5076.0</td>\n",
       "      <td>Hit</td>\n",
       "      <td>Animation, Comedy, Family, Fantasy</td>\n",
       "    </tr>\n",
       "    <tr>\n",
       "      <th>4</th>\n",
       "      <td>2021</td>\n",
       "      <td>The King's Man</td>\n",
       "      <td>1895.511</td>\n",
       "      <td>1793.0</td>\n",
       "      <td>Average</td>\n",
       "      <td>Action, Adventure, Thriller, War</td>\n",
       "    </tr>\n",
       "  </tbody>\n",
       "</table>\n",
       "</div>"
      ],
      "text/plain": [
       "   Release_Date                    Title  Popularity  Vote_Count Vote_Average  \\\n",
       "0          2021  Spider-Man: No Way Home    5083.954      8940.0          Hit   \n",
       "1          2022               The Batman    3827.658      1151.0          Hit   \n",
       "2          2022                  No Exit    2618.087       122.0    Below_Avg   \n",
       "3          2021                  Encanto    2402.201      5076.0          Hit   \n",
       "4          2021           The King's Man    1895.511      1793.0      Average   \n",
       "\n",
       "                                Genre  \n",
       "0  Action, Adventure, Science Fiction  \n",
       "1            Crime, Mystery, Thriller  \n",
       "2                            Thriller  \n",
       "3  Animation, Comedy, Family, Fantasy  \n",
       "4    Action, Adventure, Thriller, War  "
      ]
     },
     "execution_count": 14,
     "metadata": {},
     "output_type": "execute_result"
    }
   ],
   "source": [
    "df.head()"
   ]
  },
  {
   "cell_type": "code",
   "execution_count": 15,
   "id": "08b5db08-3011-4309-b2d3-49cde0bf9ffc",
   "metadata": {},
   "outputs": [
    {
     "data": {
      "text/plain": [
       "Vote_Average\n",
       "Flop         2467\n",
       "Hit          2450\n",
       "Average      2411\n",
       "Below_Avg    2398\n",
       "Name: count, dtype: int64"
      ]
     },
     "execution_count": 15,
     "metadata": {},
     "output_type": "execute_result"
    }
   ],
   "source": [
    "# Exploring column\n",
    "\n",
    "df['Vote_Average'].value_counts()"
   ]
  },
  {
   "cell_type": "code",
   "execution_count": 16,
   "id": "ab4e4a1e-f2ff-45f1-a4f4-0ff42612add7",
   "metadata": {},
   "outputs": [
    {
     "data": {
      "text/plain": [
       "Release_Date      0\n",
       "Title             0\n",
       "Popularity        1\n",
       "Vote_Count        1\n",
       "Vote_Average    101\n",
       "Genre             1\n",
       "dtype: int64"
      ]
     },
     "execution_count": 16,
     "metadata": {},
     "output_type": "execute_result"
    }
   ],
   "source": [
    "df.isna().sum()"
   ]
  },
  {
   "cell_type": "code",
   "execution_count": 17,
   "id": "857aece0-20fe-4c64-8ff3-9e7b5ba5e356",
   "metadata": {},
   "outputs": [
    {
     "data": {
      "text/plain": [
       "Release_Date    0\n",
       "Title           0\n",
       "Popularity      0\n",
       "Vote_Count      0\n",
       "Vote_Average    0\n",
       "Genre           0\n",
       "dtype: int64"
      ]
     },
     "execution_count": 17,
     "metadata": {},
     "output_type": "execute_result"
    }
   ],
   "source": [
    "# Dropping NaNs\n",
    "\n",
    "df.dropna(inplace = True)\n",
    "\n",
    "# Confirming\n",
    "\n",
    "df.isna().sum()"
   ]
  },
  {
   "cell_type": "code",
   "execution_count": 18,
   "id": "22d74109-2e16-43c7-b146-5bb567d5a4d8",
   "metadata": {},
   "outputs": [
    {
     "data": {
      "text/html": [
       "<div>\n",
       "<style scoped>\n",
       "    .dataframe tbody tr th:only-of-type {\n",
       "        vertical-align: middle;\n",
       "    }\n",
       "\n",
       "    .dataframe tbody tr th {\n",
       "        vertical-align: top;\n",
       "    }\n",
       "\n",
       "    .dataframe thead th {\n",
       "        text-align: right;\n",
       "    }\n",
       "</style>\n",
       "<table border=\"1\" class=\"dataframe\">\n",
       "  <thead>\n",
       "    <tr style=\"text-align: right;\">\n",
       "      <th></th>\n",
       "      <th>Release_Date</th>\n",
       "      <th>Title</th>\n",
       "      <th>Popularity</th>\n",
       "      <th>Vote_Count</th>\n",
       "      <th>Vote_Average</th>\n",
       "      <th>Genre</th>\n",
       "    </tr>\n",
       "  </thead>\n",
       "  <tbody>\n",
       "    <tr>\n",
       "      <th>0</th>\n",
       "      <td>2021</td>\n",
       "      <td>Spider-Man: No Way Home</td>\n",
       "      <td>5083.954</td>\n",
       "      <td>8940.0</td>\n",
       "      <td>Hit</td>\n",
       "      <td>Action, Adventure, Science Fiction</td>\n",
       "    </tr>\n",
       "    <tr>\n",
       "      <th>1</th>\n",
       "      <td>2022</td>\n",
       "      <td>The Batman</td>\n",
       "      <td>3827.658</td>\n",
       "      <td>1151.0</td>\n",
       "      <td>Hit</td>\n",
       "      <td>Crime, Mystery, Thriller</td>\n",
       "    </tr>\n",
       "    <tr>\n",
       "      <th>2</th>\n",
       "      <td>2022</td>\n",
       "      <td>No Exit</td>\n",
       "      <td>2618.087</td>\n",
       "      <td>122.0</td>\n",
       "      <td>Below_Avg</td>\n",
       "      <td>Thriller</td>\n",
       "    </tr>\n",
       "    <tr>\n",
       "      <th>3</th>\n",
       "      <td>2021</td>\n",
       "      <td>Encanto</td>\n",
       "      <td>2402.201</td>\n",
       "      <td>5076.0</td>\n",
       "      <td>Hit</td>\n",
       "      <td>Animation, Comedy, Family, Fantasy</td>\n",
       "    </tr>\n",
       "    <tr>\n",
       "      <th>4</th>\n",
       "      <td>2021</td>\n",
       "      <td>The King's Man</td>\n",
       "      <td>1895.511</td>\n",
       "      <td>1793.0</td>\n",
       "      <td>Average</td>\n",
       "      <td>Action, Adventure, Thriller, War</td>\n",
       "    </tr>\n",
       "  </tbody>\n",
       "</table>\n",
       "</div>"
      ],
      "text/plain": [
       "   Release_Date                    Title  Popularity  Vote_Count Vote_Average  \\\n",
       "0          2021  Spider-Man: No Way Home    5083.954      8940.0          Hit   \n",
       "1          2022               The Batman    3827.658      1151.0          Hit   \n",
       "2          2022                  No Exit    2618.087       122.0    Below_Avg   \n",
       "3          2021                  Encanto    2402.201      5076.0          Hit   \n",
       "4          2021           The King's Man    1895.511      1793.0      Average   \n",
       "\n",
       "                                Genre  \n",
       "0  Action, Adventure, Science Fiction  \n",
       "1            Crime, Mystery, Thriller  \n",
       "2                            Thriller  \n",
       "3  Animation, Comedy, Family, Fantasy  \n",
       "4    Action, Adventure, Thriller, War  "
      ]
     },
     "execution_count": 18,
     "metadata": {},
     "output_type": "execute_result"
    }
   ],
   "source": [
    "df.head()"
   ]
  },
  {
   "cell_type": "markdown",
   "id": "87000fb4-0cf4-414c-bc5d-90669ed5abd1",
   "metadata": {},
   "source": [
    "# *Split*\n",
    "\n",
    "*I have split genres into a list and then exploded our dataframe to have only one genre per row for each movie.*"
   ]
  },
  {
   "cell_type": "code",
   "execution_count": 19,
   "id": "d542af6c-3d53-45e3-9dd2-62e110ddd90b",
   "metadata": {},
   "outputs": [
    {
     "data": {
      "text/html": [
       "<div>\n",
       "<style scoped>\n",
       "    .dataframe tbody tr th:only-of-type {\n",
       "        vertical-align: middle;\n",
       "    }\n",
       "\n",
       "    .dataframe tbody tr th {\n",
       "        vertical-align: top;\n",
       "    }\n",
       "\n",
       "    .dataframe thead th {\n",
       "        text-align: right;\n",
       "    }\n",
       "</style>\n",
       "<table border=\"1\" class=\"dataframe\">\n",
       "  <thead>\n",
       "    <tr style=\"text-align: right;\">\n",
       "      <th></th>\n",
       "      <th>Release_Date</th>\n",
       "      <th>Title</th>\n",
       "      <th>Popularity</th>\n",
       "      <th>Vote_Count</th>\n",
       "      <th>Vote_Average</th>\n",
       "      <th>Genre</th>\n",
       "    </tr>\n",
       "  </thead>\n",
       "  <tbody>\n",
       "    <tr>\n",
       "      <th>0</th>\n",
       "      <td>2021</td>\n",
       "      <td>Spider-Man: No Way Home</td>\n",
       "      <td>5083.954</td>\n",
       "      <td>8940.0</td>\n",
       "      <td>Hit</td>\n",
       "      <td>Action</td>\n",
       "    </tr>\n",
       "    <tr>\n",
       "      <th>1</th>\n",
       "      <td>2021</td>\n",
       "      <td>Spider-Man: No Way Home</td>\n",
       "      <td>5083.954</td>\n",
       "      <td>8940.0</td>\n",
       "      <td>Hit</td>\n",
       "      <td>Adventure</td>\n",
       "    </tr>\n",
       "    <tr>\n",
       "      <th>2</th>\n",
       "      <td>2021</td>\n",
       "      <td>Spider-Man: No Way Home</td>\n",
       "      <td>5083.954</td>\n",
       "      <td>8940.0</td>\n",
       "      <td>Hit</td>\n",
       "      <td>Science Fiction</td>\n",
       "    </tr>\n",
       "    <tr>\n",
       "      <th>3</th>\n",
       "      <td>2022</td>\n",
       "      <td>The Batman</td>\n",
       "      <td>3827.658</td>\n",
       "      <td>1151.0</td>\n",
       "      <td>Hit</td>\n",
       "      <td>Crime</td>\n",
       "    </tr>\n",
       "    <tr>\n",
       "      <th>4</th>\n",
       "      <td>2022</td>\n",
       "      <td>The Batman</td>\n",
       "      <td>3827.658</td>\n",
       "      <td>1151.0</td>\n",
       "      <td>Hit</td>\n",
       "      <td>Mystery</td>\n",
       "    </tr>\n",
       "  </tbody>\n",
       "</table>\n",
       "</div>"
      ],
      "text/plain": [
       "   Release_Date                    Title  Popularity  Vote_Count Vote_Average  \\\n",
       "0          2021  Spider-Man: No Way Home    5083.954      8940.0          Hit   \n",
       "1          2021  Spider-Man: No Way Home    5083.954      8940.0          Hit   \n",
       "2          2021  Spider-Man: No Way Home    5083.954      8940.0          Hit   \n",
       "3          2022               The Batman    3827.658      1151.0          Hit   \n",
       "4          2022               The Batman    3827.658      1151.0          Hit   \n",
       "\n",
       "             Genre  \n",
       "0           Action  \n",
       "1        Adventure  \n",
       "2  Science Fiction  \n",
       "3            Crime  \n",
       "4          Mystery  "
      ]
     },
     "execution_count": 19,
     "metadata": {},
     "output_type": "execute_result"
    }
   ],
   "source": [
    "# Split the Strings into lists\n",
    "\n",
    "df['Genre'] = df['Genre'].str.split(', ')\n",
    "\n",
    "# Explode the lists\n",
    "\n",
    "\n",
    "df = df.explode('Genre').reset_index(drop=True)\n",
    "df.head()"
   ]
  },
  {
   "cell_type": "code",
   "execution_count": 20,
   "id": "65dccf23-4082-43c9-973a-547b24ec2f92",
   "metadata": {},
   "outputs": [
    {
     "data": {
      "text/plain": [
       "CategoricalDtype(categories=['Action', 'Adventure', 'Animation', 'Comedy', 'Crime',\n",
       "                  'Documentary', 'Drama', 'Family', 'Fantasy', 'History',\n",
       "                  'Horror', 'Music', 'Mystery', 'Romance', 'Science Fiction',\n",
       "                  'TV Movie', 'Thriller', 'War', 'Western'],\n",
       ", ordered=False, categories_dtype=object)"
      ]
     },
     "execution_count": 20,
     "metadata": {},
     "output_type": "execute_result"
    }
   ],
   "source": [
    "# Casting column into Category\n",
    "\n",
    "df['Genre'] = df['Genre'].astype('category')\n",
    "\n",
    "# Confirming\n",
    "\n",
    "df['Genre'].dtypes"
   ]
  },
  {
   "cell_type": "code",
   "execution_count": 21,
   "id": "162cc3ff-f328-4c8f-b1e7-a5b164189fef",
   "metadata": {},
   "outputs": [
    {
     "name": "stdout",
     "output_type": "stream",
     "text": [
      "<class 'pandas.core.frame.DataFrame'>\n",
      "RangeIndex: 25551 entries, 0 to 25550\n",
      "Data columns (total 6 columns):\n",
      " #   Column        Non-Null Count  Dtype   \n",
      "---  ------        --------------  -----   \n",
      " 0   Release_Date  25551 non-null  int32   \n",
      " 1   Title         25551 non-null  object  \n",
      " 2   Popularity    25551 non-null  float64 \n",
      " 3   Vote_Count    25551 non-null  float64 \n",
      " 4   Vote_Average  25551 non-null  category\n",
      " 5   Genre         25551 non-null  category\n",
      "dtypes: category(2), float64(2), int32(1), object(1)\n",
      "memory usage: 749.6+ KB\n"
     ]
    }
   ],
   "source": [
    "df.info()"
   ]
  },
  {
   "cell_type": "code",
   "execution_count": 22,
   "id": "04653cff-0db6-4737-8b6d-49495fa7f372",
   "metadata": {},
   "outputs": [
    {
     "data": {
      "text/plain": [
       "'Spider-Man: No Way HomeThe BatmanNo ExitEncantoThe King\\'s ManThe CommandoScreamKimiFistful of VengeanceEternalsPursuitMy Hero Academia: World Heroes\\' MissionRestlessNightmare AlleyThe Ice Age Adventures of Buck WildHotel Transylvania: TransformaniaTexas Chainsaw MassacreThe RequinLooop LapetaRed NoticeSing 2The Jack in the Box: AwakeningVenom: Let There Be CarnageThe Matrix ResurrectionsResident Evil: Welcome to Raccoon CityLast Man DownAmerican SiegeUnchartedDemon Slayer -Kimetsu no Yaiba- The Movie: Mugen TrainGhostbusters: AfterlifeThe 355Shang-Chi and the Legend of the Ten RingsMarry MeThe HuntingWest Side StoryThrough My WindowThe Seven Deadly Sins: Cursed by LightOne ShotTom and Jerry: Cowboy Up!Chernobyl: AbyssDesperate RidersClifford the Big Red DogTyler Perry\\'s A Madea HomecomingThe Boss Baby: Family BusinessTurning RedBrazenThe HouseBlacklightRon\\'s Gone WrongFree GuyCruellaThe Suicide SquadThe Simpsons in PlusaversaryForgive Us Our TrespassesLucaMortal KombatZack Snyder\\'s Justice LeagueMother/AndroidExploits of a Young Don JuanDuneThe Last Warrior: Root of EvilThe PrivilegeQueen of SpadesAntlersDangerousAfter We FellNo Time to DieSooryavanshiFinchTwoPAW Patrol: The MovieAvengers: Infinity WarBatmanBlack WidowThe Wonderful Winter of Mickey MouseF9MoonfallSex, Shame and Tears 2Diary of a Wimpy KidAI Love YouEraxDeathstroke: Knights & Dragons - The MovieThe Last DuelThe Pirates: The Last Royal TreasureParanormal Activity: Next of KinHouse of GucciDark SpellJungle CruiseGodzilla vs. KongThe Amazing Spider-ManHeart ShotAvatarMobile Suit Gundam HathawayArmy of ThievesUFOThe Weekend AwayThe Croods: A New AgeBack to the OutbackThe Tomorrow WarHome TeamThe FalloutRaya and the Last DragonInfiniteWrath of ManFortressSpace Jam: A New LegacyLaura y el misterio del asesino inesperadoThe Conjuring: The Devil Made Me Do ItBatman BeginsThe Royal TreatmentCiao AlbertoGone Mom: The Disappearance of Jennifer DulosRipper UntoldMeanderZeros and OnesSnake Eyes: G.I. Joe OriginsSurvive the GameRiverdance: The Animated AdventureApexThe Tinder SwindlerLove TacticsThe Addams Family 2Dynasty WarriorsMiraculous World: Shanghai – The Legend of LadydragonMiraculous World: New York, United HeroeZSurviving Paradise: A Family TaleMy Hero Academia: Heroes RisingAminaEncounterSonWonder Woman 1984The Amazing Spider-Man 2The Whole TruthCatwoman: HuntedHacksaw RidgeCrazy FistHarry Potter and the Philosopher\\'s StoneThe AvengersDragon FuryTarumamaDoctor StrangeHalloween KillsThe Exorcism of GodSpider-Man: Far From HomeHarry Potter 20th Anniversary: Return to HogwartsAfter We CollidedThe Desperate HourDragon Ball Z: Resurrection \\'F\\'Seal TeamKnowingWitch HuntThe Maze RunnerThe UnholyAshfallThe Sky Is EverywhereTime Is UpThe Deep HouseBoruto: Naruto the MovieHarry Potter and the Chamber of SecretsSonic the HedgehogCocoAvaFuryDon\\'t Breathe 2Matando Cabos 2: La Máscara del MáscaraMonster HunterThe Last: Naruto the MovieSpider-Man: HomecomingBigbugSpider-ManAvengers: EndgameOldReal SteelLove and LeashesAfterThe Forever PurgeTall Girl 2DogI Am LegendNaruto Shippuden the MovieTom & JerryAgainst the IceAn Egg RescueHarry Potter and the Goblet of FirePretty Guardian Sailor Moon Eternal The Movie Part 2DemonicFar From the TreeBlack Water: AbyssYes, No, or Maybe Half?The SpongeBob Movie: Sponge on the RunSpider-Man: Into the Spider-VerseHarry Potter and the Prisoner of AzkabanThe VaultThe Adam ProjectDeadpoolThe Harder They FallMonsters, Inc.Ainbo: Spirit of the AmazonDon\\'t Look UpCars 3Spider-Man 3Last Shoot OutSatorIron Man 2SoulPirates of the Caribbean: On Stranger TidesPhobiasA Quiet Place Part IIWhat the Peeper SawThe Dark Knight RisesTrolls Holiday in HarmonyBatman v Superman: Dawn of JusticeMotherlyNobodyMy Hero Academia: Two HeroesHarry Potter and the Half-Blood PrinceBook of LoveJurassic HuntAmerican UnderdogThe Dark KnightJujutsu Kaisen 0Three Steps Above HeavenSinkholeUndisputed III: RedemptionToy StoryRoald Dahl\\'s The WitchesEl Paseo 6SeparationBrothersShrekJackass ForeverBig Hero 6Monster Pets: A Hotel Transylvania ShortOff CourseThe Hobbit: The Battle of the Five ArmiesMajor Grom: Plague DoctorMonster Family 2Gunpowder MilkshakeBeautiful Sisters: Flesh SlaveNarco SubHarry Potter and the Order of the PhoenixLegendStraight Outta Nowhere: Scooby-Doo! Meets Courage the Cowardly DogDescendants: The Royal WeddingFrozen IISwimMutation on MarsZone 414Harry Potter and the Deathly Hallows: Part 2Avengers: Age of UltronThor: RagnarokIt Chapter TwoThe Lion KingKing RichardLast Night in SohoBatman ReturnsThe Twilight Saga: EclipseWild IndianProject XThe ProtégéIda RedThe Haunting of HelenaVanguardPirates of the Caribbean: The Curse of the Black PearlThe Simpsons: The Good, the Bart, and the LokiThe MarksmanVicky and Her MysteryKonoSuba: God\\'s Blessing on this Wonderful World! Legend of Crimson7 Prisoners11MSeobok: Project CloneShrek 2Percy Jackson & the Olympians: The Lightning ThiefYour Name.Chief Daddy 2: Going for BrokeCaptain America: Civil WarJokerJack ReacherThe Invisible ThreadSAS: Red NoticeMulanI Want You BackPirates of the Caribbean: Dead Man\\'s ChestNinja AssassinThe Wolf of Wall StreetHilda and the Mountain KingRurouni Kenshin: The BeginningMinnal MuraliPokémon: Mewtwo Strikes Back - EvolutionFate/Grand Order Final Singularity – Grand Temple of Time: SolomonTeenage Mutant Ninja TurtlesFifty Shades of GreyNever Back Down: RevoltWish DragonIce AgeFast & Furious Presents: Hobbs & ShawToy Story 2Sweet GirlThe StrongholdSpirit UntamedTom Clancy\\'s Without RemorseHarry Potter and the Deathly Hallows: Part 1InjusticeNobody Sleeps in the Woods Tonight 2American BadgerEvangelion: 3.0+1.0 Thrice Upon a TimeLOL Surprise: The MovieCoralineHow I Became a SuperheroVenomThe Last MercenaryCars 2Downfall: The Case Against BoeingRatatouilleMickey and Minnie Wish Upon a ChristmasDragon Ball Z: Broly – The Legendary Super SaiyanDeath on the NileArmy of the DeadHome Sweet Home AloneCarriersBoyka: Undisputed IV2012Why Women CheatSingGreen LanternPeninsulaTed 2High School Teacher: MaturingWonder WomanA Day to DieCosmic SinPirates of the Caribbean: At World\\'s EndLegionRascal Does Not Dream of a Dreaming GirlPeter Rabbit 2: The RunawayDragon Ball Z: Battle of GodsMy Little Pony: A New GenerationRedemption DayJourney 2: The Mysterious IslandLove & Other DrugsThe King\\'s DaughterDeadpool 2The Fate of the FuriousHancockThe Hunger Games: Mockingjay - Part 1Dragon Ball Z: Broly – Second ComingThe ConjuringSweet & SourThe Belly of the SeaGrisaia: Phantom Trigger The AnimationFantastic Beasts and Where to Find ThemWorld War ZBarbie: Big City, Big DreamsTeen Titans Go! See Space JamJoltOnce Upon a SnowmanOutlawsMortal Kombat Legends: Battle of the RealmsRogue HostageFifty Shades FreedJiu JitsuCrank: High VoltageThe Lord of the Rings: The Fellowship of the RingThorSex and the CityMasqueradeThe Little MermaidMore the MerrierThe Exorcism of Carmen FariasTrain to BusanFrozenNaruto Shippuden the Movie: Road to NinjaInceptionGirl in the BasementThe ProposalGoblin Slayer: Goblin\\'s CrownCinderellaEl amarreThe HangoverCharlie and the Chocolate FactoryJurassic World: Fallen KingdomJohn Wick: Chapter 2Mamá o papáToy Story 4TwilightKingsman: The Secret ServiceThe UnforgivablePacific RimPAW Patrol: Jet To The RescueTitanicThe Hobbit: An Unexpected JourneyThe Conjuring 2Four to DinnerJack Reacher: Never Go BackBordertown: The Mural MurdersThe MisfitsAwakeDhamakaFight ClubMalignantThe Karate Kid¡Qué Despadre!Wrong TurnBlack PantherA Silent Voice: The MovieFinding NemoTaken 3The Lord of the Rings: The Return of the KingThe Texas Chainsaw MassacreVivoBatman: Death in the FamilyWeathering with YouThe IncrediblesComing 2 AmericaSpoiled BratsIron ManPlan AEscape Room: Tournament of ChampionsBatman & RobinAbraham Lincoln: Vampire HunterJurassic WorldAfter Porn Ends 2Rurouni Kenshin: The FinalNaruto Shippuden the Movie: Blood PrisonThe TripGrown UpsDragon Ball Z: Bio-BrolyPirates of the Caribbean: Dead Men Tell No TalesIce Age: Dawn of the DinosaursThe Penitent ThiefPokémon the Movie: Secrets of the JungleScooby-DooTangledIron Man 3The Last AirbenderCatch the BulletJumanji: The Next LevelFifty Shades DarkerThe Loud House MovieThe Secret to Be Told: Relationship With My AuntThis Is Not a ComedyFear Street: 1994Justice LeagueIncredibles 2Ready Player OneSnoopy Presents: For Auld Lang SyneScary MovieNo One Gets Out AliveInterstellarThe Lego Batman MoviePokémon Detective PikachuKateThe Chronicles of Narnia: The Lion, the Witch and the WardrobeThe Parent TrapBeauty and the BeastThe Pilgrim\\'s ProgressThor: The Dark WorldDragon Ball GT: A Hero\\'s LegacyThe Simpsons MovieJohn Wick: Chapter 3 - ParabellumLoganTransformers: Age of ExtinctionInside OutBad Boys for LifeVoyagersTerminator GenisysThe Lord of the Rings: The Two TowersParasiteThe Many Saints of NewarkCentral IntelligenceUpLaw Abiding CitizenThe ExpendablesFear Street: 1978Birds of Prey (and the Fantabulous Emancipation of One Harley Quinn)David and the ElvesPredatorsBody BrokersSkylinesFreshPorn to Be FreeSolitarySpiral: From the Book of SawKingsman: The Golden Circle22 vs. EarthFurious 7Guardians of the Galaxy Vol. 2Toy Story 3CagedHonest ThiefBattle: Los AngelesPonyoSpirited AwayNight in ParadiseDragon Ball Z: Cooler\\'s RevengeNo Manches Frida 2Please Enlighten MeSnow White and the Seven DwarfsPokémon the Movie: I Choose You!Captain MarvelThe Twilight Saga: Breaking Dawn - Part 2Maleficent: Mistress of EvilGrown Ups 2The TownZootopiaExtinctZack and Miri Make a PornoFatherhoodTrigger PointThe Hobbit: The Desolation of SmaugIce Age: Continental DriftAquaslashMan of SteelOutside the WireThe Texas Chainsaw Massacre: The BeginningMunich: The Edge of WarShrek the ThirdTerminator SalvationCall Me by Your NameWe Can Be HeroesSouthpawPenguins of MadagascarRed Shoes and the Seven DwarfsSan AndreasJohn CarterSpirit: Stallion of the CimarronAmerican Pie Presents: The Book of LoveDragon Ball Z: The Tree of MightThe Kissing Booth 3The CourierGivenThe Twilight Saga: Breaking Dawn - Part 1Into the WindMaleficentJust Go with ItWhite Chicks13 Hours: The Secret Soldiers of BenghaziSex TapeMaze Runner: The Scorch TrialsCorpse BridePsycho-Pass 3: First InspectorPalmerBelow ZeroMe Before YouBeckettBatman: The Long Halloween, Part TwoGhost Rider: Spirit of VengeanceShazam!I Want YouClash of the TitansWrong Turn 3: Left for DeadX-Men: ApocalypseTenetCirque du Freak: The Vampire\\'s AssistantGrudgeNext-Door NightmareTrollhunters: Rise of the TitansIce Age: The MeltdownThe MatrixThe MegDragon Ball Z: Bojack UnboundRalph Breaks the InternetCarsHidden FiguresTedThe 8th NightPrince of Persia: The Sands of TimeCreedCaptain America: The First AvengerBraveMadagascarChaos WalkingDragon Ball Z: Super Android 13!Life in a YearWreck-It RalphYu-Gi-Oh!: The Dark Side of DimensionsCome Play With MeNaruto Shippuden the Movie: The Lost TowerDawn of the Planet of the ApesNeed for SpeedBatman TechPublic EnemiesIn TimeRock Dog 2: Rock Around the ParkHotel Transylvania 3: Summer VacationDragon Ball Z: The Return of CoolerKoatiNo Manches FridaThe NunThe ShackA Forbidden OrangeBatman: The Long Halloween, Part OneFrom Straight A\\'s to XXXFall in Love at First KissTaken 2The GodfatherDragon Ball Z: The World\\'s StrongestMaze Runner: The Death CureThe Lion King II: Simba\\'s PrideTarzanDragon Ball Z: Wrath of the DragonAladdinWhispering Corridors 6: The HummingFantastic Beasts: The Crimes of GrindelwaldPrometheusOvercomerHellboyHow to Train Your Dragon: The Hidden WorldHotel TransylvaniaThe Island of Giant InsectsInglourious BasterdsStar WarsThe Passion of the ChristNightbooksSexoChristmas ...Again?!Monsters UniversityTransformers: The Last KnightRioThe GuestG.I. Joe: The Rise of CobraMad Max: Fury RoadThe King of FightersFramed by My HusbandPinocchioGodzilla: King of the MonstersA Bug\\'s LifeKung Fu PandaThe SpongeBob SquarePants MovieThe Hangover Part IIGarfieldHe\\'s All ThatTentaclesUncharted: Live Action Fan FilmX-Men: Days of Future PastDragon Ball Super: BrolyHowl\\'s Moving CastleIce Age: Collision CourseBatman ForeverLEGO Star Wars Terrifying TalesShrek Forever AfterThe IntouchablesThe Shawshank RedemptionAlita: Battle AngelShaun the Sheep: The Flight Before ChristmasThe Princess and the FrogAmerican SniperThe GentlemenLooking Back at it All: The Dragon Ball Z Year-End Show!HostSpace SweepersThe Emperor\\'s New GrooveDemon Slayer: Kimetsu no Yaiba Sibling\\'s BondStill Out of My LeagueThe French DispatchWrong Turn 2: Dead EndAnt-Man and the WaspThe EqualizerBartkowiakOrphanDinosaurKnock KnockThe CroodsBrother BearThe Power of the DogWe Bare Bears: The MovieBaywatchCreed IIBad TripTexas Chainsaw 3DAnt-ManGreenlandChappieAll the Bright PlacesHerculesScary Movie 2Pacific Rim: UprisingSpencerScary Movie 5La LloronaPower RangersNight TeethSaltTerminator: Dark FateWilly\\'s WonderlandHow to Train Your Dragon 2CODADespicable Me 2Anonymously YoursHow to Train Your DragonDragon Ball Z: Fusion Reborn100% WolfSex with LoveRide Your WaveSkyfallAngels & DemonsLet\\'s Be CopsConan the BarbarianEl meseroSaint Seiya Heaven Chapter: OvertureCandymanStand by Me DoraemonAquamanWarriorDespicable MeThe Twilight Saga: New MoonMachine Gun PreacherIn for a MurderAltered Carbon: ResleevedPornoLilo & StitchExodus: Gods and KingsThe ExperimentUniversal Soldier: RegenerationThere\\'s Someone Inside Your HouseDragon Ball Z Special 9 - Future Trunks SpecialThe Green MileDreamcatcherThe RemainingAmerican Reunion17 AgainThe ScientistThe GrinchA Taste of HungerThe Hangover Part IIISpecial ForcesAugust Never EndsI Want to Eat Your PancreasSentinelleNaruto Shippuden the Movie: The Will of FireEscape the UndertakerHow the Grinch Stole ChristmasStar Wars: The Rise of SkywalkerSucker PunchCell 211PixelsNo Sudden MoveBambiYes ManButchersThe ExorcistThe New MutantsTEKKENMickey\\'s Tale of Two WitchesEuphoriaDumboWerewolves WithinWrath of the TitansUnknownMegalodonThe Texas Chain Saw MassacreBatman: HushPhineas and Ferb: The Movie: Candace Against the UniverseAlice in WonderlandA Whisker AwayLulliThe Secret Life of Pets 2The VirtuosoAssassinsDragon Ball Z: Lord SlugUncle DrewFairy Tail: Dragon CryDinosaur HotelSaving Private RyanInsurgentNo Strings AttachedThe First PurgexXx: Return of Xander CageBlendedStar Wars: The Force AwakensBloodthirstySuicide SquadThe Seventh DayThe Good DinosaurSaint Seiya: Legend of SanctuaryAloneAmerica: The Motion PictureKong: Skull IslandZombielandAnnabelle Comes HomeJackie Chan Kung Fu MasterThinking XXXAttack on TitanMy Father\\'s ViolinMillonario sin amorTRON: LegacyGodzillaMen in Black 3DescendantsSleeping BeautySplitVanquishThe Tax CollectorDragon Ball Z: The Real 4-D at Super Tenkaichi BudokaiHansel & Gretel: Witch HuntersKabaneri of the Iron Fortress: The Battle of UnatoNew Gods: Nezha RebornThe Hunger Games: Mockingjay - Part 2Those Who Wish Me DeadA Boy Called ChristmasOne Hundred and One DalmatiansDragon Ball: Yo! Son Goku and His Friends Return!!The Kissing BoothNow You See MeThe Purge: Election YearLong Story ShortIs It Wrong to Try to Pick Up Girls in a Dungeon?: Arrow of the OrionA Haunted House22 Bullets101 DalmatiansThe Jungle BookItTrolls World TourVacation FriendsMission: Impossible - Ghost ProtocolThe Little ThingsTokyo GhoulJohn WickHotel Transylvania 2Jumanji: Welcome to the JungleA Walk Among the TombstonesUnderworld: AwakeningYoung and WildWild CardTune in for LoveThe Sorcerer and the White SnakeThe Funeral HomePeter PanStar Wars: The Last JediThe Book of LifeBumblebeeMaquia: When the Promised Flower BloomsBenny Loves YouLicorice PizzaThe Larva Island MovieFinding GraceBatman: The Killing JokeCountdownDon\\'t Be a Menace to South Central While Drinking Your Juice in the HoodStay Out of the AtticAlien: CovenantDivergentGeostormThe FluBaba Yaga: Terror of the Dark ForestFifty Shades of BlackThe Boy in the Striped PyjamasMiss Peregrine\\'s Home for Peculiar ChildrenThe King\\'s Avatar: For the GloryBlack IslandKung Fu Panda 3Tad, the Lost Explorer, and the Secret of King MidasMonkey King: Hero Is BackThat\\'s My BoyJustice Society: World War IIThe Fox and the Hound 2WALL·EFive Feet ApartBaby DriverBlitzSaga of Tanya the Evil: The MovieDescendants 3CherryHypnoticI See YouThe Tender BarThe Chronicles of Narnia: Prince CaspianParallel MothersThe GreyMadagascar 3: Europe\\'s Most WantedRambo: Last BloodThe MummyScoob!The Incredible HulkLucyThe Lost DaughterAnnabelle: CreationWar for the Planet of the ApesFerdinandThe Hitman\\'s BodyguardWrong Turn 5: BloodlinesKnight and DayCheese in the TrapThe Matrix RevolutionsStan HelsingWhite SnakeSkipping StonesWrong Turn 4: Bloody BeginningsThe PurgeGhostbustersTrinity Seven 2: Heaven\\'s Library & Crimson LordScream 4Viking QuestJonah HexRobin RobinNobody Sleeps in the Woods TonightDriveBlade Runner 2049Superman: DoomsdayDistrict 9The Angry Birds Movie 2A Nun\\'s CurseWhite House DownStar TrekTakenUpside-Down MagicOnwardThe PredatorMiracles from HeavenA Haunted House 2The MartianDespicable Me 3ChicuarotesI\\'m Not AshamedDjango UnchainedThe Ice RoadSeason of the WitchOlympus Has FallenTotal RecallBarbie as The Princess & the PauperBreachSuper 8Thunder ForceGod\\'s Not Dead: A Light in DarknessSingle All the WayAn Interview with GodFear of RainChild\\'s PlayRampageBarbie & Chelsea: The Lost BirthdayThe Matrix ReloadedFear Street: 1666The Mummy ReturnsHappy Halloween, Scooby-Doo!Safer at HomeDragon Ball Z: Bardock - The Father of GokuMadagascar: Escape 2 AfricaHappy FeetResort to LoveNight at the Museum: Secret of the TombSwan SongOdd ThomasI Love You, Beth CooperFat Ass ZombiesJoseph: King of DreamsGlassSuperbadConstantineCinderella II: Dreams Come TrueLolita12 RoundsGhost RiderPaulThe Equalizer 2The Nightmare Before ChristmasHow to Train Your Dragon: HomecomingWomenThe Warrior\\'s WayShadow in the CloudPain & GainThe Lion King 1½Scooby-Doo! The Sword and the ScoobThe Expendables 2Héctor El Father: Conocerás la verdadA Quiet PlacePhotocopierTom and Jerry: The Fast and the FurryDeep Blue Sea 3Bound by HonorThe Hunger Games: Catching FireRamboApocalyptoProject GeminiRed DotBohemian RhapsodyFord v FerrariSword Art Online: The Movie – Ordinal ScaleDesireRio 2Rambo: First Blood Part IIHome Alone 2: Lost in New YorkKung Fu Panda 2Bad Lieutenant: Port of Call - New OrleansThe Godfather: Part IIPerfume: The Story of a MurdererBlood Red SkyGemini ManDead Like Me: Life After DeathFeels Like EuphoriaThe NotebookCinderella III: A Twist in TimeDragon BladeThe VoyeursJupiter AscendingA Journal for JordanWild ChildCowboys & AliensReady or NotEl refugioHitman: Agent 47Beverly Hills Chihuahua 3: Viva la Fiesta!AnnabelleSherlock Holmes: A Game of ShadowsAmerican Pie 2Mary MagdaleneThe A-TeamThe Great WallGodmotheredCurious George: Go West, Go WildTitaneRobin HoodSecret Society of Second Born RoyalsBrothers by BloodKubo and the Two StringsTroyThe Hunger GamesHachi: A Dog\\'s TaleAmerican Pie Presents: The Naked MileAnnette22 Jump StreetCrisisSawSecret of the WingsThe Day Naruto Became HokageAmerican PieScream 2Independence Day: ResurgenceSicarioThe Purge: AnarchyChronicleInsidiousThe Ten CommandmentsSkylineThe HeatCats & Dogs 3: Paws UniteBride of ChuckyEdge of TomorrowThe Expendables 3PredestinationNow You See Me 2Jackass 3DDon\\'t BreatheThe PlatformLimitlessForrest GumpChemical HeartsMortal EnginesDark PhoenixBarbie as RapunzelBarbie: Princess AdventureDragon Ball Z: The History of TrunksUnderworld: Blood WarsStuart LittleMegamindSolo: A Star Wars StoryThe BanishingUnbroken: Path to RedemptionKnives OutMalenaSanctumConfessions of an Invisible GirlThe RentalA Classic Horror StoryI, RobotScarfaceShanghai FortressThe Mad HatterThe Devil Wears PradaAftermathNaruto Shippuden the Movie: BondsThe Walking DeadDear Evan HansenBoltMission: Impossible - FalloutUnder WrapsFireworksHummingbirdHK: Hentai Kamen 2 - Abnormal CrisisRumbleBatman: The Dark Knight Returns, Part 1Zombieland: Double TapRockyGiftedEscape RoomA un paso de míColombianaBoiling PointAnastasiaInsensateThe Craft: LegacyBig Mommas: Like Father, Like SonDescendants 2Death Race 2Straight Outta ComptonPreyFrozen FeverBack to the FutureThe Kids Are Alright: Destination AsturiasThe Magnificent SevenMoney Heist: The PhenomenonA Good Day to Die HardThe Marco EffectThe TouristIntrusionTerminator 2: Judgment DayThe Iron GiantFinal DestinationSausage PartyFinding \\'OhanaCorpus ChristiBenedettaThe Dinosaur ProjectSon of BatmanConfessions of a ShopaholicLife Is BeautifulInfidelity in SuburbiaLa CasaOver the MoonRise of the GuardiansJennifer\\'s BodyOne Piece Film: ZThe Mortal Instruments: City of BonesWe Are NothingUndercover Wedding CrashersIdiocracyPokémon the Movie: Volcanion and the Mechanical MarvelLady and the TrampPaul, Apostle of ChristNymphomaniac: Vol. IIHotel DesireCJ7Rise of the MummyBeverly Hills ChihuahuaScary Movie 3The AristocatsSoy leyendaAmerican Pie Presents: Girls\\' RulesSpy KidsCyranoUndisputed II: Last Man StandingBelleThe Legend of TarzanAvengers Confidential: Black Widow & PunisherLéon: The ProfessionalAwayCloudy with a Chance of Meatballs21 Jump Street101 Dalmatians II: Patch\\'s London AdventureScouts Guide to the Zombie ApocalypseBarbie: Princess Charm SchoolCity Under Siege300: Rise of an EmpireCouples RetreatSongbirdIndiana Jones and the Temple of DoomTo All the Boys I\\'ve Loved BeforeBee MovieWilly Wonka & the Chocolate FactoryWar DogsTwistBarbie in The 12 Dancing PrincessesGrumpy ChristmasAttack on Titan II: End of the WorldThe SpongeBob Movie: Sponge Out of WaterAlice Through the Looking GlassSpectreRed TailsCloudy with a Chance of Meatballs 2LockoutThe Wolf of Snow HollowGone GirlA Dog\\'s PurposeGladiatorPredatorAngel Has FallenFreddy vs. Jason9Due DatePorno UnpluggedFantasiaJack the Giant SlayerZog and the Flying DoctorsRangoHeaven Is for RealArrivalI Spit on Your GraveMamma Mia!PrisonersThe Final DestinationThe Sword in the StoneCarrietick, tick... BOOM!Batman: Soul of the DragonGuardians of the GalaxyAfter YangWolf ChildrenMiraiTrollsHappy Feet TwoBride WarsXico\\'s JourneyNaruto: Ninja Clash in the Land of SnowShark TaleThe Book of DanielThe Girl Next DoorCaptain America: The Winter SoldierFinal Destination 5Death Race: InfernoCencoroll ConnectBrian BanksSnowpiercerThe ShiningGo! Go! Cory Carson: Chrissy Takes the WheelEuropa ReportRogue One: A Star Wars StoryCasino RoyaleBatman & JesusAlvin and the Chipmunks: ChipwreckedThe Road to El DoradoIgorRed DawnBatman: The Dark Knight Returns, Part 213 AssassinsPearl HarborRay Donovan: The MovieBreathlessScary Movie 4The MaskNever Back Down: No SurrenderAmerican Pie Presents: Beta HouseThe Kissing Booth 2Hitman\\'s Wife\\'s BodyguardHouse of Wax6 UndergroundFinal Destination 3Ocean\\'s EightNocturnal AnimalsJust Say YesRise of the Planet of the ApesThe Call of the WildNightcrawlerMonster HouseInsidious: The Last KeyPets UnitedSlateAlvin and the ChipmunksJust a Breath Away28 Days LaterThe Wizard of OzAfter EarthNorbitThe Boy and the BeastDirty GrandpaThe Lion Guard: Return of the RoarThe Emoji MovieOne Piece Film: GOLDRocky IVBatman: Under the Red HoodBrother Bear 2Scream 3Chicken RunThe DoormanMaya the Bee: The Golden OrbJawsNight at the Museum: Battle of the SmithsonianDragonball EvolutionSharkdog’s Fintastic HalloweenThe CallMariposaBad BoysSijjin 6The MermaidMy Neighbor TotoroMen in BlackEl InfiernoOng Bak: Muay Thai WarriorThe Beverly HillbilliesAlienFantastic FourThe Curse of La LloronaDen of ThievesHome on the RangePulp FictionThe Other GuysSoul SurferBāhubali: The BeginningPokémon the Movie: The Power of UsSchindler\\'s ListNoahThe Three StoogesThe Polar ExpressPokémon the Movie: Hoopa and the Clash of AgesTall GirlShutter IslandSeed of ChuckyHouse of the WitchFreaksMulan IIMadresInstructions for SuKick-AssEnchantedThe WatchSex and LucíaFinal Destination 2FlippedNaruto: Guardians of the Crescent Moon KingdomSeeking JusticeThe LosersTogether TogetherHe\\'s Just Not That Into YouThe Man from NowhereOcean\\'s ThirteenParanormal ActivityExtractionAlvin and the Chipmunks: The SqueakquelThe MatchThe Hating GameMechanic: ResurrectionA Dog Named PalmaPretty WomanWarcraftDora and the Lost City of GoldAliens vs Predator: RequiemTod@s CaenThe Addams FamilyThe Adventures of Sharkboy and LavagirlSicario: Day of the SoldadoWotakoi: Love is Hard for OtakuThe Last Witch HunterHannah Montana: The MovieChunin Exam on Fire! and Naruto vs. Konohamaru!Princess Protection ProgramSpider-Man 2How I Fell in Love with a GangsterSex and the City 2The 5th WaveSeventh SonSaw IVThe Ten Commandments: The MovieSaw IIIR.I.P.D.Kuroko\\'s Basketball the Movie: Last GameWar RoomKizumonogatari Part 3: ReiketsuThe Hand of GodLegally BlondesTreasure PlanetLEGO Monkie Kid: A Hero Is BornHereditaryFlora & UlyssesHere TodayThe Babysitter: Killer QueenEvil DeadMacheteSputnikHunter KillerBallerinaFantastic Four: Rise of the Silver SurferFlashbackFriends with BenefitsWar of LikesTeenage Mutant Ninja Turtles: Out of the ShadowsThe RevenantThe Fault in Our StarsSchool-Live!Ella EnchantedDead HeatDumb and Dumber ToTinker Bell and the Pirate FairyTropic ThunderSuper Monsters: Once Upon a RhymeThe Last SurvivorsThe Mad Women\\'s BallNaruto to Boruto: The Live 2019Snow White and the HuntsmanThe Princess Switch 3: Romancing the StarThe InterviewMarley & MeThe Blind SideThe Imitation GameTruth or DareThe Angry Birds MovieBoyz n the HoodFriday the 13thBordello of BloodPride & PrejudiceThe Lost City of Z3 IdiotsThe NeverEnding StoryFirst BloodThe Terminator365 DaysThe Jack in the BoxFocusMean GirlsGods of EgyptAbominableTo All the Boys: Always and ForeverEndangered SpeciesGet OutSafeYear OneGhost in the ShellRiddickThe Anthem of the HeartBarbie: A Fashion FairytaleSpy Kids 2: The Island of Lost DreamsContainmentSecret Magic Control AgencyRush HourOutcastThe Legend of the Galactic Heroes: Die Neue These Seiran 1State of PlayPuff: Wonders of the ReefTracersThe Corpse of Anna FritzSaw IIThe Lone RangerMuppets Haunted MansionJeepers Creepers 2BladeElysiumRide or DieJohnny English RebornBarbie Fairytopia: MermaidiaInsidious: Chapter 33096 DaysKiki\\'s Delivery ServiceLittle ManRambo IIIPitch Perfect 2WhiplashPan\\'s LabyrinthNo Game No Life: ZeroJustice League: DoomThe SmurfsMissing LinkMatildaThe Devil\\'s AdvocateSin City: A Dame to Kill ForThe MediumJeepers CreepersContrabandThe Chronicles of Narnia: The Voyage of the Dawn TreaderBlack FoxBarbie in the NutcrackerBelfastStillwaterRush Hour 2The Night HouseFate/kaleid liner Prisma☆Illya: Vow in the SnowGoldOnce Upon a Time… in HollywoodBedtime StoriesThe WildOnce Upon a DeadpoolEasy ADeepGod\\'s Not Dead 2Valerian and the City of a Thousand PlanetsI Am All GirlsWhisper of the HeartParkerGangubai KathiawadiRush Hour 3MoxieTransformers: BeginningsThe GuiltyCatch Me If You CanUndisputedEmpire StateHostel: Part II10.0 EarthquakeA Walk to RememberHellboy II: The Golden ArmyFunny PeopleDragon Ball: Episode of BardockAkiraThe Ugly TruthThe Cat in the HatVirgin Territory(500) Days of SummerDisobedienceThe ProtectorProject AlmanacRespectFencesMidwayLeatherfaceCastle in the SkyThe Next Three DaysJohn and the HoleFireproofPaul Blart: Mall CopSpy Kids 3-D: Game OverThe Ogglies: Welcome to SmellivilleDiego, The Last GoodbyeBarbie of Swan LakeDragons: Dawn Of The Dragon RacersFearlessThe Fourth MusketeerShaolin SoccerChinese ZodiacHalloweenThe Forgotten BattleThe Hunchback of Notre DameScandalous SexTower HeistPrincess MononokePet SemataryDon\\'t ListenKids Are BackTinker Bell and the Legend of the NeverBeastThe Texas Chainsaw Massacre 2Mermaid DownCrystal SkullsCrazy About HerThe Gangster, the Cop, the DevilThe FlintstonesLondon Has FallenRurouni Kenshin Part I: OriginsSaw 3DKing Arthur: Legend of the SwordInitiationThe Christmas Chronicles: Part TwoMen in Black: InternationalAmerican PsychoJustice League Dark: Apokolips WarI Spit on Your Grave 2Hole in OneA Babysitter\\'s Guide to Monster HuntingInsidious: Chapter 2Into the WhiteArtemis FowlBad Boys IICult of ChuckyThe Change-UpThe Godfather: Part IIILife of PiIn the Name of the King 2: Two WorldsFull Metal JacketJustice League vs. Teen TitansStreet Gang: How We Got to Sesame StreetFacing the GiantsWoody WoodpeckerJojo RabbitBlack BoxTooth FairyFinding DoryAlvin and the Chipmunks: The Road ChipDaisy Quokka: World’s Scariest AnimalThe Fox and the HoundBright: Samurai SoulThe Mummy: Tomb of the Dragon EmperorDead Silence8-Bit ChristmasThe Mitchells vs. the MachinesDragonheart 3: The Sorcerer\\'s CurseThe Pursuit of HappynessMission: Impossible - Rogue NationA Nightmare on Elm StreetKiller EliteKing Kong300Drive My CarSupermanStar Wars: Episode II - Attack of the ClonesHome Alone 3No Good DeedWe Broke UpBarbie in A Mermaid TaleThe DayPredator 2TomorrowlandAddams Family ValuesDon\\'t Blame the KidThe Empire of CorpsesStar Trek Into DarknessThe Walking Dead: The Journey So FarPandemicThe Hills Have EyesOperation Merry Christmas: The Elf ConEdward ScissorhandsJustice League: The Flashpoint ParadoxThe Ridiculous 6Tad, the Lost ExplorerRocky IIFriends: The ReunionIndependence DayBeing the RicardosThe Batman vs. DraculaAmerican WeddingBraveheartCloverfieldBarbie in A Mermaid Tale 2Earwig and the WitchMiracle in Cell No. 7Diary of a NymphomaniacCasperHeatLokillo: Nothing\\'s the SameBatman vs. RobinThe InternSkyscraperThe Smurfs 2The BFGSpies in DisguiseAssassin\\'s CreedLove, RosieCurse of the Blair WitchThe Invisible GuestDragon Ball Z: Dead ZoneMidsommarMi otra yoJeepers Creepers 3The House with a Clock in Its WallsWicked MindsP2Child\\'s Play 3Daredevil30 Minutes or LessBruisedSe7enGretaThe BoyScooby-Doo 2: Monsters UnleashedThe Greatest ShowmanThe Human Centipede (First Sequence)Clean SexBarbie and the Magic of Pegasus 3-DBruce AlmightyDrag Me to HellLooper1000 Miles From ChristmasSamsonShooterSpace Pirate Captain HarlockOcean\\'s TwelveWhen Marnie Was ThereGreen Lantern: Emerald KnightsAnnihilationPocahontasWhat Happened to MondayLatte and the Magic WaterstonePiranha 3DThe Cabin in the WoodsSword Art Online the Movie -Progressive- Aria of a Starless NightSex DollAstro BoySounds Like LoveTerminator 3: Rise of the MachinesRe:ZERO -Starting Life in Another World- Memory SnowSo UndercoverGoosebumpsThe Evil DeadThe Bourne LegacyLittle WomenLev Yashin. The Dream GoalkeeperAlong with the Gods: The Two WorldsBird BoxUnderworldTop GunCrazy, Stupid, Love.The Good, the Bad and the UglyRED 2I Care a LotThe BabysitterThe Human Centipede 2 (Full Sequence)Ben-HurThe Longest YardEscape Plan 2: HadesNanny McPheeTinker Bell and the Great Fairy RescueBloodshotStar Wars: Episode I - The Phantom MenacePoltergeistMeet the RobinsonsHot Girls WantedThe Divine FuryLawlessThe UnbornCadaverOut of DeathSex, Party and LiesBlack as NightPAW Patrol: Mighty PupsCursedThe Day After TomorrowThe Osiris ChildThe Green KnightThe Card CounterA Dog\\'s Way HomeSource CodeMinionsMy Extraordinary Summer With TessParasyte: Part 2Mortal Kombat Legends: Scorpion\\'s RevengeSuperman/Batman: ApocalypseThe Amityville HarvestThe Mortuary CollectionParanormal Activity: Tokyo NightNaruto: Legend of the Stone of GelelJustice League: WarWrong Turn 6: Last ResortBen 10 Alien SwarmThe Monkey KingScooby-Doo! and the Reluctant WerewolfHalo Legends1917Dragonheart: VengeanceKakegurui: The MovieIce Age: The Great Egg-ScapadeSalò, or the 120 Days of SodomSmallfootBarbie MariposaThe Last Warrior: A Messenger of DarknessGoodFellasMonsters vs Aliens6 BulletsThe ReboundNausicaä of the Valley of the WindPassengersBlackhatA History of ViolenceChernobyl DiariesA Clockwork OrangeBarbie and the Three MusketeersA Star Is BornA Dog\\'s JourneyTomb RaiderStorksParasyte: Part 1The House of Flowers: The MoviePuss in BootsThe Game PlanCold PursuitDragon Ball Z: Gather Together! Goku\\'s WorldThe LoraxNeon Genesis Evangelion: The End of EvangelionChild\\'s Play 2Eternal Sunshine of the Spotless MindI Spit on Your Grave III: Vengeance is MineMy SonThe Lego MovieGhosts of WarDigimon Adventure: Last Evolution KizunaBorn to Race: Fast TrackQuantum of SolaceThe Lovely BonesNo EscapeThe Curious Case of Benjamin Button12 Hour ShiftToy Story That Time ForgotJustice League: Gods and MonstersAll About SexRingsI Am SamWho Framed Roger RabbitDon JonMr. Peabody & ShermanHulkRomanceRocky IIIPsycho GoremanGuardiansLeprechaunGoosebumps 2: Haunted HalloweenTaxi DriverMeet Joe BlackV for VendettaNeighborsSinbad: Legend of the Seven SeasTangled Ever After2 GunsThe Other WomanCast AwayResident Evil: DamnationOperation Y and Other Shurik\\'s AdventuresSherlock HolmesPercy Jackson: Sea of MonstersHunter x Hunter: The Last MissionSaw VThe PianistBIA: An Upside Down WorldSin NombreIntersectParanormal Activity 3Kingsglaive: Final Fantasy XVDeath Race: Beyond AnarchyBlack Hawk DownSaw VISilver Linings PlaybookIt\\'s a Wonderful LifeRobotsKama Sutra: A Tale of LoveZookeeperThe Boy Who Harnessed the WindModest HeroesWonderGood Will HuntingBridge to TerabithiaDog YearsSon of the MaskSuicide Squad: Hell to PayUnderdogsOverdriveBarbie and the Diamond CastleThe Lego Movie 2: The Second PartNothing to LoseA Tale of Two SistersFlavors of YouthIndiana Jones and the Last CrusadeCranston Academy: Monster ZoneCourageousThe HostThe Da Vinci CodeThe Garden of WordsBoss LevelOng Bak 2Leprechaun: Back 2 tha HoodThe GrudgeAliensThe Boy Who Killed My ParentsCrawlPlanet of the ApesDark ShadowsPleasureThe Legend of Siren XXXSelf/lessThe Transporter RefueledRed SparrowFriday the 13th Part 2The Dark TowerGoodbye WorldAllegiantThe Good DoctorTurbo: A Power Rangers MovieThe Son of BigfootNever Back DownJigsaw50 Greatest Harry Potter MomentsCashbackThe IntruderYes, God, YesIf I StayWar of the ArrowsGarfield: A Tail of Two KittiesGhostbusters IIChicken LittleDie Hard 2DunkirkRaiders of the Lost ArkDeepwater HorizonSteven Universe: The MovieThe Blair Witch ProjectHostelWhere the Wild Things AreInfernoParanormal Activity: The Marked OnesDawn of the DeadPromareNaruto: The Lost Story - Mission: Protect the Waterfall Village!The Boss BabyDolittleThe Case for ChristMr. Popper\\'s Penguins3-D Sex and Zen: Extreme EcstasyOn Your Wedding Day3:10 to YumaCastle FreakHomeWoodlawnStar Wars: Episode III - Revenge of the SithZodiacHalo: NightfallNight of the Living DeadThree Steps Over HeavenThir13en GhostsSaint Seiya: Warriors of the Final Holy BattleOne Piece 3D: Straw Hat ChaseOverboardBeethoven\\'s Big BreakVan HelsingI Am Number FourRocky BalboaThe Princess DiariesDeath NoteTinker Bell and the Lost TreasureSpace JamLeague of GodsHomunculusBeasts Clawing at StrawsWatchmenInto the StormSmurfs: The Lost VillageMy Best Friend\\'s GirlThe Prince of EgyptThe GooniesDate NightThe Fifth ElementBravenVacationLucasJason Goes to Hell: The Final FridayThe Girl Who Killed Her ParentsArmageddonThe Autopsy of Jane DoeThe Huntsman: Winter\\'s WarThe ForeignerThe Hidden FaceThe Tit and the MoonBeyond the Boundary: I\\'ll Be Here – PastThe Wolf and the LionZathura: A Space AdventureAmerican Pie Presents: Band CampThe DropShot CallerEmperorPlayhouseMr. & Mrs. SmithSex, Shame & TearsLilo & Stitch 2: Stitch Has a GlitchAlphaGet the GringoFreddy\\'s Dead: The Final NightmareAdoreGreen BookMen in Black IIMary PoppinsYoung Mother 5Maggie Simpson in The Force Awakens from Its NapKill Bill: Vol. 1Fate/stay night: Heaven\\'s Feel I. Presage FlowerXtremeHis HouseInnocent WitnessG.I. Joe: RetaliationOpen 24 HoursPocahontas II: Journey to a New WorldS.W.A.T.: Under SiegeGreaseIt BoyJesusKuroko no Basket Movie 3: Winter Cup Soushuuhen - Tobira no Mukou10 Things I Hate About YouTransporter 3CarnavalStuart Little 2The RingThe Scorpion King 3: Battle for RedemptionOlaf\\'s Frozen AdventureJason XGhost LabWarm BodiesA Naija ChristmasBetter DaysPorco RossoDoraemon: Nobita and the WindmastersSuperman ReturnsWhy Him?8 MileSekaiichi Hatsukoi MovieTomorrow Never DiesBungo Stray Dogs: Dead AppleLove and MonstersSummer WarsBlade Runner2001: A Space OdysseySpyKick-Ass 2Barbie: A Fairy SecretSpeedDeath of MeLast SummerMission: ImpossibleAloha Scooby-Doo!American History XLeap YearAs Above, So BelowDie HardSilent HillOne Punch Man: Road to HeroNot Another Teen MovieBarbie as the Island PrincessBermuda TentaclesFreaky FridayBarb & Star Go to Vista Del MarFather Christmas Is BackThe Indian in the CupboardThe Worst Person in the WorldKiller Bean ForeverSexo salvajeSaint Seiya: Evil Goddess ErisMan of Tai ChiHomefrontAlien ResurrectionThe Wedding RingerThe Butterfly EffectThe Raid 2This Is the EndScott Pilgrim vs. the WorldA Christmas CarolThe HelpJack and JillHappier Than Ever: A Love Letter to Los AngelesSt. VincentBlue Lagoon: The AwakeningThe Return of the Living DeadLife As We Know ItNo MercyEagle EyeCheckered NinjaCollateral BeautyThe Spy Next DoorAtlantis: The Lost EmpireThe BearElite SquadThe Rugrats MovieBlood DiamondThe Spiderwick ChroniclesBattleshipJustice League: Throne of AtlantisTransporter 2Ouija: Origin of EvilThe Amityville HorrorBloodsportMission: Impossible IIFriday the 13th Part VI: Jason LivesKung Fu HustleFriendzoneScary Stories to Tell in the DarkJason BourneLa leyenda de la LloronaWe Are the NoblesRole ModelsDrive AngryNanny McPhee and the Big BangBayala: A Magical AdventureThe JudgeAnimal CrackersFerryThe Legend of La LloronaSabotageRough NightThe Blue LagoonMile 22ReminiscenceTitanic IIThe GrandmotherIt FollowsIndependence DaysasterDeath RaceGhosts of Girlfriends PastThe Exorcism of Emily RoseKizumonogatari Part 2: NekketsuThe Marine 3: HomefrontThe Guide to the Perfect Family14 Peaks: Nothing Is ImpossibleEvangelion: 2.0 You Can (Not) AdvanceOcean\\'s ElevenLeprechaun 3Left BehindSpliceBatman: Bad BloodOxygenSaint Seiya: Legend of Crimson YouthAfterlife of the PartyThe Secret World of ArriettyAbout TimeStokerThe WitchSkin TradeKill Bill: Vol. 2The Boss Baby: Get That Baby!BeetlejuiceLeatherface: The Texas Chainsaw Massacre IIIThe OutlawsThe Last Boy ScoutGreen Street HooligansLive Free or Die HardI Can Only ImagineTrainwreckSuperman/Batman: Public EnemiesThe IrishmanBarbie Fairytopia: Magic of the RainbowHitmanSky SharksFinding YouThe Wind RisesBarbie: The Princess & The PopstarSex DriveDouble ImpactDead Poets SocietyStar Trek BeyondSugar DaddyCharlie\\'s Angels: Full ThrottleBambi IIParaNormanBatman Beyond: Return of the JokerInvasionA House on the BayouJourney to the Center of the EarthFriday the 13th: The Final ChapterHorton Hears a Who!War of the WorldsHow to Be a Latin LoverThe Return of JafarDie Hard: With a VengeanceLego DC Batman: Family MattersDr. NoUnderwaterHigh SchoolFrom Paris with LoveSuperfast!The Ash Lad: In the Hall of the Mountain KingTime TrapThe Girl on the TrainFever DreamFriday the 13th Part VIII: Jason Takes ManhattanLove, Chunibyo & Other Delusions! Rikka VersionPlanesYes DaySpellThe OwnersThe Irregular at Magic High School: The Girl Who Summons the StarsBig GameSon of GodBlade: TrinityNacho LibreThe Last KingGodzilla: The Planet EaterThe ContractorEpicToys of TerrorAssault on Wall StreetA Werewolf BoyThe Secret of the Magic GourdLEGO Hidden Side: Night of the HarbingerPhantom of the Kill: Zero\\'s RebellionThe Happening461 Days of Bento: A Promise Between Father and SonAladdin and the King of ThievesSweetheartThe Return of the Texas Chainsaw MassacreDon\\'t Kill ItEnemy at the GatesScooby-Doo! Curse of the Lake MonsterIron SkyA Nightmare on Elm Street Part 2: Freddy\\'s RevengeYou Don\\'t Mess with the ZohanThe Most Beautiful Boy in the WorldAVP: Alien vs. PredatorThe SadnessUnthinkableThe Great GatsbyBig Momma\\'s House 2The UnfamiliarIce Age: A Mammoth Christmas5 Centimeters per SecondInuyashikiDeath WishI Give My First Love to YouIn This Corner of the WorldDaytime Shooting StarThe HowlingThe Last SamuraiMeet the SpartansPaprikaThe LighthouseAnacondas: The Hunt for the Blood OrchidOutlanderCharlie\\'s AngelsMineLove, Strange LoveThe Empty ManFrom Russia with LoveRocky VThe Tragedy of MacbethBleach the Movie: Hell VerseCry MachoFree WillyOdnoklassniki.ru: The Magic LaptopHalloween 4: The Return of Michael MyersSinisterBlade IIC\\'mon C\\'monThe Ring TwoSleepy HollowThe Hot ChickBrahms: The Boy IIThe PunisherTwelve MonkeysDie Another DayMen of HonorThe Empire Strikes BackTeen Titans: The Judas ContractLionCodename: Kids Next Door - Operation Z.E.R.O.Iron MaskBig StanEverestOuijaA Serbian FilmAntebellumKimetsu no Yaiba Orchestra ConcertBayonetta: Bloody FateHostel: Part IIIThe BabysittersThe Dude in MeBooks of BloodWhat Lies BelowThe RoverSpeciesA Week AwayThe LoftGood BoysSemen DemonTransformers: Revenge of the FallenThe Social NetworkPiranhaThe Virginity HitS.W.A.T.Leprechaun 2The Protector 221 BridgesTinker BellLionheartBatman: Assault on ArkhamAmélieGod\\'s Not DeadPsychoFreakyThe PaperboyI BelieveDanny BoyBatman and Harley QuinnUnfaithfulYoung & BeautifulAnoko no TorikoFrankenweenie47 Meters DownThe Black PhonePolice Academy 3: Back in TrainingJJ+ENight at the MuseumMan on FireAnger ManagementDeep Blue SeaAquaman: Heroines of AtlantisGaro: Divine Flame12 StrongThe Bourne UltimatumThe Boy from MedellínThe Moment You Fall in Love[REC]Doraemon: New Nobita\\'s Great Demon – Peko and the Exploration Party of FiveArthur and the InvisiblesA Monster in ParisTokyo Ghoul \\'S\\'The Nutcracker and the Four RealmsThe Grand Budapest HotelUpgradeStep Up 3DImpossible ThingsKill CommandBelow Her MouthA Cinderella Story: If the Shoe FitsKingdom of HeavenPaul Blart: Mall Cop 2Jack Ryan: Shadow RecruitThe DepartedMiss MarchBlood and BoneGnomeo & JulietEverlyThe MechanicGoldfingerLove, SimonThe BeguiledTurboLegally BlondeLights OutBack to the Future Part IIII Am a HeroHome Alone 4Girls TripPlaying It CoolThe BindingHaunting of the Mary CelesteLassie Come HomeLara Croft: Tomb RaiderAvengers GrimmE.T. the Extra-TerrestrialLos perrosAtomic BlondeThe DictatorTraining DayThe Lego Ninjago MovieBaby on BoardPixie Hollow GamesBasic InstinctSniper: Ultimate KillTrinity Seven: Eternity Library & Alchemic GirlBleeding SteelA World For JuliusThe DUFFTremors: A Cold Day in HellResident Evil: VendettaThe Princess Diaries 2: Royal EngagementThe Skin I Live InRoboCopCurse of ChuckyUnderworld: EvolutionOldboyLove, Chunibyo & Other Delusions! Take On MeOnce Upon a Time in AmericaSeven MinutesCats & DogsTo All the Boys: P.S. I Still Love YouTamako Love StoryLittle Big MouthI Feel PrettyThe Three Deaths of Marisela EscobedoLone SurvivorMurder on the Orient ExpressBerserk: The Golden Age Arc III - The AdventThe Last House on the LeftPlatoonQuest for CamelotMy Sister\\'s KeeperDeath ProofSex and ZenThe Heist of the CenturyRenegadesJack Black: Spider-ManLet There Be LightOn the Basis of SexMad Max 2The Darkest MindsBroken CityInazuma Eleven: The MovieThe Killing of a Sacred DeerShaun of the DeadBlue BayouOz the Great and PowerfulBatman: Gotham by GaslightChild 44Friday the 13th Part VII: The New BloodTorqueWalking with DinosaursSecurityLego DC Comics Super Heroes: The FlashGame of Thrones: The Last WatchReturn of the JediHappilyLady BloodfightConstantine: City of Demons - The MovieThe IcemanMalcolm & MarieDemolition ManPuss in Boots: The Three DiablosReturn to the Blue LagoonThe Kill TeamEyes Wide ShutPassingDiary of a Wimpy Kid: Rodrick RulesTEKKEN: Kazuya\\'s RevengeSelenaPaddington 2First ManStep Up 2: The StreetsThe Transporter13 Going on 30A GrutaBaby\\'s Day OutAn American Tail: Fievel Goes WestFriday the 13th Part IIIThe Peanuts MovieClickTeen Titans Go! To the MoviesCaptain Underpants: The First Epic MovieSand CastleInstant FamilyKillersBram Stoker\\'s DraculaThe Hills Have Eyes 2Peter RabbitDr. StrangeTogoThe Truman ShowThe Edge of SeventeenLambUnderworld: Rise of the LycansOnly the BraveThe Invisible ManRoboCop 2Mission: Impossible IIIStonehearst AsylumStep Up RevolutionThe ThingOver the HedgeRobinson CrusoeUSS Indianapolis: Men of CourageBlue StreakVacancyBatman Unmasked: The Psychology of the Dark KnightxXx: State of the UnionProfessor Marston and the Wonder WomenCoach CarterLady BirdThe WaveThe Big TripDark SkiesLittle FockersThe CommuterThe Adventures of TintinGoldenEyeCharlie St. CloudCluelessThe Bourne IdentityDie goldene Banane von Bad PornoFlushed AwayHorrible Bosses 2The Fourth KindThe Last Letter From Your LoverThe HuntThe CoverScarsInterview with the VampireThe RavenBatman vs. Teenage Mutant Ninja Turtles90 Minutes in HeavenRun and GunThe Hunchback of Notre Dame IIA Cinderella StoryHookWizards of Waverly Place: The Movie12 Angry MenInkheartThe Girl on the MountainEden LakeGreen Lantern: First FlightIdentity ThiefGhostRun Hide Fight28 Weeks LaterThe PrestigeMidnight SunGone in Sixty SecondsFallenThe Shape of WaterBen 10: Race Against TimeDaddy\\'s Home 2The BabadookThe OneThe Possession of Hannah GraceThe Age of AdalineThe Haunting of Margam CastleThunderballWind RiverThe Perfect DateHighlanderDumb and DumberBāhubali 2: The ConclusionDirty DancingBe Careful What You Wish ForDogwashersAnnaMazinger Z: InfinityNever Back Down 2: The BeatdownAnnieEverything, EverythingNeighbors 2: Sorority RisingSaint Seiya: The Heated Battle of the GodsSlender ManThe WallMainstreamLast Days in the DesertA Question of FaithLook AwayMary Poppins ReturnsThe EscortHardcore HenryShowdown in Little TokyoWelcome to the JungleMax SteelDragon Ball Z Side Story: Plan to Eradicate the SaiyansLast Action HeroYou Only Live TwiceLocked DownCosmic Scrat-tastropheX-Men: The Mutant WatchThe Cat ReturnsThe League of Extraordinary GentlemenNomadlandDragon Ball: Plan to Eradicate the Super SaiyansGifted Hands: The Ben Carson StoryThe Scorpion KingMadly MadagascarBurnCatwomanIndiana Jones and the Kingdom of the Crystal SkullThe OrphanageBig Fish & BegoniaLove Don\\'t Co$t a ThingThe Man from U.N.C.L.E.Back to the Future Part IIThe Bourne SupremacyKidnapxXxHeksOnce Upon a Time in the WestBrightburnCowboy Bebop: The MovieCleopatraA Cure for WellnessMojin: The Lost LegendSouth Park: Post COVID: The Return of COVIDOriginlessMonster FamilyDon\\'t Kill MeReaching DistanceDate MovieThe Last Full MeasurePolice Story 3: Super CopZ-O-M-B-I-E-SKingdom: Ashin of the NorthThe Secret Life of Walter MittyThe Karate Kid Part III\\'ve Always Liked YouMoanaLast LooksEscape PlanMarriage StoryThe Perks of Being a WallflowerOne Piece: Curse of the Sacred SwordPride and Prejudice and ZombiesKuroko no Basket Movie 1: Winter Cup Soushuuhen - Kage to HikariOblivionHK: Forbidden Super HeroNothing to Lose - Part 2I Love You, ManBulbbulSchumacherThe Scorpion King: Book of SoulsMuseumBlack SwanStar Wars: The Clone WarsTarzan IILove LessonMercenariesAll My LifeThe Devil All the TimeA-X-LThe VowComing to AmericaThe AccountantAfter Porn EndsThe PeacemakerHorrible BossesMowgli: Legend of the JungleUnbreakableThe Theory of EverythingMy Little Pony: Equestria Girls - Rainbow RocksLady and the Tramp II: Scamp\\'s AdventureCurious GeorgeA Thousand WordsSpider-Man 2: Making the AmazingCrazy RomanceYou Get MeAppSherlock: The Abominable BrideJackass Presents: Bad GrandpaBlame!Justice League: The New FrontierJason and the ArgonautsThe American[REC]²Monster HuntCollegeScooby-Doo! Camp ScareGhostlandPrivate Valentine: Blonde & DangerousA Perfect FitLovelaceBlue Spring RideBlood MoneyDoraemon: Nobita and the New Steel Troops: ~Winged Angels~CurveSweatOne DayPlanet HulkNew Year\\'s EveForever My GirlThree Billboards Outside Ebbing, MissouriOperation MekongTeen Beach MovieHuevos: Little Rooster\\'s Egg-Cellent AdventureThe Simpsons 20th Anniversary Special - In 3D! On Ice!Career OpportunitiesWe\\'re the MillersLethal Weapon 4The Next Karate KidTill DeathBig DriverThe Green InfernoSpartacusDoraemon: Nobita\\'s Great Adventure in the Antarctic Kachi KochiCheekyDoraemon: Nobita and the Island of Miracles ~Animal Adventure~The Italian JobAmerican MadeShark Beach With Chris HemsworthPitch Perfect 3The Last WarriorDante\\'s Inferno: An Animated EpicThe Father Who Moves MountainsMy Little Pony: The MovieThe CrowClownAntzThe Sixth SenseYou Should Have LeftThe PatriotAlong with the Gods: The Last 49 DaysOperation ChromiteSky HighUsThe Hateful EightSingularityLa La LandTerrifierBarbie in the Pink ShoesEmmanuelleThe Ant BullyArmy of OneWonder Woman: BloodlinesPoint BreakThe Sorcerer\\'s ApprenticeFriday the 13th: A New BeginningLetters to JulietNational Treasure: Book of SecretsScooby-Doo! and the Cyber ChaseLawrence of ArabiaHerJohnny English Strikes AgainCase 39Gulliver\\'s TravelsMillion Dollar BabyDragon Ball: The Path to Power10 Cloverfield LaneRed HeatUncut GemsBelieve Me: The Abduction of Lisa McVeyOverlordBrokeback MountainWarningTrouble with the CurveSamson and DelilahLifeWhat\\'s Your Number?American Pie: RevealedThe OutpostThe RitualA Monster CallsThe AnimatrixBattle AngelTaylor Tomlinson: Look at YouHerbie Fully LoadedThe PacifierSullyApostleMagical Girl Lyrical Nanoha: DetonationHigh School MusicalTears of the SunAtlantis: Milo\\'s ReturnKilling JesusWolf Girl and Black PrinceThe CollectorNerveThe Comeback TrailOne Piece: Adventure of NebulandiaBacheloretteJudge DreddHard Target 2Dragonheart: Battle for the HeartfireMemoirs of a GeishaSuperman: Man of TomorrowPromising Young WomanPrivate LessonsBare SexScooby-Doo! in Where\\'s My Mummy?The HustleKilling SeasonStep Up All InJustice League: Crisis on Two EarthsSong of the SeaIn BrugesThe Mountain Between UsUniversal SoldierThe TerminalDragon Ball: Curse of the Blood RubiesCheaper by the DozenVehicle 19City of GodUglyDollsThe DescendantsChildren of the CornHigh School Musical 3: Senior YearAngela\\'s Christmas WishSadako vs. Kayako21The Book of EliWelcome HomeAlien³Barbie: Spy SquadReservoir DogsMamma Mia! Here We Go AgainKickboxer: RetaliationFantastic PlanetFracturedSpectralThe StrangersThe World to ComeHall PassSin CityAmaCon AirChristopher RobinOne Piece: Baron Omatsuri and the Secret IslandBefore I FallLord of WarLutherThe World Is Not EnoughThe World\\'s EndIn the HeightsEndless LoveBarnyardDiary of a Wimpy Kid: Dog DaysFridayAssassination NationScooby-Doo! The Mystery BeginsCaptain FantasticGhost ShipAge of TomorrowThe RockMobile Suit Gundam NarrativeThe Lord of the RingsL: change the WorLdOne Piece: Episode of Chopper Plus: Bloom in the Winter, Miracle Cherry BlossomBatman: Year OneThe Other Side of Heaven 2: Fire of FaithHoodwinked Too! Hood VS. EvilThe Lost PrinceStolenFreaks OutVikingWishmaster 2: Evil Never DiesCaught by a WaveMurder MysteryDoraemon: Nobita and the Kingdom of CloudsThe Island50 First DatesThe Running ManDragonflyThe Monuments MenThe Descent: Part 2Birdman or (The Unexpected Virtue of Ignorance)IrreversibleRegular Show: The MovieNear DarkMegalodon RisingJeepers Creepers: RebornA Writer\\'s OdysseyEvangelion: 3.0 You Can (Not) RedoDrunken MasterDark CityThe HandmaidenDaddy\\'s HomeHard TargetRed Riding HoodThe FavouriteCHiPSCamp Cool KidsNew NightmareWild Wild WestIn the Heart of the SeaSlumdog MillionaireThe Woman in the WindowEvangelion: 1.0 You Are (Not) AloneCommandoJosephThe Last MarkOpen SeasonBarbie Presents: ThumbelinaSnatchGroundhog DayThe Lego Star Wars Holiday SpecialNational TreasureAmerican GangsterFucking Different XXXMomentumJurassic World: Dominion - PrologueMan on a LedgeThe Man with the Iron Fists 2Bring It On: Worldwide #CheersmackTalk SexBrick MansionsThe Legend of the NahualaStand by MeValentine\\'s DayYou AgainWitching & BitchingSilent Hill: Revelation 3DHocus Pocus2067The Little PrinceMike and Dave Need Wedding DatesPatriots DayThe Black Devil and the White PrinceLeprechaun ReturnsTronThe Debt CollectorTombstoneEuroTripJungleBarbie Mariposa & the Fairy PrincessEl Camino: A Breaking Bad MovieBig Momma\\'s HouseRide Along 2The QuakePlanes: Fire & RescueBen 10: Secret of the OmnitrixEvil Dead IIX-Rated: The Greatest Adult Movies of All TimeIp Man 3Superman/Shazam!: The Return of Black AdamThe Mask of ZorroRow 19General CemeteryWildflowerDancing QueensHarmonieDo You Believe?Mars Needs MomsMonster TrucksAvatar: Creating the World of PandoraMoonJustin Bieber: Our WorldThe Messenger: The Story of Joan of ArcJackass: The MovieWhat Men WantWhat Women WantDiamonds Are ForeverThrone of ElvesDistrict 13: UltimatumContagionCheaper by the Dozen 2FernGully: The Last RainforestReaptownPokémon: The Rise of DarkraiSpeed RacerPokémon: The First Movie - Mewtwo Strikes BackSearchingThe 100 Candles GameCamp Rock 2: The Final JamActs of VengeanceNo Country for Old MenThe Lucky OneNew Initial D the Movie - Legend 3: DreamHow to Be SingleSurrogatesEnter the DragonOne Flew Over the Cuckoo\\'s NestThe Land Before Time: The Great Valley AdventureBlissThe Light Between OceansDear Rider: The Jake Burton StoryPrison Break: The Final BreakCaptain PhillipsA Movie of EggsWallace & Gromit: The Curse of the Were-RabbitMamaThe Diary of Anne FrankTrolls HolidayJurassic ParkThe Good SonCruel IntentionsPlanet 51Police AcademyFantastic Mr. FoxRisenPokémon 3: The Movie - Spell of the UnownAll SaintsImmortal Demon SlayerAzorWish UponTremors 5: BloodlinesThe BankerRageReturn of the Living Dead IIIThe Book of EstherDeath Note: The Last NameThe Girl Who Leapt Through TimeMaxThe Secret Lives of College FreshmenGravityAn American Werewolf in LondonMolly\\'s GameTop Secret!The Gods Must Be Crazy IISix Days Seven NightsCannibal HolocaustThe DreamersWater and FireDances with WolvesApocalypse NowBlockersPaddingtonThe VoyeurRevengeNo Man of GodThe DoubleFist of FuryKronk\\'s New GrooveMy Life in RuinsKinsenas, KatapusanGet Rich or Die Tryin\\'Barbie & Her Sisters in the Great Puppy AdventureThe Living DaylightsMad MaxSpy Kids: All the Time in the WorldResident Evil: DegenerationThe LieDoraemon: Nobita and the Winged BravesBeauty and the Beast: The Enchanted ChristmasPitch PerfectPeach GirlOne Piece: Dead End AdventureDiscarnateAnaconda 3: OffspringNext Avengers: Heroes of TomorrowChungking ExpressOld DogsBlood FatherScooby-Doo! WrestleMania MysteryAsuraThe SalvationA Wrinkle in TimeEnder\\'s GameA Princess for ChristmasNo eres tú, soy yoSouvenirCujoThis Is 40Mickey, Donald, Goofy: The Three MusketeersSiberiaLego Scooby-Doo!: Haunted HollywoodThe Big ShortJoy RideBoo 2! A Madea HalloweenAlien OutpostArmy of DarknessA Simple FavorGattacaThe Death of StalinDarkest HourGantzThe Miseducation of Cameron PostSkiptraceBarbie: The Pearl PrincessExtinctionMagic Mike XXLNightrideBoruto: Jump Festa SpecialThe Bible: In the Beginning...The Old GuardDead CalmFasterGremlinsRedeeming LoveThe CrushPapillonNick and Norah\\'s Infinite PlaylistAre We Done Yet?Resident EvilMixtapeKiteThe Clovehitch KillerBleach the Movie: Memories of NobodyThe Miracle of MarcelinoRurouni Kenshin Part III: The Legend EndsJingle Jangle: A Christmas JourneyBreakthroughTeen Titans Go! vs. Teen TitansAo Oni The AnimationVampsYellowstoneAnacondaBreakout30 Days of Night: Dark DaysReturn of the Tooth FairyPrecious CargoThe Hurt LockerThe FugitiveCool WorldCrittersThe Forbidden KingdomI\\'m in Love with a Church GirlMonstruosamente SoloWho Am I?SleeplessJumperDeep Blue Sea 2Birds of ParadiseScooby-Doo! Shaggy\\'s ShowdownThe Ballad of Buster ScruggsOne Piece Film: Strong WorldGran TorinoPrimal: Tales of SavageryIron Man & Captain America: Heroes UnitedHellraiserPiranha 3DDI Am MortalA Good ManThe Smurfs: The Legend of Smurfy HollowThe Naked Gun: From the Files of Police Squad!The Karate Kid Part IIIHidden Leaf Village Grand Sports Festival!The Porno KillersMovie 43The AssignmentInstructions Not IncludedPrayers for the StolenRumble in the BronxThe Gods Must Be CrazyDallas Buyers ClubWonder ParkYoung Mother 3Doraemon: Nobita and the Tin LabyrinthVictor FrankensteinSinister 2Step UpSunny Side Battle!As the Gods WillA Delicious FlightThe CondemnedSignsAfter Porn Ends 3Batman: Mask of the PhantasmCrouching Tiger, Hidden DragonPokémon: Arceus and the Jewel of LifeA Beautiful MindBeneath the Planet of the ApesAEW RevolutionNational Lampoon\\'s European VacationDilwale Dulhania Le JayengeMonte CarloSilk RoadJustice League DarkThey Live Inside UsZombie NightThe Man with the Iron HeartFate/stay night: Unlimited Blade WorksCuriosaEvery DayThe InvasionRendelThe Princess SwitchRi¢hie Ri¢h30 Days of NightThe Hurricane HeistSpecies: The AwakeningThe Adventures of Ichabod and Mr. ToadGrimsbyGoodbye SummerMementoHoney, I Shrunk the KidsThe OthersThe FinalHalloween: ResurrectionFlawlessHalo: LandfallCurious George: Cape AhoyThe Wishmas TreeBright[REC]⁴ ApocalypsePeppermintBen 10: Destroy All AliensGame NightWe Are Your FriendsWalking TallShrek the HallsAquamarineAddictedDragon Ball: Sleeping Princess in Devil\\'s CastleCasinoTicking ClockChildren of the Living DeadSecretaryMe, Myself & IreneThe Social DilemmaDoom: AnnihilationThe Basketball DiariesMean Girls 2ApostasySupernovaSex WeatherThe ImpossibleSaludos AmigosUntil ForeverNew Police StorySharpay\\'s Fabulous AdventureTriple ThreatThe CraziesThe Swan PrincessThe Spectacular NowShanghai NoonTaxiCome and SeeA Cinderella Story: StarstruckMagic MikeStuck TogetherAfter.LifePrisoners of the GhostlandPrimalStomp the YardDeep ImpactGothikaNosferatuMarmadukeHalloween 5: The Revenge of Michael MyersErin BrockovichLead Me HomeAdventures of AladdinAnotherKaguya-sama: Love Is WarThe Last Temptation of ChristV.I.P.DownfallLegends of the FallI Still BelieveMinariMartyrsInuyasha the Movie 3: Swords of an Honorable RulerRemember the TitansLeroy & StitchBingo HellNight HunterPet Sematary III Am DragonThe Exorcist IIICobraIn the Shadow of the MoonKing of ThornHugoEvan AlmightyCode 8TagGone with the WindOctopussyVico C: The Life Of A PhilosopherFractureAustin Powers: International Man of MysteryLifeforceJohnny EnglishPokémon: The Movie 20003-IronAnonThe WifeThe Usual SuspectsWho Am I#AliveThe Mauritanianariana grande: excuse me, i love youYaraKing ArthurMrs. Doubtfire88Detective Conan: Private Eye in the Distant SeaMessiThe Hate U GiveMr. Bean\\'s HolidayCreepshow 3The Barbie DiariesFrom Up on Poppy HillThe EyeSadakoSolitary ManZ-O-M-B-I-E-S 2Halloween IIBleach the Movie: The DiamondDust RebellionThe Legend of ZorroParanormal Activity: The Ghost DimensionMeet the ParentsHaywireHarold & Kumar Go to White CastleA Madea Family FuneralClosest Love to HeavenMortal Kombat: AnnihilationThe Longest RideThe KingBetter Watch OutUltimate Avengers: The MovieScooby-Doo on Zombie IslandMoonrakerBad TeacherFlight 7500Honey 2Species IIKangaroo JackSextupletsPersonal ShopperNeon Genesis Evangelion: Death and RebirthStrandedUnforgettableInside ManLoving PabloWanderlustYou\\'re NextPokémon the Movie: Black - Victini and ReshiramBrain on FireKizumonogatari Part 1: TekketsuLeprechaun 4: In SpaceGurren Lagann the Movie: The Lights in the Sky Are StarsIndecent ProposalThe Legend of Drunken MasterI Don\\'t Know How She Does ItMad Max Beyond ThunderdomeHeaven\\'s Lost Property Final – The Movie: Eternally My MasterThe DescentThe Girl with All the GiftsIn the Realm of the SensesCome TrueDeuce Bigalow: Male GigoloJaws: The RevengeHalloween III: Season of the WitchShinjuku IncidentTaxi 2Romeo + JulietAce Ventura: Pet DetectiveTrading PlacesJismThunderstruckKung Fu YogaRurouni Kenshin Part II: Kyoto InfernoAlien XmasThere\\'s Something About MaryAmores PerrosThe Human Centipede 3 (Final Sequence)NewnessResident Evil: ApocalypseOne Piece: The Desert Princess and the Pirates: Adventure in AlabastaLa LunaDoctor SleepCliffhangerShutterCopshopLevel SixteenPenguin BloomMore Than Miyagi: The Pat Morita StoryCrimson PeakLEGO Marvel Super Heroes: Avengers Reassembled!The 40 Year Old VirginLa CanteraOpen Season: Scared SillyEat Pray LoveDragon Ball: Mystical AdventureShallow HalPorn Star ZombiesTwisterFast Times at Ridgemont HighThe Black CauldronFear and Loathing in Las Vegas[REC]³ GenesisEx MachinaLicence to KillPrimevalUptown GirlsTremorsThe Death of SupermanCats & Dogs: The Revenge of Kitty GaloreMiss SloaneSnake in the Eagle\\'s ShadowA Model KidnappingMy Name Is KhanWolfwalkersScooby-Doo! and the Monster of MexicoSorry If I Call You LovePokémon: Giratina and the Sky WarriorDoraemon: Nobita and the Galaxy Super-expressAt the End of the TunnelRed LightsTroubleSomething the Lord MadeShottasBedazzledPatema InvertedChildren Who Chase Lost VoicesThe MuppetsBad Luck Banging or Loony PornAdventures of a MathematicianThe StarlingStarship TroopersA Few Good MenEntrapmentDon\\'t Air Your Dirty Laundry In PublicHunter x Hunter: Phantom RougeDownsizingThe Golden CompassBad MomsMiseryChangelingThe Marine 5: BattlegroundThe Brothers GrimmThe OutsidersChapo: El Escape Del SigloJu-on: The GrudgeThe Legend of HerculesNorthmen: A Viking SagaLiar LiarMy Sassy GirlAlanisTrainspottingArthur and the Revenge of MaltazardFour BrothersThe PiratesLeprechaun in the HoodLegend of the BoneKnapper DragonRobin Hood: Prince of ThievesEnola Holmes50/50TraffikThe Finest HoursThe Witcher: Nightmare of the WolfJackass 3.5The GrandmasterThe Curse of Buckout RoadDiego MaradonaStatus UpdateFantasy IslandBankrolledPsycho-Pass: The MovieAlien OutbreakThe Girl with the Dragon TattooRobot OverlordsThe Danish GirlThe CraftThe MaidDragons: Gift of the Night FuryStarship Troopers: InvasionSpreadHustlersExorcist II: The HereticPossessed47 Hours to LiveSingle Mother by ChoiceDodgeBall: A True Underdog StoryA Christmas Together With YouThe PreyThe Little RascalsThe Dead Don\\'t DieThe Second Coming of ChristA Choice of Weapons: Inspired by Gordon ParksDetetive MadeinusaSometimes They Come BackHackersDragons: Rescue Riders: Secrets of the SongwingScooby-Doo! Pirates Ahoy!Ajin: Demi-HumanThe War with GrandpaLethal Weapon 2Young MotherAccident ManThe FighterUnstoppableStand by Me Doraemon 2One Piece: The MoviePete\\'s DragonTini: The New Life of ViolettaRecess: School\\'s OutTwitches TooThe Grudge 3Hotel Transylvania: Puppy!Kill \\'em AllEscape from PretoriaTammyShe\\'s All ThatFullmetal Alchemist the Movie: Conqueror of ShamballaThe VisitBarbie in Rock \\'N RoyalsThe CircleThe NegotiatorThe PackageThe Naked Gun 2½: The Smell of FearDeath Note Relight 1: Visions of a GodPetite mamanBarbie in \\'A Christmas Carol\\'South Park: Bigger, Longer & UncutPolaroidGet the GoatPunisher: War ZoneDonnie DarkoBatman: Gotham KnightA View to a KillLamp LifeThe FatherPanArea 51Another RoundEvent HorizonWarA Woman With No FilterThat Awkward MomentScooby-Doo! and the Witch\\'s GhostLegally Blonde 2: Red, White & BlondeApollo 13Avatar: Scene DeconstructionAmerican BeautyTriple FrontierDetective Conan: Sunflowers of InfernoHackerRio BravoAir Force OneScooby-Doo! and Kiss: Rock and Roll MysteryA Bronx TaleBlood MoonThe MuleThe Hitchhiker\\'s Guide to the GalaxyOnly Lovers Left AliveThe Wrong MissyPeligro en tu miradaNo Tears for the DeadLife After BethSexo AnimalBarbie Video Game HeroThe RiteFist FightGangs of New YorkSome Like It HotFrequencyDeuce Bigalow: European GigoloWild HogsOne Piece: Clockwork Island AdventureThe Count of Monte CristoBasic Instinct 2What\\'s Eating Gilbert GrapeDo You Do You Saint-TropezMacross Delta the Movie: Passionate WalküreUnfriendedThe Haunting in Connecticut 2: Ghosts of GeorgiaT-34AtonementOn Her Majesty\\'s Secret ServiceReign of the SupermenKlausAnother Cinderella StoryDas BootThe LobsterP.S. I Love YouPooh\\'s Heffalump MoviePhantomAll Eyez on MeThe CobblerCamp Confidential: America\\'s Secret NazisSilenceThe Only Living Boy in New YorkBattle for SevastopolPlaying with FireBlue StoryThe MarinePound of FleshTransformers: Dark of the MoonA Moment to RememberButch Cassidy and the Sundance KidMidnight in the SwitchgrassSpecies IIIZombie ApocalypseLEGO DC: Shazam! Magic and MonstersLake Placid: LegacyWantedEiffelThe AviatorThe King of Staten IslandAustin Powers: The Spy Who Shagged MeNocturneSuperman: Red SonNinjaTwo MothersRunLe Gendarme de Saint-TropezI Still Know What You Did Last SummerBleach the Movie: Fade to BlackStardustThe Midnight SkyThe Big LebowskiThe Many Adventures of Winnie the PoohCat\\'s EyeAce Ventura: When Nature CallsThe Wandering EarthMouseHuntTEKKEN: Blood VengeanceThe Invisible GuardianFree Willy 3: The RescueThe BodyguardBarbarellaSteins;Gate: The Movie − Load Region of Déjà VuSeven SamuraiFist of LegendAlliedGremlins 2: The New BatchKitesCloud AtlasWar HorseWhat Happens in VegasHot Shots! Part DeuxBabylon A.D.Female Urologists 2Robert RebornHappy Death DayThe NightingaleKickboxerMaliciousMichael Jackson: The Life of an IconHeadshotAttractionPolice StoryQueenpinsThe SaintJungle Beat: The MovieThe Nut Job 2: Nutty by NatureThe IllusionistArmour of GodDigimon: The MovieUnfriended: Dark WebSexual Chronicles of a French FamilyThe Little HoursThe RundownViolet Evergarden: The Movie10,000 BCChill Out, Scooby-Doo!We Were SoldiersThe Great Mouse DetectiveShowgirlsTwo Is a FamilyKung Fu JungleArthur ChristmasLemony Snicket\\'s A Series of Unfortunate EventsRingu 2Sexo contra sexoMulholland DriveThe Battleship IslandVeronicaEverAfterThe MagicianThe WolfmanCrazy Rich AsiansHot FuzzThe Lodge9 SongsDoctor DolittleAssassin 33 A.D.Mr. NobodyGood Luck ChuckChildren of HeavenGhost in the Shell 2: InnocenceWelcome to MarwenComaLove ActuallyMean MachineDevilThe FlyBig FishGoliathThe Monkey King: RebornTalladega Nights: The Ballad of Ricky BobbyAmuletThe RaidÆon FluxI Am Iron ManOriginal SinLie with MeWaterworldEscape Plan: The ExtractorsPokémon Heroes: Latios and LatiasViolet Evergarden: Eternity and the Auto Memory DollIn the Mood for LoveScooby-Doo! and the Goblin KingAdventures in BabysittingGreyhoundDeath Becomes HerEragonThe Burning SeaEvery Secret ThingMadea Goes to JailChinatownRonaldoBeauty Salon: Special ServiceFrom Dusk Till DawnTrauma CenterCosmoballDesperadoStargateLet Me InFor Your Eyes OnlyForever RichKalashnikov AK-47The In BetweenA Nightmare on Elm Street 4: The Dream MasterComo Hackear Seu ChefeTrue LiesThe Three MusketeersGonjiam: Haunted AsylumMia and the White LionMoms\\' Night OutU.S. MarshalsThe Man with the Golden GunThe HealerAcrimonyMars Attacks!Sex Is ZeroRVEvil EyeThe Zookeeper\\'s WifeMarvel One-Shot: Agent CarterAlexanderBridget Jones\\'s DiaryPolarDeadly ExcursionDarlin\\'Kiss of the DragonJunoUltimate Avengers 2NakedThe Other LambHolidateMighty Morphin Power Rangers: The MovieDistrict B13Monster High: Welcome to Monster HighLand of the DeadIf It Bleeds We Can Kill It: The Making of \\'Predator\\'Winnie the PoohShilohAjin: Demi-Human – CompelBoogie NightsShin Godzilla12 Years a SlaveThe Ultimate GiftIn HellFor the Sake of ViciousThe Young MessiahThe Big BossLake PlacidNaked Gun 33⅓: The Final InsultThis Means WarThe VanishedLeprechaun: OriginsBatman: Mystery of the BatwomanNaruto Shippuden: OVA Hashirama Senju vs Madara UchihaFighting with My FamilyPom PokoLethal WeaponDiary of a Wimpy Kid: The Long HaulFargoMonk Comes Down the MountainLive and Let DieThunderboltFree BirdsSniper: Ghost ShooterReturn to Never LandY Tu Mamá TambiénSpenser ConfidentialCold EyesThe Bad SeedMemories of MurderFree Willy 2: The Adventure HomeShameTooth Fairy 2A Cinderella Story: Christmas WishGood TimeOld SchoolFreedom WritersJaws 2The Sound of MusicThe Bone CollectorEliDennis the MenaceMiss CongenialityDownA Score to SettleThe AnimalNinja: Shadow of a TearPilgrimageBirth of the DragonOne Piece: Giant Mecha Soldier of Karakuri CastleThe Way of the DragonTaxi 4Ben 10 Versus the Universe: The MovieOkjaLogan LuckyStep BrothersTempus TormentumParanormal Activity 4National Lampoon\\'s VacationInherent ViceFace/OffEight BelowArthurThe Spy Who Loved MeForgottenDoraemon: Nobita\\'s New Great Adventure Into the Underworld - The Seven Magic UsersInnerspaceGantz: Perfect AnswerThe Hunt for Red OctoberScooby-Doo! Return to Zombie IslandNaruto x UTCreepshowThe Breakfast ClubStigmataAsterix & Obelix Take on CaesarBurlesqueSpawnGirl vs. MonsterWinter on Fire: Ukraine\\'s Fight for FreedomRoad WarsPlanet TerrorShoot \\'Em UpJack and the Cuckoo-Clock HeartJustice League vs. the Fatal FiveReasonable DoubtUniversal Soldier: Day of ReckoningTayaIdentityInto the WoodsThe Baytown OutlawsJackass Number Two47 Meters Down: UncagedKrampusHostilesMy Girlfriend\\'s BoyfriendHoney 3: Dare to DanceI Know What You Did Last SummerCrankOne Piece: Chopper\\'s Kingdom on the Island of Strange AnimalsEpic MovieCitizen KaneFinal Fantasy VII: Advent ChildrenFantomas vs. Scotland YardHeroA Million Ways to Die in the WestOut Of My LeagueAdriftThe Number 23Danger Close: The Battle of Long TanBeverly Hills Chihuahua 2The AbyssJosee, the Tiger and the FishConcussionFlightThe X FilesThe FounderBlue MiracleDon\\'t Be Afraid of the DarkFootlooseFeel the BeatMinority ReportV/H/S/94Hellraiser: HellworldShortsA Prayer Before DawnScooby-Doo! Abracadabra-DooLet Me Eat Your PancreasLegend Quest: The Legend of the Guanajuato MummiesAmerican Ninja 2: The ConfrontationBitter MoonPriestBeethovenAll the Money in the WorldBeyond the ReachThe HobbitHot Shots!High School Musical 2The VillageThe MistTeen WolfHalTwitchesHellraiser: Inferno24 Hours to LiveFrivolous LolaFuture WorldHidalgoSon of a GunA.I. RisingThe WailerEliminatorsTyphoon NorudaMy Octopus TeacherSwamp ThingStrike Witches the MoviePandorum30 Miles from NowhereElektraHoodlumDr. StrangeloveThe Adjustment BureauThe Little Vampire 3DTarzan & JaneThe VillainessThe Tale of The Princess KaguyaStarDog and TurboCatJarheadCleanRaise the Red LanternThe WailingPaybackLittle NickyTMNTMannequinTriple 9Asterix & Obelix: Mission CleopatraSurf\\'s UpColossalWhite FangDinner for SchmucksThe Swan Princess: A Royal WeddingMercury RisingThe Bucket ListSkinwalkersLake Placid vs. AnacondaDoomPsychic KusuoTeen Titans: Trouble in TokyoSex, Lies, and VideotapeJust OnceTo the BoneHoodwinked!Horizon LineThe AlamoChristineThe Bank JobThe LoversLegend of the Guardians: The Owls of Ga\\'HooleThe Grudge 2Grand IsleCyborgAll Things FairMr. SixPaw Patrol: Ready, Race, Rescue!Riley\\'s First Date?The ReaderMirror MirrorHot BotThe House of MagicA Bad Moms ChristmasAmerican HustleJLA Adventures: Trapped in TimeInnocent VoicesRomance & CigarettesCriminalAsterix: The Mansions of the GodsDownton AbbeyOng Bak 3Miss Congeniality 2: Armed and FabulousAll for HerMerry MadagascarThe Art of Racing in the RainKeeping Up with the JonesesBeowulfHome Alone: The Holiday HeistSolomon and ShebaOliver & CompanyFabricated CityJumanji: Level OneRushPushFinal ScoreLove ScenesLeviathanBachelor PartyMonster-in-LawThe Little VampireA Knight\\'s TaleNe ZhaThe Day the Earth Stood StillThe Batman Superman Movie: World\\'s FinestFree FireThe Tigger MovieLupin the Third: The Castle of CagliostroOscar and the Lady in PinkEnough16 WishesSouth Park: Post COVIDThe ShallowsSolaceThe Last Sharknado: It\\'s About TimeMaggieAmerican UltraBlue Exorcist: The MovieA Castle for ChristmasThe NeverEnding Story IIISpooks: The Greater GoodInvisible SisterThe Talented Mr. RipleyThe Queen\\'s CorgiAdventures of Dally and SpankyAbductionStitch! The MoviePreciousSweeney Todd: The Demon Barber of Fleet StreetAmerican AssassinFlatlinersNatural Born KillersLethal Weapon 3Ooops! Noah Is Gone...Superman IV: The Quest for PeacePolice Story 2Going in StyleEvil WomanMaPretty BabyZombies! Zombies! Zombies!The Spy Who Dumped MeHitchBerlin SyndromeBehind the Mask: The Batman Dead End StoryAfter SexMirrors 2Black and BlueThe TitanSpider-Man Strikes BackA Funny Thing Happened on the Way to Thor\\'s HammerNisekoi: False LoveMaster Z: Ip Man LegacyThe Other Boleyn GirlBook of DragonsThink Like a Man TooUnconditionalBicentennial ManInto the WildPerfect SistersThe Woman in Black 2: Angel of DeathThe WilloughbysSteel MagnoliasMilfBefore I Go to SleepThe First TimeBuzz Lightyear of Star Command: The Adventure BeginsGirl, InterruptedRoom in RomeThe Space BetweenSword of the StrangerPokémon ApokélypseJustice League: Secret OriginsEnemyMindhunters#realityhighThe Great EscapeEscobar: Paradise LostInuyasha the Movie: Affections Touching Across TimeDragon Quest: Your StoryUrusei Yatsura: Only YouBook of Shadows: Blair Witch 2Over the TopBombshellDino King: Journey to Fire MountainSnitchGorgeousAmerican RefugeeStarstruckEvolutionVertigoTitanic: 100 Years OnThe Diamond ArmThe Thin Red LineSnowdenMoontrap: Target EarthSirenUnbrokenThe Water HorsePlan BQuo VadisLadyhawkeMachete KillsLife of the PartyThe HauntingASSEMBLED: The Making of EternalsNews of the WorldThe Madagascar Penguins in a Christmas CaperSpaceballsTulip FeverBlowHappy Death Day 2UCasablancaThe Deer HunterA Perfect GetawayFlight CrewA Cinderella Story: Once Upon a SongThe Secret in Their EyesDreddThere Will Be BloodThe Lion WomanUncharted: Eye of IndraSwordfishA.I. Artificial IntelligenceThe Ages of LuluPay It ForwardWalled InJarhead: Law of ReturnFridaSheep & Wolves: Pig DealRear WindowMr. Osomatsu the MovieDragon RiderBlast from the PastI, TonyaDoraemon: Nobita\\'s Great Adventure in the South SeasREDYour Lie in AprilPrime TimeFarm to Fork to LoveNine 1/2 WeeksWish Upon a UnicornBirthday SexIt Takes TwoFearless HyenaLost in SpaceDay of the Dead: BloodlineUnleashedKurskKing of KingsSilver SkatesEvery Which Way but LooseYesterdayCaptive StateS.W.A.T.: FirefightDelivery ManGood PeopleMinions: Home MakeoverSuperman: UnboundPokémon the Movie: White - Victini and ZekromCoyote UglyEight Legged FreaksThe Lizzie McGuire MovieThe Pink PantherSaharaLealBattle RoyaleFor a Few Dollars MoreTrippin’ with the KandasamysGoodnight MommyLust, CautionSinner: The Secret Diary of a NymphomaniacGabriel\\'s Inferno Part IIIRudolph the Red-Nosed ReindeerThe BirdsFrom HellWomen\\'s Prison MassacreSuspiriaThe PagemasterNappily Ever AfterBlack WaterBeing John MalkovichThe Monkey King 3Megamind: The Button of DoomPushpa: The Rise - Part 1MelancholiaWinnie the Pooh: Springtime with RooGood on PaperDracula: Dead and Loving ItThe Princess Switch: Switched AgainMirrorsThe Last of the MohicansNew Initial D the Movie - Legend 2: RacerTrue StorySecret ObsessionHow to Train Your Dragon: Snoggletog LogPokémon: Mewtwo ReturnsSee for MeGintama the Movie: The Final Chapter - Be Forever YorozuyaThe House That Jack BuiltEquilibriumSaul: The Journey to DamascusTriangleEnemy of the StatePolice Academy 2: Their First AssignmentThe Condemned 2OutbreakWhere the Heart IsGuns AkimboThe PostHands of StoneGhost in the Shell Arise - Border 3: Ghost TearsSecret WindowSchool of RockTender CousinsMirageOur FriendBlood-C: The Last DarkScooby-Doo! & Batman: The Brave and the BoldZero Dark ThirtyUnhingedYu-Gi-Oh! The MoviePokémon: Lucario and the Mystery of MewPhineas and Ferb: The Movie: Across the 2nd DimensionWhile You Were SleepingIn Full BloomGantz:OKill Bill: The Whole Bloody AffairCellCorpse PartyBastille DayJamon JamonBehaving BadlyPaper Lives7 Guardians of the TombI, Frankensteinmother!KingmakerNice Sister-In-LawSwallowWild ThingsMoonlightRick and Morty vs GenociderP.O. Box Tinto BrassDragons ForeverBelle\\'s Magical WorldVampire Hunter D: BloodlustInterstate 60Snow White: A Tale of TerrorScars 2National Lampoon\\'s Christmas VacationThe Cloverfield Paradox127 HoursJackass 2.5Long ShotCarlito\\'s Way1408Portrait of a Lady on FireThe Last ExorcismThe Butterfly Effect 3: RevelationsSilent NightCharmingWolf WarriorLEGO DC Comics Super Heroes: Justice League - Gotham City BreakoutCircleLady of the ManorEl PlanetaBowfingerKanColle MovieWildlingV/H/SMystic RiverMessengers 2: The ScarecrowAliveL.O.R.D: Legend of Ravaging DynastiesTeen Beach 2AmyTomorrow I Will Date With Yesterday\\'s YouThe Space Between UsEscape from L.A.How It EndsMy Teacher, My ObsessionMy Little Pony: Equestria Girls: Friendship GamesAll Ladies Do ItFerris Bueller\\'s Day OffGintamaMidnight in ParisGraf Porno und seine MädchenAfter We LeaveSuperwho?A Street Cat Named BobAre We There Yet?The Wolf\\'s CallRedcon-1Balkan LineAutomataThe RescuersBeanThe Christmas ChroniclesRoman HolidayThe Guns of NavaroneNosferatu the VampyreSikloHalloween: The Curse of Michael MyersWhiteoutAbigailDragon Ball: The Magic BeginsEnd of DaysThe Butterfly Effect 2Soy Luna: The Last ConcertSurvivorDracula UntoldThe LayoverEmma.The Great DictatorYou Are the Apple of My EyeSomething BorrowedPoltergeist II: The Other SideLupin the Third vs. Detective Conan: The MovieDororoTuskOh, Ramona!Sherlock GnomesObsessedAvengementTowa no Quon 1: The Ephemeral PetalsShut InSingin\\' in the RainBefore the FloodSurvival IslandScent of a WomanGhostheadsYoung AdultMonster Hunt 2SerenityThe Lives of OthersMadrid, 1987PeléYummyWerDante\\'s PeakPolice Academy 4: Citizens on PatrolFrom Dusk Till Dawn 2: Texas Blood MoneyTango & CashVacancy 2: The First CutVivariumArenaUnforgivenFidelityShe\\'s the ManBring It OnHouse of 1000 CorpsesVicky Cristina BarcelonaThe MedallionThe Boss: Anatomy of a CrimeDaddy\\'s Perfect Little GirlThe Man in the Iron MaskKill SwitchThe SuperdeepOzzyThe Jungle Book 2The Cokeville MiracleBulletproof MonkCovet: Island of DesireNational Lampoon\\'s Van WilderFist of the North Star: Legend of Raoh - Chapter of Fierce FightAround the World in 80 DaysDiary of a Mad Black WomanOperation Condor47 RoninBarbershop: The Next CutOpen Season 2Sky of LoveProject PowerIllang: The Wolf BrigadeG.I. JanePandoraThe Kid Who Would Be KingA Little PrincessClear and Present DangerAlien WarfareDragon: The Bruce Lee StoryDoomsdayFour Good DaysBehind the TreesFalcon RisingConvoyThe DecameronThe SilenceThe CounselorHeistHeathersTolkienHell or High WaterThe Cable GuyDracula 2000Asterix: The Secret of the Magic PotionCharlotte\\'s WebI Give It a YearTrick \\'r TreatThe FamilyA Time to KillCatch.44Crimson TideMortalBig BrotherThe WitchesMeet the FockersVampires SuckProcessionThe ImmortalI\\'ll Always Know What You Did Last SummerThe PyramidManchester by the SeaThe HauntedThe Poison RoseWalk of ShameNowhere to RunEscape from SobiborCaligulaTom and Jerry: Willy Wonka and the Chocolate FactoryThe Man Who Invented ChristmasPokémon 4Ever: Celebi - Voice of the ForestKnocked UpBlacKkKlansmanTauBrawl in Cell Block 99G-ForceLooney Tunes: Back in ActionAlien AbductionAbsolutely AnythingMonster High: Scaris City of FrightsThe Knight of Shadows: Between Yin and YangRobin Hood: Men in TightsBarbie: A Perfect Christmas6 Below: Miracle on the MountainPromise at DawnFool\\'s GoldJudas and the Black MessiahSuperhero MovieThe November ManThe Hard WayPigUnfinished BusinessBad Times at the El RoyaleHappiest SeasonThe Wedding DateAfternoon DelightCasualties of WarThe AnomalyThe Time MachineThe Strangers: Prey at NightWinchesterHakuouki: Wild Dance of KyotoLabyrinthGirl with a Pearl EarringAssassinationPossessionThe ForestThe WaterboySpeed 2: Cruise ControlHide and SeekAmadeusNinja ScrollHornsCootiesRevengerBen 10 Generator Rex Heroes UnitedBody HeatThe UninvitedScooby-Doo! and the Loch Ness MonsterIp Man: Kung Fu MasterRide AlongThe Seventh SignBlackwayRemember MeMadea\\'s Family ReunionDay of the WomanBacktraceFinally a clash! Jōnin vs. Genin!! Indiscriminate Grand Melee Tournament Meeting!!The DiscoveryShe\\'s Out of My LeagueHerbie Rides AgainTrue RomanceThelmaZombeaversAmerican OutlawsSistersL.A. ConfidentialLara Croft: Tomb Raider - The Cradle of Life12 Mighty OrphansCollateral DamageBlue JasmineProject AToriko 3D Movie: Kaimaku! Gourmet Adventure!!SleepersThe Sum of All FearsSecond Act100 GirlsBullyGatchamanStuberWasabiThey LivePokémon: Jirachi Wish MakerThe Ninth GateStargirlA Fistful of DollarsAssassination ClassroomAirplane!Always Watching: A Marble Hornets StoryTremors 3: Back to PerfectionBefore I WakeZambeziaBigSuperman II10,000 DaysAn Extremely Goofy MoviePokémon the Movie: Kyurem vs. the Sword of JusticeVampire AcademyImperiumOnce Upon a Time in VeniceRobin-B-HoodHomeward Bound II: Lost in San FranciscoA Streetcar Named DesireWhat Dreams May ComeFour Weddings and a FuneralThe 300 SpartansRiders of JusticeTroll HunterZombie Strippers!SuperFlyPerfect BlueElfBad Santa 2Inuyasha the Movie 4: Fire on the Mystic IslandThe Invincible Iron ManGhost in the Shell 2.0The NeverEnding Story II: The Next ChapterKung Fu Panda: Secrets of the Furious FiveParanormal Activity 2MeskinaCity HunterPaper TownsJimmy Neutron: Boy GeniusCook Up a StormThe Secret Life of PetsThe GiverBatman Beyond: The MovieIsn\\'t It RomanticBatman NinjaTrue GritTales of Vesperia: The First StrikeMonster High: Boo York, Boo YorkJust Like HeavenThe 13th WarriorMortdecaiThe Dukes of Hazzard: The BeginningA Goofy MovieAngus, Thongs and Perfect SnoggingJust Before I GoImmortalsI Am MotherConan the DestroyerBlack BookA Most Violent YearThe MachinistA Dark TruthBorat Subsequent MoviefilmWhere Eagles DareThe School TeacherLittle MonstersMary and The Witch\\'s FlowerMobile Suit Gundam ILegends of Oz: Dorothy\\'s ReturnReturn to Jurassic ParkAfro Samurai: ResurrectionBarbie & Her Sisters in a Puppy ChaseThe GraduateThe Boy Next DoorSympathy for Lady VengeanceRatchet & ClankBreakfast at Tiffany\\'sPractical MagicGood KidsBabeMenace II SocietyHoursWendy Wu: Homecoming WarriorKhumbaJarhead 3: The SiegeItalian SpidermanAnimal WorldTom and Jerry: The MovieThe Wild Thornberrys MovieThe Dead PoolAfter the SunsetEcho BoomersIn Your EyesThere\\'s Something About MarioMaterStreet FighterStuck in LoveBeautiful CreaturesAnchorman 2: The Legend ContinuesMother\\'s Job1922Tangled: Before Ever AfterCradle 2 the GraveMune: Guardian of the MoonHow to Make Love to a WomanMelissa P.The WarriorsI Kill GiantsViceA Turtle\\'s Tale: Sammy\\'s AdventuresThe KeyThe Legend of the ChupacabrasValkyrieIce SoldiersKilling CabosWorld\\'s Greatest DadPokémon: Zoroark - Master of IllusionsParanormal MovieEd, Edd n Eddy\\'s Big Picture ShowRosario TijerasEnd of WatchBridesmaidsPsychokinesisLucky Number SlevinCollateralThe GoldfinchMary Queen of ScotsRavenousHey Arnold! The Jungle MovieOutlaw KingExtremely Wicked, Shockingly Evil and VileGullyNo Retreat, No SurrenderFallen AngelsHairsprayThe Bridge on the River KwaiBeverly Hills CopBigfoot FamilyFilthCOVID-21: Lethal VirusThe Dukes of HazzardCruel Intentions 3Deliver Us from EvilCutthroat IslandBlank CheckColor Out of SpaceDeadly IllusionsReplicasGreat ExpectationsBreatheThe Great HackThe Vatican TapesReLIFEA Dark PlaceGhost Dog: The Way of the SamuraiHopBlade of the ImmortalFlags of Our FathersYogi BearMegan Is MissingThe Secret of KellsHappy GilmoreMy Bloody ValentineDetachmentBarbie: Star Light AdventureOnce Upon a Time in MexicoLes MisérablesMy Boyfriend\\'s MedsJourney to the West: Conquering the DemonsThe RoadAmityville II: The PossessionErrementari: The Blacksmith and the DevilBeastlyThe Secret ScriptureWe\\'re Back! A Dinosaur\\'s StorySmall SoldiersDarkness FallsCombat WombatThe Wedding PlannerThe Tale of DespereauxDoraemon: Nobita\\'s Treasure IslandThe Beautician and the BeastV.C. Andrews\\' Pearl in the MistIOThe TuxedoBlood TiesPolice Academy 5: Assignment Miami BeachSoul PlaneBridge of SpiesHellbound: Hellraiser IISuffragetteJexiDonnie BrascoiBoyClosed CircuitThe EntityMy Best Friend Anne FrankThe SandlotThe HolidayHappily N\\'Ever AfterThe Last EmperorStasisThe BoxtrollsDeliveranceRoboCop 3Forgetting Sarah MarshallWolf Warrior 2Game Over, Man!Day of the DeadChildren of MenGerald\\'s GameThe Lincoln LawyerThe UntouchablesThe Tin DrumArpeggio of Blue Steel -Ars Nova Cadenza-Starship Troopers: Traitor of MarsHow HighThe Nutty ProfessorThe DryThe King\\'s SpeechEwoks: The Battle for EndorEl Paseo 5: El Paseo de OficinaZoolander 2Sierra Burgess Is a LoserHollow ManThe Four of UsInuyasha the Movie 2: The Castle Beyond the Looking GlassWillowThe ColonyThe Book of HenryAs Good as It GetsSerendipityOnly YesterdayA Cop MovieThe Emperor of ParisMoneyballRun All NightMoney MonsterCrystal Lake Memories: The Complete History of Friday the 13thStopMax 2: White House HeroNever Say Never AgainSixteen CandlesJackass Presents: Bad Grandpa .5Time of EVE: The MovieMonster High: Why Do Ghouls Fall in Love?Porky\\'sThe ExceptionBad GeniusBaltoDragonHeartArlo the Alligator BoyKickboxer: VengeanceAngels of SexDear JohnVan Wilder: Freshman YearEscape from New YorkMonster High: Great Scarrier ReefSay \\'I Love You\\'The Monkey King 2When Harry Met Sally...Star Trek: The Motion PictureThe Last LegionMa mèreSliverThe Happytime MurdersMr. Nice GuyJohn QPower/RangersMushi-Shi: The Next Chapter - Drops of BellsMickey\\'s Magical Christmas: Snowed in at the House of MouseSlugTerra: Return of the ElementalsThe Last SummerWhen a Stranger CallsWaiting...Passenger 57Things Heard & SeenFullmetal Alchemist the Movie: The Sacred Star of MilosThe Love WitchThe DressmakerSkyfireFist of the North Star: Legend of Raoh - Chapter of Death in LoveDeath WarrantTerm LifeHostageBlack MaskGandhiRim of the WorldPuss in Book: Trapped in an Epic TaleThe Love BugNotting HillDragon Nest: Warriors\\' DawnDéjà VuJaws 3-DDoraemon: Nobita\\'s Dorabian NightsThe KingdomThe Poughkeepsie TapesAnne of Green GablesTwin DragonsHarold & Kumar Escape from Guantanamo BayJulia XJFK10x10A Bridge Too FarBandidasLike a BossClose Encounters of the Third KindRed RocketBridget Jones\\'s BabyGhost Team OneBarbie in Princess PowerColetteBleachBilly Lynn\\'s Long Halftime WalkLe ChefWheels on MealsDr. Dolittle 2CenturionHarakiriStowawaySupergirlAnother GantzPokémon: Destiny DeoxysDetective Dee and the Mystery of the Phantom FlameBad SisterNurse 3-DStar Trek: NemesisThe Drug KingCloserSuper Mario Bros.Death Wish IIPremonitionSerial (Bad) WeddingsI SpyInside Man: Most WantedThe Knight Before ChristmasThe Tree of LifeOne Piece \"3D2Y\": Overcome Ace\\'s Death! Luffy\\'s Vow to his FriendsConfessions of a Teenage Drama QueenGet SmartOperation FinaleTouch of EvilMy Little Pony: Equestria GirlsRoomDuck Duck GooseHail, Caesar!Non-StopDragon Ball: Goku\\'s Traffic SafetyThe World\\'s Fastest IndianAmerican NinjaThe Forest of LoveBlair WitchMetropolisThe Land Before TimeThe Eyes of Tammy FayeHooking UpSeven PoundsG-ZombieElite Squad: The Enemy WithinTitan A.E.The Nut JobStomp the Yard 2: HomecomingHalloween H20: 20 Years LaterThe Hot SpotThe Quick and the DeadThe SpiritChildren of the Corn II: The Final SacrificeThe Darkest HourSquared LoveDangerous MindsArthur 3: The War of the Two WorldsSurf\\'s Up 2: WaveManiaScooby-Doo! Stage FrightPerdidaGreen SnakePalm SpringsA United KingdomInheritanceUnder Siege 2: Dark TerritoryGoal!Agent Cody BanksAll Star SupermanAmerican AnimalsHang \\'em HighMy Little Pony: Equestria Girls - Legend of EverfreeGeorge of the JungleCapernaumShaun the Sheep MovieBig Trouble in Little China18 Year Old VirginDoraemon: Nobita and the Spiral CitySplashThe Scorpion King 2: Rise of a Warrior21 & OverThe Art of Getting BySleepless in SeattleThe Twelve Tasks of AsterixAliens in the AtticThe Admiral: Roaring CurrentsUniversal Soldier: The ReturnSoldierKung Fu Panda HolidayIrreplaceable YouFinal: The RaptureThe Bye Bye ManLittle ItalyShark Attack 3: MegalodonO Brother, Where Art Thou?Sea FeverAnthropoidValiantLEGO DC Comics Super Heroes: Justice League vs. Bizarro LeagueThe WoodsThe MasterDoctor ZhivagoThe Walking DeceasedThe Last Exorcism Part IITwinsShatteredVillage of the DamnedThe Good ShepherdScooby-Doo! Legend of the PhantosaurSavage DogBoo! A Madea HalloweenFast & FuriousGodzilla: City on the Edge of BattleSummer of 84We Bought a ZooCool RunningsMimicHoney, I Blew Up the KidMinuscule 2: Mandibles from Far AwayBoundFirst StrikeCoherenceSailor Moon R: The MovieSeven Years in TibetChurchillStrip Down, Rise UpHow the Grinch Stole Christmas!TrustCottage CountryMarrowboneOnce Upon a Time in China IIKung Fu Panda: Secrets of the ScrollAmerican Traitor: The Trial of Axis SallyThe JackalThe CrucifixionJust WrightTeenage Mutant Ninja Turtles II: The Secret of the OozeOut of AfricaTremors 4: The Legend BeginsClueBalto II: Wolf QuestThe Green HornetOuija HouseDetective Conan: Dimensional SniperAddams Family ReunionThe InfiltratorTremors: Shrieker IslandStretchTaxi 3Take Me Home TonightThe Peanut Butter FalconMower MinionsMILFExtortionFree State of JonesGinger SnapsRosemary\\'s BabyGretel & HanselJoe DirtThe White TigerGraveyard ShiftContactTo Rome with LoveI\\'m a Porn Star: Gay 4 PayNorth by NorthwestOnce Upon a Time: The Super HeroesThe War of the WorldsDaybreakersHeartbreak RidgePanic RoomMaya the Bee MovieScooby-Doo! and the Curse of the 13th GhostManhattanJesus Christ SuperstarBorat: Cultural Learnings of America for Make Benefit Glorious Nation of KazakhstanThe ParamedicFleeKing Kong LivesAnacondas: Trail of BloodThe Car: Road to RevengeBeautiful Boy2001 ManiacsParadise HillsAwakening the ZodiacOffice Christmas PartyHarley Davidson and the Marlboro ManPhantom ThreadMinuscule: Valley of the Lost AntsRed DogRock DogAntichristLand of the LostOffering to the StormSecrets of the Saqqara TombNi tuyo, Ni míaThe Beach HouseThe VanishingMorganLa Femme NikitaSettlersFireheartPokémon the Movie: Diancie and the Cocoon of DestructionFlash PointKiller Klowns from Outer SpaceJust MercyThe Taking of Pelham 1 2 3Inspector GadgetSleepwalkersAustin Powers in GoldmemberThe Last Thing He WantedPelé: Birth of a LegendCarolUrusei Yatsura: Always My DarlingStalingradInherit the WindPhone BoothDragons: Rescue Riders: Huttsgalor HolidayIchi the KillerWinx Club: The Secret of the Lost KingdomRoad to Perdition2 HeartsThe CellMarvel\\'s Behind the MaskAsking For ItThe Three CaballerosTokyo RevengersEscape from the Planet of the ApesThe Bribe of HeavenOpheliaLayer CakeHome AgainResidenteCrashThumbelinaDark WaterHowlBarb WireHunt for the WilderpeopleThe FacultyBingoDeath Race 2050Made of HonorTimelineSleeping with Other PeopleSexy ComedyBehind Enemy LinesHugasThe Woman in RedNeppuu Kairiku Bushi RoadCargoActs of ViolenceCobain: Montage of HeckFrench ExitDays of ThunderJames and the Giant PeachWag the DogFlight of the NavigatorSnatchedJust Short of PerfectWind ChillMarie AntoinetteCome PlayThe Best of MeIt\\'s Only the End of the WorldGrease 2Mortadelo and Filemon: Mission ImplausibleThe Greatest Story Ever ToldReturn to SenderDaphne & VelmaJerry MaguireHigh LifeSleep TightVampire Hunter DCreationShanghai KnightsOperation Red SeaBurying the ExHigh StrungMiss BalaA Perfect WorldMona Lisa SmileSt. AgathaVegas VacationA Walk in the CloudsPorno BabyDead Again in TombstoneFull SpeedThe ApostleWild OrchidLying and StealingEnd of a GunCasper\\'s Scare SchoolBeverly Hills NinjaEntourageElephantHawaiian VacationPola XAll I See Is YouNo Half Measures: Creating the Final Season of Breaking BadNew Initial D the Movie - Legend 1: AwakeningThe Trial of the Chicago 7BrooklynHotel MumbaiToo Handsome To HandlePokémon the Movie: Genesect and the Legend AwakenedOffice SpaceA Fall from GraceKaamelott: The First ChapterI Saw the DevilThe Man Who Knew InfinityThe Dyatlov Pass IncidentTiffany + ChuckyLast Tango in ParisA Trash Truck Christmas4x4Justin and the Knights of ValourJane Got a GunClose to the HorizonTaxi 5The Witches of EastwickHannaStar Trek IV: The Voyage HomeLEGO Marvel Spider-Man: Vexed by VenomEscape From AlcatrazThe Big SickDumb and Dumberer: When Harry Met LloydBetween WorldsThe English PatientNational SecurityCrouching Tiger, Hidden Dragon: Sword of DestinyHow to Lose a Guy in 10 DaysThe Princess BrideCurious George 2: Follow That Monkey!HostileMax PayneDon\\'t Knock TwiceExtraterrestrialBad SamaritanThelma & LouiseThe ProdigyCaptain AmericaBaise-moiSlitherThe Witch: Part 1. The SubversionThe RookieEarly ManBruce Lee: A Warrior\\'s JourneyThe Lake HouseOnly YouHandsome DevilMy SpyDraugCrime BustersThe CaveThe Sicilian ClanParadoxLa leyenda del Charro NegroAnna KareninaWild Things: Diamonds in the RoughPacto de FugaDuckTales: The Movie - Treasure of the Lost LampBarbershop 2: Back in BusinessPokémon Ranger and the Temple of the SeaStealing BeautyDogtoothFinal Fantasy: The Spirits WithinHotel ArtemisCollideWoochi : The Demon SlayerBiker BoyzSilver BulletWidowsThe Curious Dr. HumppWedding DazeSmokin\\' AcesBroken ArrowDisturbiaDraculaBlack MassThe PossessionUltravioletThe Call of SexTom and Jerry: Shiver Me WhiskersMary ShelleyVan Wilder 2: The Rise of TajFlightplanReturn of the SevenBereavementA la malaThat Malicious AgeMonty Python and the Holy GrailAll the Devil\\'s MenChildren of the SeaThe Death of the Incredible HulkThe OmenOcean WavesJawbreakerThe BenchwarmersSummer of Soul (...Or, When the Revolution Could Not Be Televised)White Boy RickRingu 0The Treasure of the Sierra MadreThe Art of the StealWishmaster 4: The Prophecy FulfilledFuturama: Bender\\'s Big ScoreHellraiser: DeaderExcaliburSunshineDon\\'t Let GoMagical Girl Lyrical Nanoha: ReflectionCatsKnockaround GuysWoman with Pierced NipplesStar Trek: First ContactTranscendenceKids in LoveSeeking a Friend for the End of the WorldArctic DogsBlack ChristmasDuelBLACKPINK: Light Up the SkyNon Non Biyori: VacationThe Jewel of the NileMonosRugrats in Paris: The MovieAn American Werewolf in ParisUnder the Tuscan SunThe DigThe RoommateRadioactiveD.E.B.S.The Humanity BureauA Fish Called WandaThe HighwaymenAll About EveDo It Like An HombreEl Siete MachosFlash GordonSet It UpSuper Troopers 2Lady MacbethHeatwaveThe AeronautsThey Call Me JeegCritters 2Bill & Ted Face the MusicWildYours, Mine and OursEmmanuelle 3The Final CountdownTeenage Mutant Ninja Turtles IIIStalkerThe 100 Year-Old Man Who Climbed Out the Window and DisappearedLook Who\\'s Talking Now!Major PayneFive Nights at Freddy\\'s: Home BreachBooksmartStandoffWar and PeaceFirebreatherLittle Shop of HorrorsStraight from the BarrioThe PrinceFalling DownTrinity Is Still My NameSuperman IIIThe Last ParadisoThe QuestSolomon KaneLine of DutySnow DogsDown PeriscopeTremors 2: AftershocksThe Night Comes for UsMaraudersNeedful ThingsWedding CrashersThe Great Gilly HopkinsThe Nutcracker: The Untold StoryOrbiter 9TheoremEraserElvira, Mistress of the DarkThe Candy WitchAmerican Murder: The Family Next DoorShriek If You Know What I Did Last Friday the ThirteenthThe Night BeforeParental GuidanceThe Iron LadyOculusDragged Across ConcreteThe Replacement KillersStraw DogsSydney WhiteThe MythMaid in ManhattanSniper: Assassin\\'s EndLos verdulerosThe Lawnmower ManOut Of The Clear Blue SkyCommando 2 -  The Black Money TrailBad CountryThe Hills Run RedAnimal HouseQuigley Down UnderGamerSwiss Army ManOrcaTrouble Every DayFatmanThe Extraordinary Adventures of Adèle Blanc-SecGodzilla: Planet of the MonstersBasicRepo MenTom and Jerry\\'s Giant AdventureSweet Home AlabamaDragonHeart: A New BeginningThe Seventh SealScream: The Inside StoryCan You Ever Forgive Me?Tom and Jerry Blast Off to Mars!It\\'s Kind of a Funny StoryThe Magdalene SistersHotsunlightPrimal FearThe LoverMy Girlfriend Is an AgentMaggie Simpson in Playdate with DestinyAztechMirandaFatal AttractionBridget Jones: The Edge of ReasonThe Outlaw Josey WalesPeter\\'s To-Do List20th Century WomenRevoltRed SonjaRunning with the Devil40 Years of Rocky: The Birth of a ClassicBackdraftThe Adventures of Robin HoodAbove the LawBerserk: The Golden Age Arc I - The Egg of the KingScooby-Doo! and the Legend of the Vampire16 BlocksChefJuan Luis Guerra 4.40: Entre Mar y PalmerasSteamboyBig EyesQueen of HeartsMy Cousin RachelAlpha DogCrazy About WorkUnder the SkinCinema ParadisoLa BambaMad MoneyFun with Dick and JaneWinners & SinnersWayne\\'s World 2Mr. DeedsTakersMeet DavePineapple ExpressScooby-Doo! and the Samurai SwordAmateur NightKramer vs. KramerThe Mermaid: Lake of the DeadMostly Ghostly 3: One Night in Doom HouseTokyo GodfathersInvasion of the Body SnatchersMac & Devin Go to High SchoolThe SubstituteThe 12th ManThe Long, Hot SummerThe Viking WarBounty HuntersAmityville: The AwakeningGridiron GangScooby-Doo! and WWE: Curse of the Speed DemonThe 33D InvaderThe Book ThiefCrossroadsDear ZindagiThe Santa ClauseHow the West Was WonThe ReplacementsThe Jungle BunchCocoonFate/stay night: Heaven\\'s Feel II. Lost ButterflyExposedThe Curse of the WerewolfThe Electrical Life of Louis WainDigimon AdventureFrom Beijing with LoveEastern PromisesThe Florida ProjectWild StrawberriesThe Jurassic GamesLa Grande VadrouilleA Frozen FlowerWork ItChestnut: Hero of Central ParkThe Color PurpleMusicThe Nice GuysRock of AgesAliRoninAstro KidRed Nose Day ActuallyFaces PlacesBrotherGeorge of the Jungle 2Timmy Failure: Mistakes Were MadeMonster Hunter: Legends of the GuildThe Perfect StormLemonade MouthVengeance: A Love StoryThe LegionPricelessStrange MagicStay AliveKung Pow: Enter the FistInvictusStarsky & HutchNorm of the NorthMickey\\'s Christmas CarolAn Ordinary ManMonster High: HauntedThe 15:17 to ParisPossessor UncutWindtalkersTenacious D in The Pick of DestinyHamiltonWhite GirlBig DaddyStarship Troopers 3: MarauderThe Front RunnerMadea\\'s Witness ProtectionFirst CowThe Picture of Dorian GrayZoomHauntAngel HeartRoccoLuis and the AliensMy Brother\\'s WifeThe Rhythm SectionThe Exorcism of Molly HartleyAbout CherryPompeiiSuperman vs. The EliteStarship Troopers 2: Hero of the FederationThe Young MasterThe Name of the RoseBrazilLove Me InsteadSpyciesPistol WhippedThe Legacy of ChuckyOnce Upon a Time in China IIIGrave Encounters 2Lost HighwayThe House BunnyIp Man 4: The FinaleToxicLifeboatProblem ChildThe HitcherAdult WorldDamageDemons12 Rounds 3: LockdownZombie MassacreOmen IV: The AwakeningMy Fair LadyRoad Trip: Beer PongMater and the GhostlightSex and Zen IIIRain ManThe Pilot. A Battle for SurvivalBeverly Hills Cop IIIThe UpsideHeartbreakersThe Imaginarium of Doctor ParnassusCity SlickersCrushThe Neon DemonDeath at a FuneralThe Nativity StoryThe SpecialistImagine Me & YouA Conspiracy of FaithAsterix and the VikingsThe Bodyguard from BeijingRawWe Couldn\\'t Become AdultsThe Numbers StationRadio RebelRemi, Nobody\\'s BoyRat RaceAlexander and the Terrible, Horrible, No Good, Very Bad DayReal GirlLone Wolf McQuadeStar of David: Beauty HuntingThey ReachThree Wishes for CinderellaMega Shark vs. Giant OctopusMinamataCaponeWolvesSheenaMaximum RiskCristiano de la SecretaVanilla SkySnakes on a PlaneNo Escape RoomThe ChaserHell FestThe Five-Year EngagementSister ActI Still See YouSaturday Night Fever13 GhostsZoolanderLars and the Real GirlThe Night ClerkYoung Sister-in-law 3KinThe CoreIn the Tall GrassHarry Potter: A History Of MagicHomeward Bound: The Incredible JourneyJe suis KarlFinding Vivian MaierThe Stepford WivesBraindeadChilangolandiaThe Matrix RevisitedThe Possession of Michael KingIbizaSafe HouseLove HardThe InformerMatch PointDorian GrayI Spit on Your Grave: Déjà VuNext FridayLittle Witch Academia: The Enchanted ParadeJarhead 2: Field of FireWhat Lies Beneath48 Hrs.Blood: The Last VampirePrimal RageShort CircuitThe Midnight ManExpelled from ParadiseDominion: Prequel to The ExorcistDeceptionCinderella ManRogueInfernal Affairs IIIExorcist: The BeginningThe Crime of Padre AmaroPalm Trees in the SnowFantasia 2000RevolverWeaponizedHopeTomb InvaderTinker Tailor Soldier SpyThe Rocky Horror Picture ShowSpy GameThe Stranger by the ShoreStudio 666Fritz the CatEdge of the WorldTravis Scott: Look Mom I Can FlyThe Ghost of Lord FarquaadScooby-Doo and the Alien InvadersKelly\\'s HeroesMy GirlThe Break-UpThe Final WishUpside DownTerminalDead Snow 2: Red vs. DeadInto the LabyrinthThe Secret GardenSPL: Kill ZoneThe Family ManCop LandBushwhackedThe Yin-Yang Master: Dream of EternityThe TrustForce of ExecutionGhost in the Shell Arise - Border 2: Ghost WhispersProblem Child 2Sudden ImpactThe VikingsThe Life Aquatic with Steve ZissouPooh\\'s Grand Adventure: The Search for Christopher RobinThe Water ManAlohaThe SnowmanThe Woman in BlackUntold: Crimes & PenaltiesMoulin Rouge!BrimstoneGolden JobTeen Wolf TooAlien OverlordsHere Comes the BoomMissing in ActionThe Men Who Stare at GoatsThe Day of the JackalJoe BellTwin Peaks: Fire Walk with MeThe Disappearance of Haruhi SuzumiyaThe Bounty HunterBilly ElliotThe Heartbreak KidInsomniaRoundersBenjiK-PAXTrashCrimson Rivers II: Angels of the ApocalypseAlong Came a SpiderSuperman II: The Richard Donner CutPain and GloryPuppyloveTom and Jerry & The Wizard of OzThe Scorpion King 4: Quest for PowerAll the President\\'s MenStreetDance 2Seven PsychopathsTales from EarthseaLaw of DesireProspectFlight of the PhoenixDownrangeOne Direction: This Is UsThe FanaticChristmas with the KranksBatman & Mr. Freeze: SubZeroQuarantine 2: TerminalThe Virgin SuicidesBatman Unlimited: Animal InstinctsAll About My MotherBeyond the Boundary: I\\'ll Be Here – FutureArmoredThe Women and the MurdererWelcome to Sudden DeathBlue Is the Warmest ColorA Nightmare on Elm Street: The Dream ChildMiss Willoughby and the Haunted BookshopBattle for the Planet of the ApesHeidiChristiane F.BeneathWild TalesThe Girl in the Spider\\'s WebSalon KittyYou\\'ve Got MailMonster High: Freaky FusionFarewell My ConcubineThe StingThe Elephant ManThe Longest DayFried Green TomatoesA River Runs Through ItSorry AngelConeheadsThe ReapingMaster and Commander: The Far Side of the WorldAfter the Ball1987: When the Day ComesThe Thirteenth FloorNever Cry WerewolfMy Neighbors the YamadasFrailtyBone TomahawkCamp RockMarvel One-Shot: All Hail the KingThe 6th DayThe Town that Dreaded SundownMarvel One-Shot: Item 47The Wedding Veil LegacyNutty Professor II: The KlumpsOld HenryUnlockedFantomas UnleashedLittleThe CaptivePlaymobil: The MovieThe RecallBarely LethalLove the CoopersAlpha and OmegaThe Lost BoysMisha and the WolvesCockneys vs ZombiesThe Stolen PrincessDon\\'t Hang UpStealthArgo2010Iron Man: Rise of TechnovoreHarmonyAllan Quatermain and the Lost City of GoldJackie BrownMonster High: Frights, Camera, Action!The Maltese FalconRun Lola RunThis Little Love of MineSleeping BeautiesIn the Name of the FatherMisbehaviourKen ParkLoveRunaway BrideMiami ViceRust CreekCriminal ActivitiesFir CrazyBratzThe Ewok AdventureRomeo Must DieDrunk ParentsThe RuinsJust MarriedNext Gen13 SinsThe Lighthouse of the OrcasPolice Story: LockdownCube8MMMr. BrooksMy Friend\\'s WifeThe Unbearable Lightness of BeingWavesMacross: Do You Remember Love?GrabbersChaosBerlin DriftersPuella Magi Madoka Magica the Movie Part III: RebellionAfter the RainDenialPerrasS. DarkoThe Crow: SalvationRomancing the StoneVelvet BuzzsawSissi: The Young EmpressGet ShortyThe ForgottenLove HurtsCertain WomenExit WoundsMonster High: Ghouls RuleHigh Plains DrifterThe Shaggy DogThe GameBurntAll Dogs Go to HeavenCareful What You Wish ForPray AwayDoraemon: Nobita and the Space HeroesHarry and the HendersonsLupin the Third: Goemon\\'s Blood SprayShortbusEvilRinguTime to HuntHotel ChevalierSwat: Unit 887It\\'s a Mad, Mad, Mad, Mad WorldMuppets Most WantedCold MountainJackass Shark WeekThe Haunting in ConnecticutFirestarterGreen Street Hooligans: UndergroundBullet to the HeadMickey\\'s Once Upon a ChristmasWords on Bathroom WallsAwakeningsAugust RushThe Third ManBatman vs. Two-FaceMotherless BrooklynReign of FireZombiesFelonPlaying with LoveMortal Kombat: RebirthThe BeachAlmost FamousCloudsScooby-Doo! FrankencreepyMy Own Private IdahoNothing but TroubleGet the GriftDance of the Forty OneTullyAnother EarthFrankensteinDogvilleThe Fly IIPetals on the WindBoat TripVisitor QFire with FireBoy Missing1492: Conquest of ParadiseOf Gods and MenThe Seven Deadly Sins: Prisoners of the SkyThe BlobAssimilateIntimacyHulk vs. WolverineThe ChorusBattleship PotemkinThe Great DebatersThe Skeleton KeyA Night at the RoxburyClimaxPaperhouseThe FogOpen WaterThe Assassination of Jesse James by the Coward Robert FordPerfect StrangerThe Hungover GamesApollo 18Whindersson Nunes: É de Mim MesmoThe Life of David GaleRaging BullHow Much Do You Love Me?Air StrikeShaftThe TurningThe RobeThe Santa Clause 2La HaineIron Man & Hulk: Heroes UnitedMr. RightLogan\\'s RunMarvel Studios: Assembling a UniverseFire and IceDisclosureThe GamblerSee No EvilGringoV/H/S/2Cartel LandObsessionK: Missing KingsKwaidanOpen Season 3The Personal History of David CopperfieldCold SkinFinders KeepersCreepshow 2SexologyScooby-Doo! Mask of the Blue FalconPyewacketLive by NightCrows Zero IIThe Disappointments RoomGnome AloneKiss and CryGet HardPercyMommyThe Bride of FrankensteinPiranhacondaWhat We Do in the ShadowsSpring BreakersBlue My MindThe Ouija ExorcismA Matter of Loaf and DeathThe Girl Next Door 2Hard Boiled25th Hour*batteries not includedSin tetas no hay paraísoNotoriousMarvel One-Shot: The ConsultantX-CrossLock UpAntipornoForsakenCakeBlue VelvetPotter\\'s GroundThe IdiotsThe Sand PebblesA Letter to MomoA Christmas PrinceMagnum ForceTapped OutThe Snitch CartelMiddle MenDracula\\'s DaughterPhineas and Ferb: Star WarsThe GuardianDirty HarryBig Gold BrickStuart Little 3: Call of the WildA Very Harold & Kumar ChristmasThe Smurfs: A Christmas CarolScared ShreklessBig Fat LiarSpotlightGinger Snaps 2: UnleashedLEGO DC Comics Super Heroes: Justice League - Attack of the Legion of Doom!Hollow PointJust My LuckThoroughbredsVolcanoThe Place Beyond the PinesOnce Upon a Time in ChinaBurningNaruto: The Cross RoadsCyborg XEyes Without a FaceNextHigh TensionBullet HeadThe Garden of Sinners: Future Gospel2022 TsunamiThe Professor and the MadmanThe SentinelGreenbergLovingFemale Fight SquadPaskalAmazonia: The Catherine Miles StoryPolice Academy: Mission to MoscowThe Boondock SaintsThe Powerpuff Girls MovieFlowers in the AtticKluteShaolinCaptain Underpants: Mega BlissmasThe NetBefore SunriseThe Librarian: Quest for the SpearDiabloPremium RushThe PromiseFlypaperBeverly Hills Cop IIBegin AgainBeautiful Teacher in Torture HellSpring, Summer, Fall, Winter... and SpringRicki and the Flash42A Grand Day OutRisky BusinessCivil War (Or, Who Do We Think We Are)Curse of the Golden FlowerIncomingFrantzMargin CallA Trip to the MoonHighlander: EndgameMr. Smith Goes to WashingtonThe Golden ChildCrazy SafariIron Sky: The Coming RaceBerserk: The Golden Age Arc II - The Battle for DoldreyChristmas Under Wraps...And Justice for AllSgt. Stubby: An American HeroDaylightSo CloseEscape from Planet EarthScooby-Doo! Music of the VampireSet It OffBrotherhood of the WolfRocketmanGrace UnpluggedU-571Fahrenheit 451The StarHouse of Flying DaggersDetective Conan: Magician of the Silver SkyRevolutionary RoadRabid DogsDragon Ball: Fight Son Goku, Win Son GokuBabe: Pig in the CityBurn After ReadingSissiThe Wild GeeseLansky211RadiusA California Christmas: City LightsThe InnocentsBarbershopNight WatchPoint BlankBilly MadisonBoys Don\\'t CryThe Girl in the FogWall StreetCrocodile DundeeThrow Momma From the TrainLove Live! The School Idol MovieJudgment at NurembergHard to KillStitchesHuskA Thousand and One NightsLoving AnnabelleGangster No. 1Sound of MetalOffline: Are You Ready for the Next Level?Ghost in the Shell: The New MovieRumor Has It...In the Name of the King: A Dungeon Siege TaleThe SilencingDrumlineMade in Abyss: Dawn of the Deep SoulThe Calm BeyondLondon FieldsI Now Pronounce You Chuck & LarryKidnapping StellaHard CandyMidnight CowboyWild at HeartGangster SquadBleed for ThisWar MachineSilkwoodGrudge MatchNever Sleep Again: The Elm Street LegacyStar Trek: InsurrectionThe Pirates! In an Adventure with Scientists!Mulan: Rise of a WarriorTamayura: Graduation Photo Part 1 - KizashiSuper Monsters Furever FriendsSlaughterhouse RulezThe BouncerHaunted Hospital: HeilstattenTrue LegendMarvel RenaissanceThe WrestlerThe Long Kiss GoodnightStuntmanEasy RiderJoyeux NoelThe Last CastleLook Who\\'s BackDeath Note Relight 2: L\\'s SuccessorsTime FreakThe Way Way BackCannibal FeroxLittle Nemo: Adventures in SlumberlandWinnie the Pooh: A Very Merry Pooh YearKidnapping Mr. HeinekenUnderdogHector and the Search for HappinessThe WraithLast VegasOur HouseSpace Chimps 2: Zartog Strikes BackRevenge of the Nerds II: Nerds in ParadisePartysaurus RexJourney\\'s EndCongoDude, Where\\'s My Car?The SpecialMaya the Bee: The Honey GamesScooby-Doo! Adventures: The Mystery Map200 Pounds BeautyIt Comes at NightGame of DeathMy WayKim PossibleThe Secret of MoonacreThe PhysicianSandy WexlerIsle of DogsPattonGhost in the Shell Arise - Border 4: Ghost Stands AloneCannonball Run IIAn American CrimeDemon SlayerDominoThe Twilight SamuraiSmall FryWhen Dinosaurs Ruled the EarthSword MasterDark DesireNational Lampoon Presents Dorm DazeElizabeth: The Golden AgeFirst KillThe Guardian BrothersInto the InfernoThe Devil InsideTom and Jerry: A Nutcracker TaleStar Trek V: The Final FrontierFive Nights at Freddy\\'s: The Fan MovieMaverickA Perfect MurderThe Bad BatchDopeBlack KnightCosmic SexAlong Came PollyBuffy the Vampire SlayerKill ChainBlindnessThe BeastBelzebuthLeaving Las VegasThe Astronaut\\'s WifeSoldier BoyLean on PeteThe Purity of VengeanceJourney to the West: The Demons Strike BackThoroughbredSheep & WolvesHoney: Rise Up and DanceGasoline AlleyElla Bella BingoJu-on: The Grudge 2Lucy and DesiThe Hole in the GroundDrivenThe MessengersBarely LegalThe Bridges of Madison CountyThe Lazarus EffectDark WatersBen & JodyOperation HyacinthInvasion: Planet EarthCritters 3Hercules in New YorkRagnarokDetective Conan: Crossroad in the Ancient CapitalDragon WarsBreaking SurfaceThe BorrowersJohnny MnemonicGloryDark AngelWe Die YoungWild RosePuella Magi Madoka Magica the Movie Part I: BeginningsMickey\\'s Twice Upon a ChristmasBalto III: Wings of ChangeThe Gendarme and the GendarmettesThe PoolLife of CrimeThe Back-Up PlanEl AngelThe Marine 2Call of HeroesMickey Blue EyesKidsShow DogsAnother Gay MovieAdventures of Arsène LupinMutiny on the Bounty100 ThingsOpen Water 2: AdriftHelp! I\\'m a FishLast HolidayUnstable Fables: 3 Pigs & a BabyAlmost FriendsGlass HousesThe Keeper of Lost CausesThe Pink Panther 2Hellraiser III: Hell on EarthAround the World in Eighty Days3 Days to KillPower Rangers Super Megaforce: The Legendary BattleBecoming2-Headed Shark AttackEraserheadJackieHeart of BatmanSilencedThe Current WarSalma\\'s Big WishNavy Seals vs. ZombiesGabrielThree Colors: WhiteBeyond the EdgeGood Morning, VietnamGod of WarMilk MoneyBullittCardcaptor Sakura: The Sealed CardThe KillerFive Children and ItRun the TideA Ghost StoryInsideCinderella and the Secret PrincePlay or DieRape Zombie: Lust of the DeadThe Cabinet of Dr. CaligariThe ShowJoJo\\'s Bizarre Adventure: Diamond Is Unbreakable – Chapter 1The Land Before Time IV: Journey Through the MistsReindeer GamesWin a Date with Tad Hamilton!A Royal WinterMadea\\'s Big Happy FamilyBlade Runner: Black Out 2022Race to Witch MountainThe Phantom of the OperaPiglet\\'s Big MovieKing Kong vs. GodzillaOpen RangePorno GirlsForbidden EmpireGrave EncountersThe Man Who Shot Liberty ValanceAnalyze ThisPoltergeist IIIBewitchedUnder SiegeAlways Be My MaybeBurn OutSolarisThe Shipping NewsThe DomesticsGuess WhoDefinitely, MaybeThe Fear of God: 25 Years of The ExorcistChocolatThe WolverineLion of the DesertA Troll in Central ParkMiss AmericanaKate & LeopoldYour Friend the RatFair GameThe 100th Love with YouWe Need to Talk About KevinCruel Intentions 2Down a Dark HallPersonaFading GigoloMen Behind the SunThe One and Only IvanAnother Egg and Chicken MovieCamp X-RayPhiladelphiaRaw DealJulia\\'s EyesColoniaThe Ides of MarchThe Money PitMonster High: 13 WishesLost in TranslationPromJingle All the WayInto the BlueDetective Conan: Zero the EnforcerA Turtle\\'s Tale 2: Sammy\\'s Escape from ParadiseKagemushaLake Placid: The Final ChapterSacrificeGreat WhiteThe Blues BrothersNew OrderA Dangerous MethodIn the BloodFright Night 2: New BloodThe BodyMen, Women & ChildrenUnder the Silver LakeBeowulf & GrendelThe Eight HundredPrivate SchoolThe Glass CastleAnchorman: The Legend of Ron BurgundyGhost of Goodnight LaneMen in HopeAgent Cody Banks 2: Destination LondonThe FirmMidoriA Kid in King Arthur\\'s CourtAnything ElseHard KillTerrifiedThe Belko ExperimentThe Gruffalo\\'s ChildTom and Jerry: The Magic RingEmpire of the SunDeadfallBattle in HeavenBedknobs and BroomsticksARQThe AmbulanceRomaEasy Sex, Sad MoviesNancy Drew and the Hidden StaircaseJuicePiranha II: The SpawningWild Things 2Vampires: Los MuertosThe InformersStripteaseAlone in the DarkAre You HereThe Frozen GroundGrappler BakiThe HoleDragon Tiger GateThick as ThievesThank You for SmokingDaughters of EveThe Joy Luck ClubThe Good LiarTiempoWalk the LineLet It SnowFort ApacheWhat to Expect When You\\'re ExpectingThe AftermathThe Extraordinary Journey of the Fakirmid90sWeird SciencePoseidonAsterix and the Big FightSambaThe Call UpSex and Death 101Asterix the GaulVantage PointSabrinaBarry Lyndon2001 Maniacs: Field of ScreamsErotic SeductionsThe LifeguardRockNRollaThe Return of the KingThe Piano TeacherCrooked HouseWinter\\'s TaleReprisal20,000 Leagues Under the SeaDracula II: AscensionDouble DadStargate: ContinuumThe God CommitteeDjangoWhat a Girl WantsThe Current OccupantNaked Ambition 3DSharknado 3: Oh Hell No!MonolithNo FilterAstérix at the Olympic GamesSoylent GreenPhineas and Ferb: Mission MarvelJane EyreA Brighter Summer DayKillers AnonymousI.T.AngeliqueBlood of RedemptionA Stork\\'s JourneyThe QueenBlindsided: The GameThe Con Is OnCocktailMongol: The Rise of Genghis KhanThat Obscure Object of DesireAurora Teagarden Mysteries: Haunted By MurderRayScooby-Doo! Moon Monster MadnessHouse of the Dead 2Detective Conan: The Crimson Love LetterA Hard DaySofia the First: Once Upon a PrincessThe Man Who Knew Too MuchMonster High: Fright On!A Real Young GirlBatman Unlimited: Monster MayhemUlyssesOfficial SecretsMac and MeMandyChina SalesmanPowder BlueCan\\'t Hardly WaitHeavy MetalBeing ThereFun and Fancy FreeScrooged27 DressesTo Catch a ThiefEscaflowne: The MovieThe MustangCity of AngelsTales from the CryptMcLintock!Crocodile Dundee IICanon (Fidelidad al límite)The X Files: I Want to Believe88 MinutesThe Adventurer: The Curse of the Midas BoxOne Wild MomentThe Last SongHotel RwandaDracula III: LegacyMy Father\\'s Other FamilyDevil\\'s DueBird on a WireThe Haunted MansionFamily Guy Presents: Stewie Griffin: The Untold StoryAnimals UnitedCube 2: HypercubeMighty Joe YoungImitation of LifeCage DiveThriller: A Cruel PictureThe Big BlueI Am Not an Easy ManGirlRugrats Go WildThe VoicesHellraiser: HellseekerQuills7500One Piece: Strong World Episode 0Beyond White SpaceMinions: PuppyJungleeThe GetawayHavocAsakusa KidFuneral Parade of RosesA Chinese Odyssey Part Two: CinderellaAnomalisaThe Mothman PropheciesHarrietBatman: Return of the Caped CrusadersDouble JeopardyOne Crazy Summer: A Look Back at Gravity FallsGunfight at the O.K. CorralSay Anything...SlumberKindergarten Cop 2SniperThe JacketI Am Bruce LeeDetective Conan: The Private Eyes\\' RequiemNaruto, the Genie, and the Three Wishes, Believe It!Thank You for Your ServiceSmokey and the Bandit II13Young Guns IIDarcThe DeepFather of the Bride Part IIChances AreThe 36th Chamber of Shaolin1911Fate/stay night: Heaven\\'s Feel III. Spring SongThe PianoSpanglishAbove SuspicionThe Star Wars Holiday SpecialThe Andromeda StrainThe Invention of LyingCinderela PopInvincibleVolverBackdraft 2Saving Mr. BanksBoysTootsieMr. JonesThe Dirty DozenRanma ½The Flintstones in Viva Rock VegasThe Exorcism of Anna EcklundHistory of the World: Part ITo Wong Foo, Thanks for Everything! Julie NewmarOn Deadly GroundLittle Miss SunshineThe Way BackHiddenThe Time Traveler\\'s WifeThe Wicker ManPrimerOne Piece: Episode of Luffy - Hand Island AdventureViking BloodMonster High: Escape from Skull ShoresAn Optical Illusion - IntervalCrayon Shin-chan: Shrouded in Mystery! The Flowers of Tenkazu AcademyBarabbasViolent CopStreet Fighter II: The Animated MovieEarth and BloodThe People vs. Larry FlyntThe LedgeMonster High: New Ghoul at SchoolRules Don\\'t ApplyThe Day AfterBaitTaking LivesPatriot GamesGokuraku sentô: Kyonyû yumomiCloseMaking The WitcherAdaptation.Battle at Big RockThe Double Life of VéroniqueGod\\'s Own CountryRaging FireOsmosis JonesEighth GradeYou Were Never Really HereDerailedAnimal FarmThe Flowers of WarThe WardOvellaMutant Pumpkins from Outer SpaceHeadhuntersLake Placid 3The Hand that Rocks the CradleThe OrderZombies: A Living HistoryCity of EmberIn FabricKilling Me SoftlyForce of Nature7th FloorWhen the Bough BreaksIn the HouseStripesTwo Weeks NoticeDoraemon: Nobita\\'s DinosaurSister Act 2: Back in the HabitSpreePatch AdamsThe BrideBad Boy BubbyLove Potion No. 9AzumiDogmaThe Right OneThe BreedSeven Deadly Sins: LustCan You Keep a Secret?Hellraiser: RevelationsHomecoming: A Film by BeyoncéA Shaun the Sheep Movie: FarmageddonHate by Dani RoviraWhite Men Can\\'t JumpBaby BoomNight SchoolNovitiateIp ManMegan LeaveyIron MonkeyTequila SunriseThe Wizards Return: Alex vs. Alex11:14Drillbit TaylorThe PerfectionLa Leyenda del DiamanteThe First KingBattle of the YearEbola ZombiesMidnight SpecialMission «Sky»All Monsters AttackWelcome Home Roscoe JenkinsWould You RatherThe Other ManChained HeatFright NightAdventurelandFamily VacationThe Boat That RockedSt. Trinian\\'sThey Call Me TrinityGiaDavid and GoliathLet Him GoMom\\'s Friend 2The Visitors II: The Corridors of TimeThe DirtCapture the FlagSword of VengeanceNobody\\'s FoolA Fairly Odd Movie: Grow Up, Timmy Turner!Assassin\\'s Creed: EmbersAnna and the ApocalypseInto the SunFlyboysOverrunJackFerdinand the BullDemolitionCrocodileStreet KingsFriend RequestAntigangMy Girl 2Boy ErasedThe Mistress of SpicesMockingbirdChappaquiddickCharm City KingsThe Opposite SexThe Snow Queen: Mirror LandsThe Brothers BloomShakespeare in LoveDeck the HallsMurder She SaidHubie HalloweenWayne\\'s WorldThe Fearless Vampire KillersThe Red ThreadPsycho IIDog Day AfternoonI\\'m No Longer HereHoney, We Shrunk OurselvesFrench KissRomeo and JulietUnaccompanied MinorsAnalyze ThatStreets of FireInside Llewyn DavisManhattan NightInconceivableIt Could Happen to YouWhere\\'d You Go, BernadetteInterstella 5555: The 5tory of the 5ecret 5tar 5ystemThe ApartmentMcFarland, USAWitness for the ProsecutionTokyo StoryJoint Security AreaThe Ghost and the DarknessSweet NovemberLoving VincentBest SellersField of DreamsThe RaffleThree Days of the CondorRedbadArchiveResident Evil: Keeper\\'s DiaryThe Right StuffA Night to RememberKillshotLake Placid 2Shiva BabyA Nightmare on Elm Street 3: Dream WarriorsBad CatCold PreyA Fantastic WomanNaked KillerShark BaitMeatballsFor Whom the Bell TollsWhen We First MetSanta BuddiesLetters from Iwo JimaCucuy: The BoogeymanSex PotSecretariatChronicles of the Ghostly TribeDr. Dolittle 3Hulk vs. ThorTake the LeadThe MessageCabin Fever 2: Spring FeverKill Me Three TimesRaped by an Angel 4: The Rapist\\'s UnionPoetic JusticeBackstabbing for BeginnersThe CovenantExpelledRoman J. Israel, Esq.Falling Inn LoveBehind the CurveInventing the AbbottsConfessions of a Brazilian Call GirlChaplinUrban Legends: Bloody MaryThe Legend of Bagger VanceStalked by My NeighborGeek CharmingDragon Ball: Goku\\'s Fire BrigadeFlubberDrake & Josh Go HollywoodHold the DarkGomorrahFearCity LightsThe Rocky Horror Picture Show: Let\\'s Do the Time Warp AgainSnow Falling on CedarsColor of NightStranger ThingsNow Is GoodReign of AssassinsThe Magic RoundaboutRentThe Story of My WifeBrotherhood of Blades II: The Infernal BattlefieldKamikaze GirlsThe BossTie Me Up! Tie Me Down!FlowerColorfulPloey: You Never Fly AloneThe Rifleman of the Voroshilov RegimentThe FlyboysRetributionBananaTeen SpiritKiss the GirlsGhost GraduationA Man ApartArmed ResponseThe RainmakerMy Stepmother Is an AlienSpooky BuddiesBoa vs. PythonAnnie HallBarefoot in the ParkAcceptedTrafficForbidden PlanetCandy JarRed EyeThe 7th Voyage of SinbadRurouni Kenshin: Requiem for the Ishin PatriotsFuturama: Bender\\'s GameTeam America: World PoliceA Man Called OveSunset BoulevardThe Sisters BrothersBuffalo \\'66PathfinderViralKeep WatchingAfter the DarkBlack BeautyDavid Attenborough: A Life on Our PlanetCompartment No. 6Flower and Snake 4: White Uniform Rope SlaveThe NaturalTwo Night StandFred ClausChristmas InheritancePoison Ivy: The New SeductionUrotsukidōji: Legend of the OverfiendFlukeDangerous BeautyLook Who\\'s TalkingCellularThe Ipcress FileUnder the Stars of ParisPorky\\'s II: The Next DayThe Stanford Prison ExperimentThe ChoiceFathers and DaughtersInitial DiCarly: iGo to JapanFour Christmases14 BladesIn Dubious BattleTurbo KidThe TournamentBilly & Mandy\\'s Big Boogey AdventureHudson HawkDaddy Day CareThe DuelDetective Conan: Quarter of SilenceCrows ZeroSpeakShall We Dance?The Whole Nine YardsThe Merchant of VeniceBentThe Kings of SummerThe SiegeAntrumSteve JobsHappy TogetherA Perfect EndingThe Legend of 1900WestworldMr. HolmesThe CountessMagnoliaAndrei RublevThe FarmThe 16th EpisodeKill Your DarlingsOffice Love: Behind Closed DoorsVirtuosityThe First Wives ClubA Change of SeasonsModern Times8½Transformers: Prime Beast Hunters: Predacons RisingTaylor Swift: Reputation Stadium TourThe WarlordsThe ReckoningMankIncendiesRifkin\\'s FestivalSpontaneousThe Thief of BagdadInterview with a HitmanAvicii: True StoriesFunny GamesThe Main EventSecretly, GreatlySynchronicKilling Them SoftlyDetective Dee: The Four Heavenly KingsDou kyu sei – ClassmatesSong to SongShark Night 3DSpinning ManKikaMe and Earl and the Dying GirlAbout Last NightLittle ChildrenGigliMProblem Child 3: Junior in LoveThe Fall of the Roman EmpireLast Man StandingThe Little Prince(ss)The Reluctant FundamentalistMay God Save UsSex School: Dorms of DesireRomeo & JulietFar from the Madding CrowdThe EdgeSuburbiconDeath Race 2000Everything You Always Wanted to Know About Sex *But Were Afraid to AskHey Arnold! The MovieMardock Scramble: The Second CombustionClose My EyesThe Half of ItThe Secret of NIMHThe Girlfriend ExperienceThe Prince & MeRoad TripThe VisitorsKicksGreen RoomFlashdanceLucky TroubleIntolerable CrueltyBefore the Fall6 DaysHeroes: Silence and Rock & RollBring the Soul: The MovieKnight of CupsSenselessStaying AliveI, Daniel BlakeWe Have Always Lived in the CastleTransformersLizzieThe InsiderPopeyeQueen of the DamnedYouthTwo Mules for Sister SaraVertical LimitTurner & HoochWords Bubble Up Like Soda PopMartin EdenYojimboOur Little SisterThe Nanny DiariesBill & Ted\\'s Excellent AdventureTurbulenceGrandmaPawn SacrificePersona 3 the Movie: #1 Spring of BirthThe Thousand Faces of DunjiaRuby SparksLa civilPawn Shop ChroniclesNovember CriminalsJumanjiSex Game 6969Last KnightsEmerald GreenGhost SharkThe Cutting Edge: Going for the GoldA Private WarBosomy MomThe Last DragonslayerAn American Tail: The Treasure of Manhattan IslandDead Space: DownfallTora! Tora! Tora!Death Note: Light Up the New WorldThe EagleEl GringoA Bittersweet LifeThe HoursShelterA Nice Girl Like YouDeep RisingBlack Snake MoanCaveThe Night PorterA Beautiful Day in the NeighborhoodMotherThe FurySide EffectsThe KillersKakurenbo: Hide & SeekBeethoven\\'s 2ndParis Can WaitJoyElles02:22Royal Space Force - The Wings Of HonneamiseThe Motorcycle DiariesNanaRed CliffConvergence: Courage in a CrisisEarthquake BirdCommitmentRamona and Beezus6 SoulsOld YellerThe Return of the Pink PantherShiny_Flakes: The Teenage Drug LordBlue ThunderKaty Perry: Part of MeDestroyerOne Week FriendsSuperintelligenceDon\\'t Look NowThe Girl Who Played with FireMythica: A Quest for HeroesMoonrise KingdomMurder by NumbersGabriel\\'s Rapture: Part OneBest of the BestThe Good, the Bad, the WeirdThe Dead ZoneStolen by Their FatherValhallaCadet KellyDOA: Dead or AliveMercyHenry & JuneMiami Supercops4/20 MassacreGrandma\\'s BoyNicky Larson and the Cupid\\'s PerfumeAlien NationThe SacrificeThe Manchurian CandidateFiddler on the RoofRabidThe Brass TeapotKon-TikiThe House of the DevilAnd So It GoesThe Delta ForceUp and AwaySnake EyesAn Affair to Die ForLike MikeLady Chatterley\\'s LoverThe Phantom of the Opera at the Royal Albert HallThe After PartyThe Cheetah GirlsCabaretAlwaysLet the Bullets FlyLa Dolce VitaThe MusketeerTightropeLabor DayLords of ScamThe Last ManMy Cousin VinnyRebel Without a CauseThe Wedding BanquetFreeheldLock, Stock and Two Smoking BarrelsA Walk in the WoodsFrom the Land of the MoonHatchet IIOne Missed CallLuxorHellbenderHachi-koAlligatorCrash PadLike Mike 2: StreetballLost and DeliriousPiranha SharksThe StepfatherHurricaneAges of LoveOliver!Yu Pui Tsuen IIITidal WaveTwo by Two: Overboard!MiraclesThe EndlessGrace of MonacoGirlHousePowderLEGO DC Comics Super Heroes: Justice League: Cosmic ClashDressed to KillBreaking News in Yuba CountyHope SpringsThe Big HitA Company ManSexual PredatorRomy and Michele\\'s High School ReunionAnatomy of a MurderVampyros LesbosHerbie Goes to Monte CarloA HeroAmmoniteThe Mad Adventures of Rabbi JacobFate/Grand Order: First OrderScooby-Doo and the Ghoul SchoolFuriousSex: A Relationship and Not MarriageStudent ServicesNaruto BersyukurJessabelleMississippi BurningMalibu RescueBlack Mirror: BandersnatchThe Taming of the ScoundrelFellini SatyriconJust Friends12 Rounds 2: Reloaded14 and UnderPaths of GloryThe Taking of Deborah LoganSnow BuddiesHotel for DogsChicagoThe Poseidon AdventureLEGO Jurassic World: The Secret ExhibitCome AwayStreetDance 3DManual of Love 2ErasedBlue ValentineStrongerElectionBaggio: The Divine PonytailHow to Steal a MillionThe Man with One Red ShoeAngel of MineJohn Tucker Must DieSame Kind of Different as MeHell BabyStriking DistanceMy Babysitter\\'s a VampireEmbrace of the SerpentJakob the LiarThe Devil\\'s RejectsHush21 GramsThe Flintstones & WWE: Stone Age SmackDown!Curly SueMy Lucky StarsR.A.I.D. Special UnitMy Name Is NobodyTower BlockIn a Valley of ViolenceTell It to the BeesIdentifying FeaturesAmen.House on Haunted HillThe Sisterhood of the Traveling PantsMacbethAnd Soon the DarknessSobiborMonster Island30 Nights of Paranormal Activity With the Devil Inside the Girl With the Dragon TattooPhantom HaloThe Land Before Time XI: Invasion of the TinysaurusesLEGO Jurassic World: The Indominus EscapeJiro Dreams of SushiDream HouseMs .45Cool Hand LukeThe To Do ListCrayon Shin-chan: Unkokusai\\'s AmbitionCourage Under FireTom and Jerry: The Lost DragonCantinflasGreen ZoneThe EnforcerThe Search for Santa PawsThe Human Condition II: Road to EternityMarvel Knights: EternalsThe New GuyThe Hunter\\'s PrayerThe Absent OneNine LivesAll American Bikini Car Wash2046Days of Being WildQuarantineAmerican PastoralAbove the ShadowsThe DoorsFuturama: Into the Wild Green YonderLittle BitchesEl padrino: The Latin GodfatherParis, 13th DistrictThe KidA League of Their OwnWater LiliesMiracle on 34th StreetRonal the BarbarianMade in DagenhamThe Limehouse GolemCyrano de BergeracOperation PetticoatASSEMBLED: The Making of HawkeyeThe Last UnicornUn Chien AndalouThe HurricaneThe Greatest Game Ever PlayedJoy Ride 3AntitrustChocolateThe Royal TenenbaumsVan Helsing: The London AssignmentNorman: The Moderate Rise and Tragic Fall of a New York FixerFranco Escamilla: Por La AnécdotaThe Thomas Crown AffairSpy HardLovestruck: The MusicalKaboomMasters of the UniverseSing StreetThe Last WordThe HustlerOmen III: The Final ConflictDr. Jekyll and Mr. HydeHow I Live NowHellboy Animated: Blood and IronMimic 2The SwitchThe Miracle MakerThe Santa Clause 3: The Escape ClauseInfernal AffairsDay of the MummyLe SamouraïThe Siege of JadotvilleMy Partner 2.0The Book of LoveThe Sweetest ThingThe Curse of Sleeping BeautySwimming PoolFinal AnalysisCube ZeroJo Pil-ho: The Dawning RageGirl in the BoxThird PersonThe CampaignBarney\\'s Version3 NinjasUgetsuThe GallowsThe Beatles: Eight Days a Week - The Touring YearsThe Painted VeilBlancanievesDarkmanProject A: Part IIDisaster MovieCharlie Wilson\\'s WarCry-BabyMilkLike a Cat on a HighwayThe Devil\\'s DoubleThe Sun Is Also a StarWhite Fang 2: Myth of the White WolfSurvival of the DeadNot Without My DaughterUncle BuckVideodromeVampiresMoney TrainGloriaYour HighnessFor Love or MoneyBeavis and Butt-Head Do AmericaPhilomenaGlengarry Glen RossMy Sex DollBad GirlsThe Whole Ten YardsThe French Lieutenant\\'s WomanA Taxi DriverGambitThe Incredible Burt WonderstoneWuthering HeightsEl PadrecitoHolidaysThe ArrivalCoco Before ChanelMorning GloryIn the Heat of the NightSissi: The Fateful Years of an EmpressCookiesSky Captain and the World of TomorrowThe SuckerAppleseed: Ex MachinaMastermindsAmourSynecdoche, New YorkWhen a Man Loves a WomanSense and SensibilityMarvel Rising: Secret WarriorsPrematureCleanerKingpinA Family ManThe Glimmer ManPaulieThe BountyOut of the FurnaceCape FearClassBlind FuryEl MariachiFive Nights at Freddy\\'s: The Fan FilmBeauty ShopFoundLandSleeping with the EnemySecret AdmirerMalevolentAmerican MeSelmaWoman in the DunesTo LiveCity of Life and DeathThe Twins EffectChanging LanesRelicBabelHeroic LosersApollo 11Split SecondFailure to LaunchRacing StripesAny Which Way You CanYellowbeardMartha Marcy May MarleneThe Postman Always Rings TwiceThe DriverThe Banana Splits MovieScooby-Doo! and the Gourmet GhostPoseidon RexLondon BoulevardCrime StoryUntold: Malice at the PalaceThe Young VictoriaManiacNight of the DemonBlackfishThe Marine 4: Moving TargetThe Night Eats the WorldVictoria & AbdulThe Last King of ScotlandThe Triplets of BellevilleDance FlickZombie SharkMaximum OverdriveBig LegendThen Came YouThe Lair of the White WormSave the Last DanceMarmalade BoyHot Tub Time MachineExplorersThe New WorldEveningGood Omens: LockdownEmanuelle and the Last CannibalsParis, Je T\\'AimeOncePatient ZeroSee No Evil, Hear No EvilScream Queen Hot Tub PartyFinding NeverlandDeadTectivesMacross Plus: Movie EditionMy Salinger YearFolklore: The Long Pond Studio SessionsDigimon Adventure tri. Part 1: ReunionThe Man with the Iron FistsMary and MaxThe Fundamentals of CaringThe Sleeping DictionaryThe Librarian: The Curse of the Judas ChaliceTaking WoodstockIce PrincessThe Apostle Peter: RedemptionTime LapseYours, Mine & OursThe Towering InfernoBronsonPoison IvyI Love You Phillip MorrisThe Transformers: The MovieThe WalkFatal AffairRunaway TrainJack FrostEl DoradoGiant Little OnesWings of DesireKim Possible: So the DramaAsterix Conquers AmericaAn American TailMission to MarsFemale War: A Nasty DealBrother 2Life of BrianThe MissingUtøya: July 22The Invisible BoyExecutive DecisionJuniorSexy BeastMoonstruckDouble IndemnityThe Chinese WidowHereafterClub DreadOne Fine DayProximityJagame ThandhiramAnastasia: Once Upon a TimeHer Blue SkyRumble FishJersey BoysSmokey and the BanditEuropa EuropaGet Married If You CanA Common ManLupin the Third vs. Detective ConanBombshell: The Hedy Lamarr StoryA Go! Go! Cory Carson ChristmasA Better Tomorrow IIThe Skin of the WolfSafe HavenThe Miracle SeasonThe RoomThe HousemaidA Night of Horror: Nightmare Radio3-Headed Shark AttackEddie the EagleRanma ½: The Movie 2 — The Battle of Togenkyo: Rescue the Brides!The Ghost WriterThe InfluenceAd AstraSpace BuddiesFan-Fan the TulipDetective Conan: The Time Bombed SkyscraperReal GeniusHigh Fidelity7 Days in EntebbeDate A Live: Mayuri JudgmentBlack DogWater for ElephantsThree Colors: RedChariots of FireMonsters: Dark ContinentOut of SightNever Been KissedClockstoppersLegacy of LiesThe Swan Princess: The Mystery of the Enchanted KingdomDestruction: Los AngelesDog SoldiersPlus OneThose Magnificent Men in Their Flying Machines or How I Flew from London to Paris in 25 hours 11 minutesColor of LoveCandyAlvin and the Chipmunks Meet FrankensteinCitizen Toxie: The Toxic Avenger IVPale RiderSugar & SpiceEnter the VoidBanditsSink or SwimMom and DadPoison Ivy 2: LilyChristmas with a ViewThe Pelican BriefI Am WomanFamily Guy Presents: It\\'s a Trap!Forbidden QuestMy Super Ex-GirlfriendInfamousExamFemme FataleHamburger HillThe Tailor of PanamaQueen of KatweWyatt EarpCapricorn OneTop Cat BeginsIf I Were a BoyHot Summer NightsThe Notorious Bettie PagePolice Academy 6: City Under SiegeOctober SkyThe City of Lost ChildrenThe Best Exotic Marigold HotelNim\\'s IslandOccupationHoneySwiss Family RobinsonThe Cabbage SoupWomen in FuryLEGO Scooby-Doo! Blowout Beach BashAugust: Osage CountyKrullA Fortunate ManBe Somebody3 from HellWhat Doesn\\'t Kill YouAftershockAccording to GretaShrek the MusicalSexo Profundo11-11-2011Rape Zombie: Lust of the Dead 3Corona ZombiesEmmanuelle: Queen of SadosRuby & QuentinThe Boondock Saints II: All Saints DayTrespass Against UsAlineSniper: ReloadedGone Baby GoneParenthoodThe Wizard of LiesThe Perfect DictatorshipGetawayBad SantaRogue WarfareManhuntTomorrow, When the War BeganThe AwakeningCelebrity Sex TapeOccupation: RainfallUnited 93Punch-Drunk LoveScooby-Doo! Meets the Boo BrothersKuch Kuch Hota HaiElisa & MarcelaMusic and LyricsFour RoomsBlow OutThe MonsterEl CidA Christmas Prince: The Royal BabyAvalon HighPlanetariumTaylor Swift: The 1989 World Tour - LiveKabhi Khushi Kabhie GhamFired Up!Adventures of Bailey: The Lost PuppyThe Chronicles of RiddickDetective Conan: The Fourteenth TargetEverybody KnowsLa Belle NoiseuseA Single ManSavagesThe FrightenersOne Eight SevenSemper FiFirst DaughterBordertownUrban Legends: Final CutWombWalking OutRiki-Oh: The Story of RickyLittle LipsKill the IrishmanThe Last American VirginLegal Eagles2012: Ice AgeGrumpy Old MenWolf3 Ninjas Knuckle UpThe Muppet Christmas CarolBram Stoker\\'s Van HelsingThe Count of Monte-CristoComing Home in the DarkPirates of the Caribbean: Tales of the Code – WedlockedGintama: The MovieKung Fu DunkMannyDoraemon: Nobita\\'s Chronicle of the Moon ExplorationVeinteañera, Divorciada y FantásticaThe Little WitchBirthAt Eternity\\'s GateGentlemen Prefer BlondesMi Prima La SexólogaOliver TwistIron EagleEchelon ConspiracyThe ProfessorWitnessDiary of a Sex AddictRobotThaleDonovan\\'s ReefCrocodile Dundee in Los AngelesAny Given SundayPirates of Silicon ValleyThe Adventures of PinocchioSerial (Bad) Weddings 2Violence in a Women\\'s PrisonAce Ventura Jr: Pet DetectiveLeap of FaithStagecoachSatan\\'s SlavesSanta Paws 2: The Santa PupsMystery MenDeath Wish 3Almost HeroesThe GauntletOur TimesPersecutedMy Little Pony: A Very Minty ChristmasMannequin Two: On the MoveSplendor in the GrassPieces of a WomanNothing But the TruthAmazing LoveDream FactoryAngela\\'s ChristmasThe Swan Princess: A Royal Family TaleKeanuAgatha and the Curse of IshtarFive Nights at Freddy\\'s: Forgotten MemoriesLolly-Madonna XXXThree KingsChildren of the Corn IV: The GatheringBuriedK-9Message in a BottleErik the VikingTeslaDefianceMillennium ActressRed ScorpionCabin FeverThe Adventures of Buckaroo Banzai Across the 8th DimensionDolphin ReefAssassination Classroom: GraduationTae Guk Gi: The Brotherhood of WarLay the FavoriteAirplane II: The SequelReturn To ZootopiaMickey\\'s TrailerEmanuelle Around the WorldIdle HandsFright Night Part 2Bajirao MastaniDouble D Dude RanchGood KillPerfect StrangersThe RocketeerDial M for MurderSurvive the NightGreen Street Hooligans 2Boogeyman 3City of LiesGoon: Last of the EnforcersSuicide ClubWho\\'s Harry Crumb?King of New YorkFirst ReformedBugsyBraddock: Missing in Action IIICro MinionGrave of the FirefliesYakuza PrincessAsphalt BurningBreaking InFosterDetective Conan: Captured in Her Eyes50 to 1The GiftWolf Creek 2Galaxy QuestMacross Frontier: The Wings of GoodbyeGosford ParkInvasion of Astro-MonsterThe Cutting EdgeBubble BoyThe Jane Austen Book ClubAmerican FactoryThe Muppets\\' Wizard of OzSphereK-19: The WidowmakerIrina PalmUn Dios prohibidoFamily BusinessJulius CaesarThe Sisterhood of the Traveling Pants 2The Vampire LoversThe CollectionThe Last StandAct of ValorThe Bling RingWall Street: Money Never SleepsUndercover BrotherExistsSeaFoodNights in RodantheThe Story of OShaolin Wooden MenJeremiah JohnsonCity of WomenOpen Your EyesThe Red ShoesShinobi: Heart Under BladeGemma BoveryThe Great BeautyThe Battle at Lake ChangjinThis Boy\\'s LifeAnonymousThe PrincipalMadame ClaudeMonsterBreakHappiness Ever AfterGod of GamblersDamien: Omen IIThe F**k-It ListThe SandmanThe Swimming PoolMute3 IdiotasChildren of the Corn III: Urban HarvestThe Other Side of the DoorDungeons & Dragons: Wrath of the Dragon GodCasper Meets WendyShort Circuit 2BegottenRiphagen the UntouchableThe GeneralMother\\'s DayBaaghiGod of Gamblers\\' ReturnBlue SummerPeaceful WarriorWanderThe InnkeepersLittle Big SoldierThe Wrong TrousersThe Phantom CarriageThe Week OfToc TocThe Crimson RiversMondaySeal Team Eight: Behind Enemy LinesRob RoyBlazing SaddlesBlack EagleLove and BeansThe Librarian: Return to King Solomon\\'s MinesThe Good BossUniversal Soldier II: Brothers in ArmsBlack EmanuelleSleeping With My StudentPatersonU TurnRe-AnimatorTomcatsGreystoke: The Legend of Tarzan, Lord of the ApesLast Moment of ClarityPornographyThe Land Before Time X: The Great Longneck MigrationMarried to the MobPleasantvilleValhalla RisingHow High 2Monster High: ElectrifiedI Hope They Serve Beer in HellHeavenly CreaturesCrocodile 2: Death SwampThe Magnificent OneLady SnowbloodBeyond the Ultimate Spin: The Making of \\'Spider-Man\\'Little White LiesRunaway JuryCarandiruAshes of TimeThe Snow QueenYoung GunsDouble TeamNew Kung Fu Cult Master 2StepmomSupercop 2Werewolf: The Beast Among UsThe WacknessThe LaundromatHoliday in the SunJagged EdgeThe Silence of the MarshGrowing FangsMackenna\\'s GoldPaycheckA Good Old Fashioned OrgySerpicoAlibi.comComplianceJudyBlack SabbathI Could Never Be Your WomanThe SalesmanThis Is Spinal TapMaximum ConvictionThe DiabolicalHighlander: The SourceNecronomiconFrom WithinThe ArcherBoxing HelenaFightingRansom2012 DoomsdayBattlestar Galactica: The PlanAsterix in BritainF*&% the PromFlorence Foster JenkinsDoraemon: The New Record of Nobita\\'s SpaceblazerThe Do-OverHardwareSleepoverMy Big Fat Greek WeddingHoliday in the WildNew WorldYoung Detective Dee: Rise of the Sea DragonSpies Like UsThe Best of EnemiesSwitchMosulHot RodBlack FridayAnna and the KingOrdinary PeopleEnchanted KingdomStormbreakerThe Perfect WeddingBlood OutOctonauts and the Caves of Sac ActunAyla: The Daughter of WarHibikiSisters on TrackLord of the FliesThe Fury of a Patient ManQuest for FireHigh Flying RomanceThe ProfessionalsMysterious IslandLupin III: The FirstRip TideTessCrazy Hong KongPiYu-Gi-Oh! 3D: Bonds Beyond TimeEmpire RecordsMarnieA Love Song for Bobby LongPink FlamingosWheelmanThis Girl\\'s LifeRogue CityThe Final GirlsSvaha: The Sixth FingerEvery Breath You TakeTrue CrimeRecoilZombie Flesh EatersPlease Stand ByDagonTailgateThe Secret Life of BeesStarter for 10The Warriors GateThe ChaseForever YoungDumplin\\'The Cook, the Thief, His Wife & Her LoverMysterious SkinSex, Lies and DeathIn the Line of FireX: The MovieClownhouseRunawayThe DuellistsThe House of the SpiritsThe TunnelI Am Vengeance: RetaliationMayhemWorking GirlThe ManorGurren Lagann the Movie: Childhood\\'s EndLast ShiftThe BarHäxanChasing PapiBearsFrenemies¡Three Amigos!Halloweentown HighThe Two PopesHansel and Gretel Get BakedBuddha 2: The Endless JourneyPassion PlayThe Absent-Minded ProfessorThe Adventures of Baron MunchausenThe \\'BurbsThe Proud Family MovieThe Howling: RebornNorthanger AbbeyMahjong NightsM.F.A.Jin-Roh: The Wolf Brigade22-JulBattle Royale II: RequiemOut for JusticeRealiveLarcenyParis Is BurningKung Fu Panda: Secrets of the MastersPurpose of ReunionExtractOur Meal for TomorrowThe Guernsey Literary & Potato Peel Pie SocietyWhy Did You Kill Me?Slayers GorgeousGrindPrivate ResortIndochineBarefootSummer of 85The Reluctant DragonRise of the Footsoldier: OriginsEnemies CloserBlack SheepDark TideDon’t Leave HomeDollsShogun AssassinI Am WrathThe SignalVanity FairOrgazmoChalet GirlBefore the Devil Knows You\\'re DeadThe Prince & Me 2: The Royal WeddingCharlatanBuddy\\'s MomRichard JewellShadowHibernatusPleasure Shop on the AvenueTwo BrothersThree FugitivesWasp NetworkThe HallowRing of the NibelungsSavage GraceGettysburgKikujiroThe Black DahliaSuite FrançaiseTexas Killing FieldsEbirah, Horror of the DeepTed Bundy: American BoogeymanA VigilanteOffice RomanceThe SitterDragnet1BRBurnoutMiddle School: The Worst Years of My LifeRed PlanetGangster LandThe Ramen GirlHot Tub Time Machine 2Dolphin Tale 2Enron: The Smartest Guys in the RoomDetective Conan: The Eleventh StrikerAnother 9 1/2 WeeksTale of TalesAction PointA Merry Friggin\\' ChristmasThe BlackoutWar of the Worlds 2: The Next WaveTimecopThe Wing or the Thigh?Picture of BeautyWelcome to the SticksAn Easy GirlMadameMystery, AlaskaBorn on the Fourth of JulyDesperately Seeking SusanOnce Upon a Time in High SchoolThe Dark CrystalBe with YouMaskWicked CityThe PartyThe Best OfferCurious George: Royal MonkeyThunderbirdsCries and WhispersChristmas Wedding PlannerAu Revoir les EnfantsCinderella\\'s Hot NightInto the Blue 2: The ReefLove in the Time of CholeraBetty BlueStill AliceFoodfight!Blunt Force TraumaKids ReturnJust One of the GuysBeware the SlendermanThe Wedding SingerThe Fixies: Top SecretDirty Rotten ScoundrelsThe Inbetweeners MovieJustice, My Foot!SubmergenceDriving Miss DaisyPorky\\'s 3: RevengeTwinkle, Twinkle, Lucky StarsRuben Brandt, CollectorBacurauThe Seven Year ItchThe Scary of Sixty-FirstMandingoThe Crimson PirateFairy TalesMonster\\'s BallCamYesterday, Today and TomorrowChildren of the Corn: RevelationThe MercilessAngels with Dirty FacesDark Web: Cicada 3301Alvin and the Chipmunks Meet the WolfmanHatchetTurn A Gundam II: Moonlight ButterflyTristanaChain ReactionPresumed InnocentFlatfoot in Hong KongThree Colors: BlueSwingers Sex PartyVon Ryan\\'s ExpressThe People Under the StairsUp Close & PersonalRevolutionary Girl Utena: The Adolescence of UtenaBunyan and BabeA Cock and Bull StoryHappy Birthday to MeCreature from the Black LagoonThe BookshopThe Party at Kitty and Stud\\'sPierrot le FouCatacombsAll About the BenjaminsCat on a Hot Tin RoofFly Away HomeHow to Marry a MillionaireCrayon Shin-chan: My Moving Story! Cactus Large Attack!Batman & BillThe ZodiacMemories of My FatherFire in the SkyWatch Out, We\\'re MadThe ThievesConsenting AdultsThe HuntedNicholas NicklebyTokyo Gore PoliceAustraliaThe LodgersThe BoxBartok the MagnificentTom and Jerry Meet Sherlock HolmesGuinea Pig 2: Flower of Flesh and BloodThe Young Girls of RochefortIn My Father\\'s GardenThe IncidentGo! The Unforgettable PartyEl día de los albañiles: Los maistros del amorSupercoolThe Bélier FamilySliding DoorsCloud 9Hello, My Name Is DorisJersey GirlWhere Hands TouchSister\\'s Younger HusbandMuriel\\'s WeddingHollywood HomicideA Long Way DownMy Awkward Sexual AdventureParadiseTekkonkinkreetMadame BovaryStrangers on a TrainSoul ManDaughter of the WolfGoing OverboardInside Deep ThroatThe Best Man HolidayWishmasterShippū! Konoha Gakuen Den!My Darling ClementineHalf LightThree MonthsCherry FallsThe Life and Death of Peter SellersGuess Who\\'s Coming to DinnerSPL II: A Time for Consequences102 DalmatiansMa Rainey\\'s Black BottomSaint MaudExtremely Loud & Incredibly CloseThe Legend of Halloween JackThe Wedding UnplannerxxxHOLiC The Movie: A Midsummer Night\\'s DreamThe Shadow EffectPay the GhostSorority RowNormalT2 TrainspottingJobsThe FanThe DilemmaEdge of WinterBig BusinessSon of a RichZappedRanSpace ChimpsLittle Man TateLike Father, Like SonFaster, Pussycat! Kill! Kill!School LifeDonkey XRichie Rich\\'s Christmas WishLebanonLakeview TerraceThe Perfect ManThe Tall Blond Man with One Black ShoeThe CliqueThe Beauty InsideBeasts of No NationFrom Here to EternityGood Luck Charlie, It\\'s Christmas!MirrorBlood BrotherEdge of DarknessMektoub, My Love: Canto UnoThe DamnedDreamgirlsLittle GiantsInspector Gadget 2The TraitorPower Rangers Samurai: Clash of the Red Rangers - The MovieAll About Lily Chou-ChouFrom BeyondThe ResidentPalm SwingsSex School: Student BodiesThirteenLake MungoNever Rarely Sometimes AlwaysCompulsionThe RelicHart\\'s WarGung HoDark CrimesSamHeaven & EarthYamakasiThe Lost WeekendAfter HoursBloody HellAvatar SpiritsBicycle ThievesSeven Deadly Sins: EnvyBlades of GloryThat Thing You Do!HoaxWhitneyCafé SocietySuburraMy Perfect RomanceCreep 2Two WomenScoopWhatever It TakesThe SwampAce HighGoodbye Christopher RobinThe CuredThe Cutting Edge: Fire & IceThe DivideThe SecretPlayTimeRadio SilenceButterUsed CarsSpin OutEmmanuelle: The Joys of a WomanAgoraBalloonBabysitting 2Grosse Pointe BlankBobbleheads: The MovieTake Your PillsHarold and MaudePopstar: Never Stop Never StoppingBless the ChildThe Door in the FloorThe SquareThe King of ComedyFirst They Killed My FatherMy Life Without MeFor Richer or PoorerLotoman 2.0Bixler High Private EyeThe Matchmaker\\'s PlaybookIl MarePhenomenaWith HonorsHighlander II: The QuickeningMiller\\'s CrossingThe ShadowAuditionQuick ChangeGhidorah, the Three-Headed MonsterLa JetéeChacoDead Space: AftermathFrozen RiverThe TargetModern Life Is RubbishHammy\\'s Boomerang AdventureMighty FlashSpy CatRudolph the Red-Nosed Reindeer: The MovieThe Man from EarthDeath Wish 4: The CrackdownHalf BrothersJoy Ride 2: Dead AheadDead WaterBeatsSebergCompadresMammothV/H/S: ViralThawing OutBlood CreekAngel Guts: Red PornoAn Officer and a GentlemanBroken FlowersShadow of a DoubtCandyman: Farewell to the FleshJohnny GuitarLincolnThe Late BloomerGalvestonThe Hundred-Foot JourneyThe House at the End of TimeHesherCracksAmerican Ninja 4: The AnnihilationDay WatchTo Kill a MockingbirdThe NestBattle of the BulgeParis, TexasRobin Williams: Come Inside My MindBreakdownPablo Escobar: Angel or Demon?VirusAnother Gay Sequel: Gays Gone Wild!PetPiratesZombie Tidal WaveBeerfestLa Grande BouffeFrances HaNever Let Me GoRevival of EvangelionYoung FrankensteinAlex StrangeloveMicmacsShockerFrank & LolaBig Time AdolescenceWindstormSpace CowboysLEGO DC Super Heroes - Aquaman: Rage Of AtlantisDolores ClaiborneThe ButlerIn the CutIce SharksFather of the BrideCasanovaDeadgirlHot BubblegumDaisiesBill & Ted\\'s Bogus JourneyP StormBlade: House of ChthonFree SoloSlow WestDancer in the DarkFighter in the WindAmateurThe ConcubineAnthony ZimmerBelle de JourA Kind of MurderYou Got ServedAna & BrunoTuck EverlastingThe Work Wife3 GenerationsCyborg SheBend It Like BeckhamBackcountryPulling StringsLe BrioSex and BreakfastTurkish DelightArn: The Knight TemplarMöbiusTowa no Quon 6: Eternal QuonThe Sex TripThe LadykillersWimbledonThe ConventThe Music of SilenceLos ModernosKidnapping, Caucasian StyleSave the Last Dance 2Extreme JobOsloGone NuttyTristan & IsoldeAppleseedSupport Your Local Sheriff!Looking GlassAbraham Lincoln vs. ZombiesOut of the DarkImmoral TalesThinnerBecketStarmanThe Rage: Carrie 2Dennis the Menace Strikes Again!Last ChristmasThe StrangerTom JonesLegend of the Fist: The Return of Chen ZhenThe Silence of the LambsDaddy Day CampSecondhand LionsPizza Dare 1The Stoning of Soraya M.Zorba the GreekYoung People FuckingRecalledTeam Thor: Part 1The BayAn Unfinished LifeThe Flying DeucesIvanhoeFlying ColorsMunichBreaking the WavesWhere are you going, Aida?SkinsDracula: The Original Living VampireWerckmeister HarmoniesThe RunawaysGodzilla vs. BiollanteVoyage of the UnicornA Chinese Odyssey Part One: Pandora\\'s BoxThe Toxic AvengerXXY71: Into the FirePanfilov\\'s 28 MenBelladonna of SadnessPsycho IV – The BeginningHellraiser: JudgmentSniper: LegacyLesbian Vampire KillersThe Last StarfighterCarjackedMediterraneoDead Rising: WatchtowerBefore We GoHOUBA! On the Trail of the MarsupilamiExcisionMan of the HouseX-Men Origins: WolverineGoing for GoldCrayon Shin-chan: Fierceness That Invites Storm! The Adult Empire Strikes BackHave a Little FaithBody of EvidenceGloria BellDeath Saved My LifeHouse at the End of the StreetAll Quiet on the Western FrontSuck Me Shakespeer 3Come and Find MeCruisingPuppet MasterBig Top Scooby-Doo!Midnight ExpressFlesh + BloodCrazy LoveBoarding SchoolGirls Gone DeadBlood QuantumGodzilla, Mothra and King Ghidorah: Giant Monsters All-Out AttackQueen & SlimThe DarknessThe RockerRaising ArizonaBatman Unlimited: Mechs vs. MutantsSapphire BlueThe InternationalFyreHanging UpHigh SierraCadillac RecordsThe Constant GardenerOur Brand Is CrisisWhen Angels Sleep55 StepsJurassic GalaxyNoelleNight of the DemonsLords of ChaosDesperate MeasuresSomething\\'s Gotta GiveM*A*S*HUnsaneBurn the Stage: The MovieWildcatsThe Disappearance of Alice CreedEating Out: The Open WeekendChasersRescue DawnKajillionaireSaint☆Young MenThe Land Before Time III: The Time of the Great GivingLeave No TraceAir Bud: Spikes BackDedicated to my exRestraintLe DivorceThe TollSyriana3 Ninjas: High Noon at Mega MountainStuck on YouThe Return of Swamp ThingRubberFurry VengeanceThe River WildAzumi 2: Death or LoveThe Key to SexCurse of the Pink PantherRequiem for a DreamAssault on Precinct 13Back of the NetBattle of the SexesWindstorm 2The Garden of Sinners – Chapter 2: A Study in Murder (Part 1)ClownTownMultiplicityThe WayThe Place Promised in Our Early DaysWildeDazed and ConfusedThe Photographer of MauthausenCBGBThe Night of the GeneralsRampantTyrannosaurMetallica: Through the NeverThe SquadThe VoidGoing PlacesContract KillerLEGO DC Comics Super Heroes Batman Be-LeagueredMy Friend DahmerYoung AuntLeatherheadsBefore SunsetDorm Daze 2CreepPaid in FullOtisDigimon Tamers: Runaway LocomonDreamscapeInto the ForestCase Closed: Countdown to HeavenFunny FaceEat, Play, LoveFast FiveDangerous LiesThe Muppet MovieHajime no Ippo - Mashiba vs. KimuraIn a Better WorldRock StarWho Finds a Friend Finds a TreasureAmerican KamasutraDevil\\'s KnotDoraemon: Nobita\\'s Great Battle of the Mermaid KingConor McGregor: NotoriousA Most Wanted ManPerfect SenseBeta TestMy Big Fat Greek Wedding 2Jiang Ziya: The Legend of DeificationHouse of the DeadAngel EyesBlackbeard\\'s GhostKnockin\\' on Heaven\\'s DoorUpon the Magic RoadsTrespassOnce Upon a Time in China and AmericaSerenaQT8: The First EightThe WizTwilight Zone: The MovieTank GirlOf Mice and MenDoraemon: Nobita and the Birth of JapanThe WomanEarth Girls Are EasyBecoming JaneBy the SeaFather There Is Only OneAll Dogs Go to Heaven 2Harry & Meghan: A Royal RomanceThe FallExtra OrdinaryThe Heroes of TelemarkMutant ChroniclesSex AppealBlack Cat, White CatLost Boys: The TribeGoing the DistanceKnick KnackGodzilla Raids AgainThe WatcherSuck Me ShakespeerThe Four FeathersDC Films Presents Dawn of the Justice LeagueBrooklyn\\'s FinestSuperThe WarriorGod of Gamblers IIThe Accused10 Minutes GoneRailroad TigersBanshee ChapterMonstersChildren of the Corn V: Fields of TerrorFronteraAll the Way BoysMutual RelationsMermaidsThe French ConnectionFitzcarraldoElvis & AnabelleTuristasThe Snow Queen 3: Fire and IceBoogeyman 2Righteous KillThe Red BaronAe Fond Kiss...Page EightBlue CrushGrotesqueThe Collini CaseGodzilla: Tokyo S.O.S.Bonnie and ClydeDinosaur IslandRobot Chicken: Star WarsTorrente 3: The ProtectorPumping IronFirst KnightAlfieWarlock: The ArmageddonThe Front PageGreedCut OffEye in the SkyBeyond SkylineThe High NoteThat Darn Cat!SubwayMerry Christmas, Drake & JoshCenter of My WorldBeirutTerrorizersTupac: ResurrectionLupin the Third: Jigen\\'s Gravestone13 MinutesThe BronzeChloeArcticSpace TruckersThe Lords of SalemSystem CrasherMeet the BlacksRunner RunnerHighwayLucid DreamJudy Moody and the Not Bummer SummerGeniusPathologyAmerican SatanSaving SilvermanSix Swedish Girls in a Boarding SchoolThe Handmaid\\'s TaleEnter the Fat DragonBlood WorkAsterix and Cleopatra54Mardi Gras : Spring BreakShe Wore a Yellow RibbonReboundAt First SightGood BurgerWolf CreekFranticStop! Or My Mom Will ShootSilveradoSavva. Heart of the WarriorErnest & CelestineLike Water for ChocolateAir MaterIn the Arms of an AssassinIrresistibleGroup SexKiss Kiss Bang BangDon\\'t Tell Mom the Babysitter\\'s DeadNineteen Eighty-FourShe Devils of the SSWhen the Lights Went Out36th PrecinctNight of the Animated DeadCuban FuryNorth CountryTerror TrapJohnny HandsomeGrand PianoDorothy MillsSong of the SouthDisney Princess Enchanted Tales: Follow Your DreamsRoujin ZAge of DinosaursRaped by an AngelForce 10 From NavaroneFullmetal AlchemistTom and Jerry: Back to OzJoseph and MaryCandyman: Day of the DeadOnibabaFist of the North StarElevator to the GallowsSweet FamilyVictim of DesireThe InvisibleCalibreTotal EclipseD.A.R.Y.L.Super CrazySympathy for Mr. VengeanceThe ApparitionIf OnlyUrban LegendRevenge of the Pink PantherStar Trek: GenerationsLate SpringSalt and FireTrampsUrgeThe Cannonball RunInazuma Eleven Go vs. Danball Senki WThe CureRise of the LegendThe ImmigrantThe Marine 6: Close QuartersMoon CrashMiss ViolenceIncarnateSanjuroAir BudBreaking Boundaries: The Science of Our PlanetMy Brother, My SisterOpen GraveGoneKicking & ScreamingBorn in ChinaDonkey\\'s Christmas ShrektacularIvan Vasilyevich Changes His ProfessionInspector ClouseauThe Cassandra CrossingThe BeastmasterOne Million Years B.C.The Wailer 2Last NightMarked for DeathAnatomy of HellMarvin\\'s RoomMerry Christmas, Mr. LawrenceThe Silence of the Sky1941The KillingThe Land Before Time V: The Mysterious IslandFriday After NextDantonIsi & OssiReturn to OzThe LettersThe Grapes of WrathHaikyuu!! Movie 4: Battle of ConceptsDuplexOm Shanti OmThe Yin Yang MasterAmerican Psycho II: All American GirlIkiruThe GuardPersian LessonsRolling to YouPokémon: The Mastermind of Mirage PokémonBuffaloedAfflictionVixen: The MovieChasing LibertyCat BallouBaskinAnne of Green Gables: The SequelThe Last MimzyA Mermaid\\'s TaleMelody TimeSomeone Like You...Knife in the WaterThe Wild BunchWakefieldRaw JusticeUntamed HeartThe Emperor\\'s ClubPulseDon\\'t Say a WordNameless GangsterMeteor MoonButterfly on a WheelCop OutPicture ThisHave a Good Trip: Adventures in PsychedelicsThe Glass HouseChucky\\'s Vacation SlidesA Very Murray ChristmasThe Burning PlainSupercrossStar Trek II: The Wrath of KhanFat GirlRebeccaTuru, the Wacky HenThe DinnerBlues Brothers 2000The Lost BladesmanTed Bundy: Mind of a MonsterBlindspottingBratz: Rock AngelzBullet in the HeadYou\\'re Killing Me SusanaBloodsport IIParadise BeachParadise AlleyWatership DownFelonySid and NancyAltitudeYou, Me and DupreeKnight RiderFearless Hyena 2Everyone\\'s HeroMark Felt: The Man Who Brought Down the White HouseThe Golden GloveBoomerangHellraiser: BloodlineThe SurvivalistPaparazziFight Back to SchoolCode Name: The CleanerA Secret LoveAn American PickleAirport \\'77Like FatherThe ArkFreelancersAlbert NobbsThe Old WaysHorse GirlVita & VirginiaThe UndefeatedOSS 117: Cairo, Nest of SpiesFire Down Below#AnneFrank. Parallel StoriesAngels FallenWe Are MarshallUnknown OriginsGet a JobA Good YearNaked LunchSee Spot RunRepulsionMidnight RunnersGood Bye Lenin!Double WorldCemetery JunctionJumpin\\' Jack FlashMatadorYentlChampionsThe CrewSamsaraQuiz ShowForces of NatureStockholmThe ExecutionerSeabiscuitThe Devil\\'s OwnBlind DateThe Queen of SpainJoshua TreeCold BloodResistanceChristmas Vacation 2: Cousin Eddie\\'s Island AdventureThe Perilous Internet RingBPM (Beats per Minute)The Land Before Time IX: Journey to Big WaterUp in the AirUnleashing Mr. DarcyDaveMean StreetsElleRevenge of the NerdsPsych: The MovieBad LieutenantJay and Silent Bob Strike BackJoe SomebodyThe Bridge at RemagenEscape from MogadishuPatrickHeart and SoulsWe Own the NightHope GapPlanet of the SharksBucky Larson: Born to Be a StarLady in the WaterThe Beta TestOnce Upon a ForestThe Disaster ArtistThe Legend of HeiArthur & Merlin: Knights of CamelotThe SwordsmanLove Me If You DareAmerican Ninja 5OscenitàTorn CurtainDreambuildersRob the MobLotomanArabian NightsDangerous LiaisonsSailor Moon S the Movie: Hearts in IceThe Lion in WinterToolbox MurdersShe-DevilThe Company of WolvesThirstThe Deep End of the OceanYou Don\\'t Know JackLet It ShineFive Minutes of HeavenKing Solomon\\'s MinesLife ItselfThe New Adventures of AladdinPrimeThe Greatest Show on EarthCasshernPatricia, A Hidden PassionThe Far CountryThe Land Before Time VIII: The Big FreezeSaturn 3Casper\\'s Haunted ChristmasJulie & JuliaRed CornerSteel RainWhite OleanderThe Horse WhispererThe Brides of DraculaThe Black StallionFar and AwayJulietaThe ClimbVampyrShimmer LakeThe Land Before Time XIII: The Wisdom of FriendsThe ProducersBig JakeHome Sweet HellMajor LeagueThe TrainJacob\\'s LadderWhere\\'s the MoneyMessage from the KingMobile Suit Gundam: Char\\'s CounterattackThe Informant!Coffee & KareemCompany of HeroesDeathstalker IIReturn of the Living Dead: NecropolisZolaThe Philadelphia ExperimentHoward the DuckThe AssassinThe Ballad of NarayamaPollyannaThe Story of Star WarsTerra FormarsHaikyuu!! Movie 2: Winners and LosersI OriginsZapped!Pooh\\'s Heffalump Halloween MovieThe Gendarme and the Creatures from Outer SpaceGeronimo: An American LegendHallam FoeThe ObjectiveThe Children ActEye for an EyeHighlander III: The SorcererOutrageGraceFuturama: The Beast with a Billion BacksSeductionStick ItCastaway on the MoonThe Forbidden Legend: Sex & ChopsticksWhat About Bob?CharadeRopeThe Right MomOn the WaterfrontThe Man Who Killed Hitler and Then the BigfootSee You Up ThereGodzilla 1985Shortcut to HappinessThe Spy Gone NorthThe Drawn Together Movie: The Movie!As Tears Go ByThe DebtGame of Death IIBillie Eilish: The World\\'s a Little BlurryLive Twice, Love OnceThe Smurfs and the Magic FluteA Close ShaveCopying BeethovenThe SwapI\\'m Not ThereLike Stars on EarthAir AmericaLooks That KillSan Andreas Mega QuakeFlickaRising PhoenixComrades: Almost a Love StoryThe RecruitThe RiderDance with MeNorwegian WoodBarbie and the Secret DoorChitty Chitty Bang BangEmbrace of the VampireHigh SocietyThe Fresh Prince of Bel-Air ReunionHounds of LoveMega Shark vs. CrocosaurusDetective Conan: The Scarlet BulletHulk: Where Monsters DwellBloodRayneK-911TransitUntitled Digimon 02 Reboot MovieThe Looney, Looney, Looney Bugs Bunny MovieMishima: A Life in Four ChaptersSilhouetteThe Lavender Hill MobAsk Me AnythingGuns of the Magnificent SevenTales from the Crypt: Demon KnightBattle of JangsariAfter She WakesThe Real McCoyWild TargetWishmaster 3: Beyond the Gates of HellCrip Camp: A Disability RevolutionCirque du Soleil: Worlds AwayThe Little Mermaid II: Return to the SeaThe TowerThe LiftBarbie: Dolphin MagicThe Tuche FamilyGodzilla vs. SpaceGodzillaYu☆Gi☆Oh!Miss Fisher and the Crypt of TearsGrease LiveEmpire of Dreams: The Story of the Star Wars TrilogyAmerican Wrestler: The WizardThe Way HomeTo Steal from a ThiefSuper TroopersSwing KidsPartly CloudyDead in TombstoneThe Pit and the PendulumCurious George: A Very Monkey ChristmasCatch and ReleaseThe Defiant OnesThe ConnectionSleepaway CampHudThe Courageous Heart of Irena SendlerGuilty as SinThe Color of MoneyLa Vie en RoseD-ToxDead EndThis Is Our TimeAvengers Grimm: Time WarsDevil\\'s BrideSanta Claus Is Comin\\' to TownThe BachelorRose IslandThe RapeA Hologram for the KingThe SearchersBlood Brothers: Malcolm X and Muhammad AliThe BreadwinnerThe Gospel According to MatthewCity Slickers II: The Legend of Curly\\'s GoldThe CaptainBlown AwayThe Resistance BankerHaikyuu!! Movie 3: Genius and SenseSecond in CommandBeanpoleZombie Massacre 2: Reich of the DeadRise: Blood HunterThe WanderersRicochetA Wizard\\'s TaleGamera vs. GyaosThe Red GhostBody CamSamurai RebellionDestination WeddingHellboy Animated: Sword of StormsBaoAngels in the OutfieldCurious George 3: Back to the JungleThe FencerEleven Silent MenSharknadoChristmas Made to OrderDolphin TaleBe CoolThe Crow: Wicked PrayerThe Cranes Are FlyingNoroi: The CurseBowling for ColumbineHello WorldI\\'m Thinking of Ending ThingsImmortal BelovedHigh and LowSPF-18Big Buck BunnyVidocqThe OctagonAbove the RimPhenomenon3022Raise the TitanicWhile the Wolf\\'s AwayStir CrazyDangalRatterWonder BoysLOLSome Like It RareUnion of SalvationA Better TomorrowNo Time for NutsThe NegotiationGarfield\\'s Pet ForceThe Green ButchersBody DoubleLost & FoundRRRrrrr!!!K-ON! The MovieBig MiracleLittle Lord FauntleroyReturn to Nim\\'s IslandTapsThe ArtistThe Land Before Time VI: The Secret of Saurus RockDoraemon: Nobita and the Green Giant LegendThe Berlin FileThe Man in the MoonThe Emerald ForestMy Favorite WeddingThe Black HoleThe Night of the HunterJesse Stone: Stone ColdBorn YesterdayI\\'m Gonna Git You SuckaFirewalkerRunning ScaredBruce Lee: The LegendHanasaku Iroha: Home Sweet HomeWingsCrazy/BeautifulLiz and the Blue BirdVoyage of the DamnedGoal! II: Living the DreamFlower & Snake IICheckered Ninja 2Auto FocusHard RainAlien ConvergenceDesiertoMarry Me, DudeScorched EarthUrusei Yatsura: Remember My LoveConspiracy TheoryKung Fu Master Huo YuanjiaUnder the Sea: A Descendants StoryBarton FinkRedlineProm NightSome Kind of WonderfulThe General\\'s DaughterEffie GraySafety Not GuaranteedLions for LambsHacksawA Dog\\'s WillCencorollThe Guilt TripWhile We\\'re YoungCaddyshackLike.Share.Follow.The Secret: Dare to DreamHarveyMade in ItalyWoman Walks AheadTimecrimesThe GuruThe Tribes of Palos VerdesThe Lady VanishesSpielbergConfidential AssignmentThe Oil-Hell MurderCómo Filmar Una XXXLord of Illusions32 Malasana StreetBeckyCollege Road TripThe Sure ThingCrying FreemanThe Man Who Killed Don QuixoteA Guy ThingNocturamaEmanuelle in AmericaI Am JonasThe Trials of Cate McCallDrive Me CrazyGhost TownLook Who\\'s Talking TooAbout Love. Adults OnlyPost GradAn EducationThe Big BrawlCarnageGhost in the Shell: Stand Alone Complex - Solid State SocietyWarGamesThe Drowning¡A Volar, Joven!The Swan Princess: Escape from Castle MountainLove WreckedReap the Wild WindFirefoxTigerlandDead Man WalkingSuspicionHollow Man IILittle BuddhaMr. MagooAssassination GamesTrollSex Story: Fifty Shades of Grey3 Men and a BabyBrotherhood of BladesThe Odd CoupleVanishing PointSouthland TalesSmokin\\' Aces 2: Assassins\\' BallMy Best FriendPopulation 436Ronia, The Robber\\'s DaughterOne Piece Episode of Merry: The Tale of One More FriendSidewaysLegend of the Red DragonDeath SentenceGet Him to the GreekMy Father the HeroFrankenstein Meets the Wolf ManAll the Boys Love Mandy LaneCop CarMoscow Does Not Believe in TearsOnce BittenEscape to VictoryHow to Be Really BadSube y BajaWild Mountain ThymeTaxidermiaValFeast of LoveLive FleshRoom on the BroomThe PostmanMy Friend\\'s MomAmerican Ninja 3: Blood HuntFutureworldElvis & NixonThe Incredible Hulk ReturnsSouthboundInside JobVictor CrowleyKing CobraThe Big SleepDetective Conan: The Phantom of Baker StreetKing of ThievesTwin SittersSinbad and the Eye of the TigerDrop ZoneHammer of the GodsDaniel Isn\\'t RealThe Punisher: Dirty LaundryPippi LongstockingAssassination Classroom the Movie: 365 Days\\' TimeGuernicaJack Hunter and the Quest for Akhenaten\\'s TombValentineFameFeast II: Sloppy SecondsPlanes, Trains and AutomobilesUnderdog KidsBaby BoyThe Gods Must Be Funny in ChinaCan\\'t Buy Me LoveBillionaire Boys ClubTeethThe AssistantThree Little PigsKidnappedA Dirty ShamePersona 3 the Movie: #3 Falling DownRape Zombie: Lust of the Dead 2Stranger by the LakeCleanskinAudibleA Rough DraftMinecraft: The Story of MojangAttack the BlockWeekend at Bernie\\'sWhite PalaceFunny GirlLucky LukeArsenalSee No Evil 2The HeiressEnforcementEl encantoLottery TicketHalf Past DeadThe ABCs of DeathThe Great RaidChickenhare and the Hamster of DarknessiParty with VictoriousThe Conquest of SiberiaHerod\\'s LawThe ValetGlory RoadCold Creek ManorDouble DragonThe MimicLean On MeInland EmpireCrown VicDog DaysThe Devil\\'s BackboneBuried AliveThe Adventures of Rocky & BullwinklePoetryExtreme MovieGet Over ItBoundin\\'Mystic PizzaMarquis de Sade: JustineTales of HalloweenIt\\'s ComplicatedUp to YouAccidental LoveThe Little BatherA Little ChaosThe Family StoneThe RewriteKiki, Love to LoveThe Final CutSommersbyThe SoloistPrince of DarknessLife LikePopulaireThe TorturedLatter DaysJadeLet the Right One InBlueberryNostalgiaHustle & FlowLuceThe PlayersSeven Days in MayTin ToyGo for ItPooka!Daddy Long LegsDetective Conan: The Raven ChaserBlack CandlesTokyo DecadenceCelebrityDark LightThe GruffaloSummer Days with CooKung FuryTombstone of the FirefliesOn a Magical NightAbsolutely Fabulous: The MovieMaudieGod, Sex and TruthStayKrabatCrayon Shin-chan: Action Mask vs. Leotard DevilA Moment of RomanceThe Best Little Whorehouse in TexasStrattonThis Is ItKatynPenny DreadfulMichel VaillantThe Man Who Would Be KingFaustAli G IndahouseSaints and Soldiers: Airborne CreedClouds of Sils MariaIcemanThe Immortal Life of Henrietta LacksSchool DanceReturn of the Living Dead: Rave to the GraveRed SunRomeo Is BleedingHere AloneCutie HoneyNight and the CityOuija: Summoning (You Will Kill)Dil To Pagal HaiHousesitterJay and Silent Bob RebootUnder the TreeGottiWinx Club: The Mystery of the AbyssThe Island of Dr. Moreau4Got10EvitaDoraemon: Nobita\\'s New DinosaurTrumboProof of LifeHigh NoonDesperadosThe Head HunterCodaMy Week With MarilynSorry to Bother YouThe ReefThe New King of ComedyHigh☆Speed!: Free! Starting DaysAll Roads Lead to RomeUndergroundBigger Fatter LiarWolf TotemThe Haunted World of El SuperbeastoTable 19Air Bud: Seventh Inning FetchUnder SuspicionAsterix vs. CaesarVivre Sa VieMarshlandFataleAirheadsThe United States of LelandMeruReturn to House on Haunted HillMaggie Simpson in The Longest DaycareFrost/NixonTed KA Lonely Place to DieWinter in WartimeBlack \\'47American GraffitiAn AffairSexy MovieThe Blackcoat\\'s DaughterXOXOSaving GraceDad\\'s ArmyDead Man DownTarzan the Ape ManHigh School of the Dead: Drifters of the DeadWarriors of the Rainbow: Seediq Bale - Part 2: The Rainbow BridgeSuburban GirlFinding ForresterStarred UpFull Body MassageNiko & the Way to the StarsMr. WoodcockVox LuxDid You Hear About the Morgans?In & Out1900Bagdad CafeThe Full MontyLost HorizonFoolproofBad JohnsonWorthTeam Thor: Part 2CrossfireAshes in the SnowIf Beale Street Could TalkElizabeth HarvestLavenderCrayon Shin-chan: Fierceness That Invites Storm! Me and the Space PrincessFor the Love of SpockDoraemon: Nobita and the Haunts of EvilThe Rescuers Down UnderTartToxic SharkPeggy Sue Got MarriedLaggiesCrayon Shin-chan: Honeymoon Hurricane ~The Lost Hiroshi~No One LivesMauriceHedgehog in the FogAnother WomanSomething to Talk AboutMonkey BusinessLassieClass of 1984MoebiusManou the SwiftColumbusFreaks – You\\'re One of UsKaiji: The Ultimate GamblerThe Midnight Meat TrainBreakfast on PlutoAn Inconvenient TruthThe Lazarus ProjectThe LibertineDiamantinoNaomi and Ely\\'s No Kiss ListHaute CuisineAngela\\'s AshesCat PeopleMinutemenSorry if I Love YouThe D TrainLaid to RestThe Making of SawHush... Hush, Sweet CharlotteBelle and SebastianGoodbye BerlinThe ExpressOne Night at McCool\\'sPomsThe ConformistThe Ottoman LieutenantBlindOne True ThingTINARashomonThe ReturnCaptain BloodAppointment with DeathOutpostEdge of FearDutchLupin the 3rdThomas and the Magic RailroadThe MexicanSharknado 5: Global SwarmingThe Young and Prodigious T.S. SpivetBody of LiesThe ScorePeople Like UsAlexander the GreatArctic PredatorFor Love of the GameThe 9th Life of Louis DraxBlack NarcissusMoonwalkerOur Souls at NightIn SecretThe Deaths of Ian StoneTo Die ForMy Love, My BrideTake ShelterRedsAmerican GigoloDead Man\\'s ShoesAutumn DreamsBlack SundayThe Fortune CookieJules and JimViva l\\'ItaliaPrayers for BobbyEarth vs. the Flying SaucersThe QuietudeLife or Something Like ItAshbyThe Kite RunnerImpetigoreThe Atticus InstituteI\\'m in Love With My Little SisterAll Is LostAmateur Porn Star Killer 2Unlawful EntryBadlandsViolent DelightsThe OfferingThe United States vs. Billie HolidayThreads'"
      ]
     },
     "execution_count": 22,
     "metadata": {},
     "output_type": "execute_result"
    }
   ],
   "source": [
    "df['Title'].unique().sum()"
   ]
  },
  {
   "cell_type": "code",
   "execution_count": 23,
   "id": "9b066908-8349-464c-97d3-81982d98bd48",
   "metadata": {},
   "outputs": [
    {
     "data": {
      "text/plain": [
       "Release_Date     100\n",
       "Title           9414\n",
       "Popularity      8087\n",
       "Vote_Count      3265\n",
       "Vote_Average       4\n",
       "Genre             19\n",
       "dtype: int64"
      ]
     },
     "execution_count": 23,
     "metadata": {},
     "output_type": "execute_result"
    }
   ],
   "source": [
    "df.nunique()"
   ]
  },
  {
   "cell_type": "markdown",
   "id": "1be5e95c-acb3-44ac-a60c-264a17d3841e",
   "metadata": {},
   "source": [
    "# **Data Visualization**\n",
    "\n",
    "*In here, I have used Matplotlib and Seaborn for making some informative visuals to gain insights abut our data*"
   ]
  },
  {
   "cell_type": "code",
   "execution_count": 24,
   "id": "53306336-f6a3-4258-885f-439bb4d342e0",
   "metadata": {},
   "outputs": [],
   "source": [
    "# Setting up Seaborn Configurations\n",
    "\n",
    "sns.set_style('whitegrid')"
   ]
  },
  {
   "cell_type": "code",
   "execution_count": 25,
   "id": "5e3e043a-f24c-458c-a121-8af1c5773bbe",
   "metadata": {},
   "outputs": [
    {
     "data": {
      "text/plain": [
       "count     25551\n",
       "unique       19\n",
       "top       Drama\n",
       "freq       3715\n",
       "Name: Genre, dtype: object"
      ]
     },
     "execution_count": 25,
     "metadata": {},
     "output_type": "execute_result"
    }
   ],
   "source": [
    "# Showing stats on Genre column\n",
    "\n",
    "df['Genre'].describe()"
   ]
  },
  {
   "cell_type": "markdown",
   "id": "48713f1c-e11c-40ee-bde2-a6d1fcec481d",
   "metadata": {},
   "source": [
    "**Q1: What is the most frequent genre in the dataset?**"
   ]
  },
  {
   "cell_type": "code",
   "execution_count": 26,
   "id": "588e5bdc-89e6-49a5-b66a-07552f4cba5c",
   "metadata": {},
   "outputs": [
    {
     "data": {
      "image/png": "[encoded data removed]",
      "text/plain": [
       "<Figure size 511.111x500 with 1 Axes>"
      ]
     },
     "metadata": {},
     "output_type": "display_data"
    }
   ],
   "source": [
    "# Visualizing Genre column\n",
    "\n",
    "sns.catplot(y = 'Genre', data = df, kind = 'count', order = df['Genre'].value_counts().index)\n",
    "plt.title('genre column distribution')\n",
    "plt.show()"
   ]
  },
  {
   "cell_type": "markdown",
   "id": "f0662fc5-2179-4b3d-8833-9724e5f66f48",
   "metadata": {},
   "source": [
    "*We can notice from the above visual that the Drama Genre is the most frequent genre in our dataset and has appeared more than 14% of the times among 19 other genres.*"
   ]
  },
  {
   "cell_type": "markdown",
   "id": "9351f69f-59c6-46b8-adb1-fe46b0da9c28",
   "metadata": {},
   "source": [
    "**Q2: What Genres have the highest votes?**"
   ]
  },
  {
   "cell_type": "code",
   "execution_count": 27,
   "id": "ddbfee3a-75a6-4fff-926f-5cb7ff52f5e2",
   "metadata": {},
   "outputs": [
    {
     "data": {
      "image/png": "[encoded data removed]",
      "text/plain": [
       "<Figure size 511.111x500 with 1 Axes>"
      ]
     },
     "metadata": {},
     "output_type": "display_data"
    }
   ],
   "source": [
    "# Visualizing vote_average column\n",
    "\n",
    "sns.catplot(y = 'Vote_Average', data = df, kind = 'count', order = df['Vote_Average'].value_counts().index)\n",
    "plt.title('votes column distribution')\n",
    "plt.show()"
   ]
  },
  {
   "cell_type": "markdown",
   "id": "e430d5ea-cefa-48e6-b22a-b0f0818e84fc",
   "metadata": {},
   "source": [
    "**Q3: What movie got the highest popularity? What's its Genre?**"
   ]
  },
  {
   "cell_type": "code",
   "execution_count": 28,
   "id": "7cb4ffb6-1f77-418c-b94c-bcdc8431c7ba",
   "metadata": {},
   "outputs": [
    {
     "data": {
      "text/html": [
       "<div>\n",
       "<style scoped>\n",
       "    .dataframe tbody tr th:only-of-type {\n",
       "        vertical-align: middle;\n",
       "    }\n",
       "\n",
       "    .dataframe tbody tr th {\n",
       "        vertical-align: top;\n",
       "    }\n",
       "\n",
       "    .dataframe thead th {\n",
       "        text-align: right;\n",
       "    }\n",
       "</style>\n",
       "<table border=\"1\" class=\"dataframe\">\n",
       "  <thead>\n",
       "    <tr style=\"text-align: right;\">\n",
       "      <th></th>\n",
       "      <th>Release_Date</th>\n",
       "      <th>Title</th>\n",
       "      <th>Popularity</th>\n",
       "      <th>Vote_Count</th>\n",
       "      <th>Vote_Average</th>\n",
       "      <th>Genre</th>\n",
       "    </tr>\n",
       "  </thead>\n",
       "  <tbody>\n",
       "    <tr>\n",
       "      <th>0</th>\n",
       "      <td>2021</td>\n",
       "      <td>Spider-Man: No Way Home</td>\n",
       "      <td>5083.954</td>\n",
       "      <td>8940.0</td>\n",
       "      <td>Hit</td>\n",
       "      <td>Action</td>\n",
       "    </tr>\n",
       "    <tr>\n",
       "      <th>1</th>\n",
       "      <td>2021</td>\n",
       "      <td>Spider-Man: No Way Home</td>\n",
       "      <td>5083.954</td>\n",
       "      <td>8940.0</td>\n",
       "      <td>Hit</td>\n",
       "      <td>Adventure</td>\n",
       "    </tr>\n",
       "    <tr>\n",
       "      <th>2</th>\n",
       "      <td>2021</td>\n",
       "      <td>Spider-Man: No Way Home</td>\n",
       "      <td>5083.954</td>\n",
       "      <td>8940.0</td>\n",
       "      <td>Hit</td>\n",
       "      <td>Science Fiction</td>\n",
       "    </tr>\n",
       "  </tbody>\n",
       "</table>\n",
       "</div>"
      ],
      "text/plain": [
       "   Release_Date                    Title  Popularity  Vote_Count Vote_Average  \\\n",
       "0          2021  Spider-Man: No Way Home    5083.954      8940.0          Hit   \n",
       "1          2021  Spider-Man: No Way Home    5083.954      8940.0          Hit   \n",
       "2          2021  Spider-Man: No Way Home    5083.954      8940.0          Hit   \n",
       "\n",
       "             Genre  \n",
       "0           Action  \n",
       "1        Adventure  \n",
       "2  Science Fiction  "
      ]
     },
     "execution_count": 28,
     "metadata": {},
     "output_type": "execute_result"
    }
   ],
   "source": [
    "# Checking Max Popularity in dataset\n",
    "\n",
    "df[df['Popularity'] == df['Popularity'].max()]"
   ]
  },
  {
   "cell_type": "markdown",
   "id": "1983961b-7341-4c3b-96fe-777605dfc03d",
   "metadata": {},
   "source": [
    "**Q4: What movie got the lowest popularity? What's its Genre?**"
   ]
  },
  {
   "cell_type": "code",
   "execution_count": 29,
   "id": "d2ab3a9e-b5f1-4628-b6fc-9c38a8933c7a",
   "metadata": {},
   "outputs": [
    {
     "data": {
      "text/html": [
       "<div>\n",
       "<style scoped>\n",
       "    .dataframe tbody tr th:only-of-type {\n",
       "        vertical-align: middle;\n",
       "    }\n",
       "\n",
       "    .dataframe tbody tr th {\n",
       "        vertical-align: top;\n",
       "    }\n",
       "\n",
       "    .dataframe thead th {\n",
       "        text-align: right;\n",
       "    }\n",
       "</style>\n",
       "<table border=\"1\" class=\"dataframe\">\n",
       "  <thead>\n",
       "    <tr style=\"text-align: right;\">\n",
       "      <th></th>\n",
       "      <th>Release_Date</th>\n",
       "      <th>Title</th>\n",
       "      <th>Popularity</th>\n",
       "      <th>Vote_Count</th>\n",
       "      <th>Vote_Average</th>\n",
       "      <th>Genre</th>\n",
       "    </tr>\n",
       "  </thead>\n",
       "  <tbody>\n",
       "    <tr>\n",
       "      <th>25545</th>\n",
       "      <td>2021</td>\n",
       "      <td>The United States vs. Billie Holiday</td>\n",
       "      <td>13.354</td>\n",
       "      <td>152.0</td>\n",
       "      <td>Average</td>\n",
       "      <td>Music</td>\n",
       "    </tr>\n",
       "    <tr>\n",
       "      <th>25546</th>\n",
       "      <td>2021</td>\n",
       "      <td>The United States vs. Billie Holiday</td>\n",
       "      <td>13.354</td>\n",
       "      <td>152.0</td>\n",
       "      <td>Average</td>\n",
       "      <td>Drama</td>\n",
       "    </tr>\n",
       "    <tr>\n",
       "      <th>25547</th>\n",
       "      <td>2021</td>\n",
       "      <td>The United States vs. Billie Holiday</td>\n",
       "      <td>13.354</td>\n",
       "      <td>152.0</td>\n",
       "      <td>Average</td>\n",
       "      <td>History</td>\n",
       "    </tr>\n",
       "    <tr>\n",
       "      <th>25548</th>\n",
       "      <td>1984</td>\n",
       "      <td>Threads</td>\n",
       "      <td>13.354</td>\n",
       "      <td>186.0</td>\n",
       "      <td>Hit</td>\n",
       "      <td>War</td>\n",
       "    </tr>\n",
       "    <tr>\n",
       "      <th>25549</th>\n",
       "      <td>1984</td>\n",
       "      <td>Threads</td>\n",
       "      <td>13.354</td>\n",
       "      <td>186.0</td>\n",
       "      <td>Hit</td>\n",
       "      <td>Drama</td>\n",
       "    </tr>\n",
       "    <tr>\n",
       "      <th>25550</th>\n",
       "      <td>1984</td>\n",
       "      <td>Threads</td>\n",
       "      <td>13.354</td>\n",
       "      <td>186.0</td>\n",
       "      <td>Hit</td>\n",
       "      <td>Science Fiction</td>\n",
       "    </tr>\n",
       "  </tbody>\n",
       "</table>\n",
       "</div>"
      ],
      "text/plain": [
       "       Release_Date                                 Title  Popularity  \\\n",
       "25545          2021  The United States vs. Billie Holiday      13.354   \n",
       "25546          2021  The United States vs. Billie Holiday      13.354   \n",
       "25547          2021  The United States vs. Billie Holiday      13.354   \n",
       "25548          1984                               Threads      13.354   \n",
       "25549          1984                               Threads      13.354   \n",
       "25550          1984                               Threads      13.354   \n",
       "\n",
       "       Vote_Count Vote_Average            Genre  \n",
       "25545       152.0      Average            Music  \n",
       "25546       152.0      Average            Drama  \n",
       "25547       152.0      Average          History  \n",
       "25548       186.0          Hit              War  \n",
       "25549       186.0          Hit            Drama  \n",
       "25550       186.0          Hit  Science Fiction  "
      ]
     },
     "execution_count": 29,
     "metadata": {},
     "output_type": "execute_result"
    }
   ],
   "source": [
    "# Checking Min Popularity in dataset\n",
    "\n",
    "df[df['Popularity'] == df['Popularity'].min()]"
   ]
  },
  {
   "cell_type": "markdown",
   "id": "8ce41292-42c5-4479-bf6d-5ee68b9c6268",
   "metadata": {},
   "source": [
    "**Q5: Which year has the most filmmed movies?**"
   ]
  },
  {
   "cell_type": "code",
   "execution_count": 30,
   "id": "6d8b3a30-986e-4ece-b972-80312a927709",
   "metadata": {},
   "outputs": [
    {
     "data": {
      "image/png": "[encoded data removed]",
      "text/plain": [
       "<Figure size 640x480 with 1 Axes>"
      ]
     },
     "metadata": {},
     "output_type": "display_data"
    }
   ],
   "source": [
    "# Checking movie Release dates in dataset\n",
    "\n",
    "df['Release_Date'].hist()\n",
    "plt.title('Release_Date column distribution')\n",
    "plt.show()"
   ]
  },
  {
   "cell_type": "markdown",
   "id": "97216e89-3521-4cd6-9949-bd569edb22d7",
   "metadata": {},
   "source": [
    "# **Conclusion**"
   ]
  },
  {
   "attachments": {},
   "cell_type": "markdown",
   "id": "3f5fe38d-e565-4df0-b964-a98826aece32",
   "metadata": {},
   "source": [
    "***Q1: What is the most frequent genre in the dataset?***"
   ]
  },
  {
   "cell_type": "markdown",
   "id": "656a7a11-15d5-4c90-87d0-bea693b24bb8",
   "metadata": {},
   "source": [
    "***The drama genre is the most frequent in our dataset and has appeared more than 14% of the times among 19 other Genres.***"
   ]
  },
  {
   "cell_type": "markdown",
   "id": "5e15aca4-40e6-40fc-b4a0-ff8152c742c3",
   "metadata": {},
   "source": [
    "***Q2: What genres have the highest votes?***"
   ]
  },
  {
   "cell_type": "markdown",
   "id": "7dbbf56c-955b-4e8e-b225-468079479649",
   "metadata": {},
   "source": [
    "***We have 25.5% of our dataset with the popular vote (6520 rows). Drama again has the highest popularity among fans, having more than 18.5% movie popularity.***"
   ]
  },
  {
   "cell_type": "markdown",
   "id": "e8623814-e5ac-485f-8139-3f2d09169e15",
   "metadata": {},
   "source": [
    "***Q3: What movie got the highest popularity? What's its genre?***"
   ]
  },
  {
   "cell_type": "markdown",
   "id": "b354c64c-2a25-4413-96b2-f6577ac85bd0",
   "metadata": {},
   "source": [
    "***Spider-Man: No Way Home has the highest popularity rate in our dataset, and it has the genres of Action, Adventure and Science-fiction.***"
   ]
  },
  {
   "cell_type": "markdown",
   "id": "0f47e349-7e87-4771-9230-910dc050c351",
   "metadata": {},
   "source": [
    "***Q4: What movie got the lowest popularity? What's its genre?***"
   ]
  },
  {
   "cell_type": "markdown",
   "id": "aea26523-4459-47b5-a4e6-c8ae1aa98080",
   "metadata": {},
   "source": [
    "***The United States thread has the highest lowest rate in our dataset, and it has genres of music, drama, war, sci-fi and history.***"
   ]
  },
  {
   "cell_type": "markdown",
   "id": "04cdec15-c01c-4260-83de-d91040b89302",
   "metadata": {},
   "source": [
    "***Q5: Which year has the most filmed movies?***"
   ]
  },
  {
   "cell_type": "markdown",
   "id": "72fcca5a-9260-4fb9-89a2-da791d998572",
   "metadata": {},
   "source": [
    "***The year 2020 has the highest filmming rate in our dataset.***"
   ]
  },
  {
   "cell_type": "code",
   "execution_count": null,
   "id": "7a856a66-5080-4cfe-abe4-765e0f8529b0",
   "metadata": {},
   "outputs": [],
   "source": []
  },
  {
   "cell_type": "code",
   "execution_count": null,
   "id": "287c9470-716c-4c22-81ec-12bb5aac1866",
   "metadata": {},
   "outputs": [],
   "source": []
  }
 ],
 "metadata": {
  "kernelspec": {
   "display_name": "Python 3 (ipykernel)",
   "language": "python",
   "name": "python3"
  },
  "language_info": {
   "codemirror_mode": {
    "name": "ipython",
    "version": 3
   },
   "file_extension": ".py",
   "mimetype": "text/x-python",
   "name": "python",
   "nbconvert_exporter": "python",
   "pygments_lexer": "ipython3",
   "version": "3.12.7"
  }
 },
 "nbformat": 4,
 "nbformat_minor": 5
}
